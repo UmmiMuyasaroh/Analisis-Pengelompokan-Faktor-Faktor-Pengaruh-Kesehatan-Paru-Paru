{
  "nbformat": 4,
  "nbformat_minor": 0,
  "metadata": {
    "colab": {
      "provenance": []
    },
    "kernelspec": {
      "name": "python3",
      "display_name": "Python 3"
    },
    "language_info": {
      "name": "python"
    }
  },
  "cells": [
    {
      "cell_type": "code",
      "execution_count": null,
      "metadata": {
        "id": "M8M5_q3AEEdV"
      },
      "outputs": [],
      "source": [
        "# Import library yang diperlukan\n",
        "import pandas as pd\n",
        "from sklearn.model_selection import train_test_split\n",
        "from sklearn.preprocessing import StandardScaler\n",
        "from sklearn.svm import SVC\n",
        "from sklearn.metrics import accuracy_score, classification_report, confusion_matrix\n",
        "import matplotlib.pyplot as plt\n",
        "import numpy as np\n",
        "import seaborn as sns"
      ]
    },
    {
      "cell_type": "code",
      "source": [
        "# Baca dataset\n",
        "df = pd.read_csv('/content/lung_cancer.csv')"
      ],
      "metadata": {
        "id": "tvWKVifUFFs1"
      },
      "execution_count": null,
      "outputs": []
    },
    {
      "cell_type": "code",
      "source": [
        "df.head()"
      ],
      "metadata": {
        "colab": {
          "base_uri": "https://localhost:8080/",
          "height": 224
        },
        "id": "Bexx-Z_bFSu_",
        "outputId": "aefda2ae-57bc-4ea3-a91f-69980d9c6ec7"
      },
      "execution_count": null,
      "outputs": [
        {
          "output_type": "execute_result",
          "data": {
            "text/plain": [
              "  GENDER  AGE  SMOKING  YELLOW_FINGERS  ANXIETY  PEER_PRESSURE  \\\n",
              "0      M   69        1               2        2              1   \n",
              "1      M   74        2               1        1              1   \n",
              "2      F   59        1               1        1              2   \n",
              "3      M   63        2               2        2              1   \n",
              "4      F   63        1               2        1              1   \n",
              "\n",
              "   CHRONIC DISEASE  FATIGUE   ALLERGY   WHEEZING  ALCOHOL CONSUMING  COUGHING  \\\n",
              "0                1         2         1         2                  2         2   \n",
              "1                2         2         2         1                  1         1   \n",
              "2                1         2         1         2                  1         2   \n",
              "3                1         1         1         1                  2         1   \n",
              "4                1         1         1         2                  1         2   \n",
              "\n",
              "   SHORTNESS OF BREATH  SWALLOWING DIFFICULTY  CHEST PAIN LUNG_CANCER  \n",
              "0                    2                      2           2         YES  \n",
              "1                    2                      2           2         YES  \n",
              "2                    2                      1           2          NO  \n",
              "3                    1                      2           2          NO  \n",
              "4                    2                      1           1          NO  "
            ],
            "text/html": [
              "\n",
              "  <div id=\"df-aa479bdb-6af9-4c28-be97-1eef775572d7\" class=\"colab-df-container\">\n",
              "    <div>\n",
              "<style scoped>\n",
              "    .dataframe tbody tr th:only-of-type {\n",
              "        vertical-align: middle;\n",
              "    }\n",
              "\n",
              "    .dataframe tbody tr th {\n",
              "        vertical-align: top;\n",
              "    }\n",
              "\n",
              "    .dataframe thead th {\n",
              "        text-align: right;\n",
              "    }\n",
              "</style>\n",
              "<table border=\"1\" class=\"dataframe\">\n",
              "  <thead>\n",
              "    <tr style=\"text-align: right;\">\n",
              "      <th></th>\n",
              "      <th>GENDER</th>\n",
              "      <th>AGE</th>\n",
              "      <th>SMOKING</th>\n",
              "      <th>YELLOW_FINGERS</th>\n",
              "      <th>ANXIETY</th>\n",
              "      <th>PEER_PRESSURE</th>\n",
              "      <th>CHRONIC DISEASE</th>\n",
              "      <th>FATIGUE</th>\n",
              "      <th>ALLERGY</th>\n",
              "      <th>WHEEZING</th>\n",
              "      <th>ALCOHOL CONSUMING</th>\n",
              "      <th>COUGHING</th>\n",
              "      <th>SHORTNESS OF BREATH</th>\n",
              "      <th>SWALLOWING DIFFICULTY</th>\n",
              "      <th>CHEST PAIN</th>\n",
              "      <th>LUNG_CANCER</th>\n",
              "    </tr>\n",
              "  </thead>\n",
              "  <tbody>\n",
              "    <tr>\n",
              "      <th>0</th>\n",
              "      <td>M</td>\n",
              "      <td>69</td>\n",
              "      <td>1</td>\n",
              "      <td>2</td>\n",
              "      <td>2</td>\n",
              "      <td>1</td>\n",
              "      <td>1</td>\n",
              "      <td>2</td>\n",
              "      <td>1</td>\n",
              "      <td>2</td>\n",
              "      <td>2</td>\n",
              "      <td>2</td>\n",
              "      <td>2</td>\n",
              "      <td>2</td>\n",
              "      <td>2</td>\n",
              "      <td>YES</td>\n",
              "    </tr>\n",
              "    <tr>\n",
              "      <th>1</th>\n",
              "      <td>M</td>\n",
              "      <td>74</td>\n",
              "      <td>2</td>\n",
              "      <td>1</td>\n",
              "      <td>1</td>\n",
              "      <td>1</td>\n",
              "      <td>2</td>\n",
              "      <td>2</td>\n",
              "      <td>2</td>\n",
              "      <td>1</td>\n",
              "      <td>1</td>\n",
              "      <td>1</td>\n",
              "      <td>2</td>\n",
              "      <td>2</td>\n",
              "      <td>2</td>\n",
              "      <td>YES</td>\n",
              "    </tr>\n",
              "    <tr>\n",
              "      <th>2</th>\n",
              "      <td>F</td>\n",
              "      <td>59</td>\n",
              "      <td>1</td>\n",
              "      <td>1</td>\n",
              "      <td>1</td>\n",
              "      <td>2</td>\n",
              "      <td>1</td>\n",
              "      <td>2</td>\n",
              "      <td>1</td>\n",
              "      <td>2</td>\n",
              "      <td>1</td>\n",
              "      <td>2</td>\n",
              "      <td>2</td>\n",
              "      <td>1</td>\n",
              "      <td>2</td>\n",
              "      <td>NO</td>\n",
              "    </tr>\n",
              "    <tr>\n",
              "      <th>3</th>\n",
              "      <td>M</td>\n",
              "      <td>63</td>\n",
              "      <td>2</td>\n",
              "      <td>2</td>\n",
              "      <td>2</td>\n",
              "      <td>1</td>\n",
              "      <td>1</td>\n",
              "      <td>1</td>\n",
              "      <td>1</td>\n",
              "      <td>1</td>\n",
              "      <td>2</td>\n",
              "      <td>1</td>\n",
              "      <td>1</td>\n",
              "      <td>2</td>\n",
              "      <td>2</td>\n",
              "      <td>NO</td>\n",
              "    </tr>\n",
              "    <tr>\n",
              "      <th>4</th>\n",
              "      <td>F</td>\n",
              "      <td>63</td>\n",
              "      <td>1</td>\n",
              "      <td>2</td>\n",
              "      <td>1</td>\n",
              "      <td>1</td>\n",
              "      <td>1</td>\n",
              "      <td>1</td>\n",
              "      <td>1</td>\n",
              "      <td>2</td>\n",
              "      <td>1</td>\n",
              "      <td>2</td>\n",
              "      <td>2</td>\n",
              "      <td>1</td>\n",
              "      <td>1</td>\n",
              "      <td>NO</td>\n",
              "    </tr>\n",
              "  </tbody>\n",
              "</table>\n",
              "</div>\n",
              "    <div class=\"colab-df-buttons\">\n",
              "\n",
              "  <div class=\"colab-df-container\">\n",
              "    <button class=\"colab-df-convert\" onclick=\"convertToInteractive('df-aa479bdb-6af9-4c28-be97-1eef775572d7')\"\n",
              "            title=\"Convert this dataframe to an interactive table.\"\n",
              "            style=\"display:none;\">\n",
              "\n",
              "  <svg xmlns=\"http://www.w3.org/2000/svg\" height=\"24px\" viewBox=\"0 -960 960 960\">\n",
              "    <path d=\"M120-120v-720h720v720H120Zm60-500h600v-160H180v160Zm220 220h160v-160H400v160Zm0 220h160v-160H400v160ZM180-400h160v-160H180v160Zm440 0h160v-160H620v160ZM180-180h160v-160H180v160Zm440 0h160v-160H620v160Z\"/>\n",
              "  </svg>\n",
              "    </button>\n",
              "\n",
              "  <style>\n",
              "    .colab-df-container {\n",
              "      display:flex;\n",
              "      gap: 12px;\n",
              "    }\n",
              "\n",
              "    .colab-df-convert {\n",
              "      background-color: #E8F0FE;\n",
              "      border: none;\n",
              "      border-radius: 50%;\n",
              "      cursor: pointer;\n",
              "      display: none;\n",
              "      fill: #1967D2;\n",
              "      height: 32px;\n",
              "      padding: 0 0 0 0;\n",
              "      width: 32px;\n",
              "    }\n",
              "\n",
              "    .colab-df-convert:hover {\n",
              "      background-color: #E2EBFA;\n",
              "      box-shadow: 0px 1px 2px rgba(60, 64, 67, 0.3), 0px 1px 3px 1px rgba(60, 64, 67, 0.15);\n",
              "      fill: #174EA6;\n",
              "    }\n",
              "\n",
              "    .colab-df-buttons div {\n",
              "      margin-bottom: 4px;\n",
              "    }\n",
              "\n",
              "    [theme=dark] .colab-df-convert {\n",
              "      background-color: #3B4455;\n",
              "      fill: #D2E3FC;\n",
              "    }\n",
              "\n",
              "    [theme=dark] .colab-df-convert:hover {\n",
              "      background-color: #434B5C;\n",
              "      box-shadow: 0px 1px 3px 1px rgba(0, 0, 0, 0.15);\n",
              "      filter: drop-shadow(0px 1px 2px rgba(0, 0, 0, 0.3));\n",
              "      fill: #FFFFFF;\n",
              "    }\n",
              "  </style>\n",
              "\n",
              "    <script>\n",
              "      const buttonEl =\n",
              "        document.querySelector('#df-aa479bdb-6af9-4c28-be97-1eef775572d7 button.colab-df-convert');\n",
              "      buttonEl.style.display =\n",
              "        google.colab.kernel.accessAllowed ? 'block' : 'none';\n",
              "\n",
              "      async function convertToInteractive(key) {\n",
              "        const element = document.querySelector('#df-aa479bdb-6af9-4c28-be97-1eef775572d7');\n",
              "        const dataTable =\n",
              "          await google.colab.kernel.invokeFunction('convertToInteractive',\n",
              "                                                    [key], {});\n",
              "        if (!dataTable) return;\n",
              "\n",
              "        const docLinkHtml = 'Like what you see? Visit the ' +\n",
              "          '<a target=\"_blank\" href=https://colab.research.google.com/notebooks/data_table.ipynb>data table notebook</a>'\n",
              "          + ' to learn more about interactive tables.';\n",
              "        element.innerHTML = '';\n",
              "        dataTable['output_type'] = 'display_data';\n",
              "        await google.colab.output.renderOutput(dataTable, element);\n",
              "        const docLink = document.createElement('div');\n",
              "        docLink.innerHTML = docLinkHtml;\n",
              "        element.appendChild(docLink);\n",
              "      }\n",
              "    </script>\n",
              "  </div>\n",
              "\n",
              "\n",
              "<div id=\"df-9e2f4efd-e17a-4a13-89f9-d882ea420174\">\n",
              "  <button class=\"colab-df-quickchart\" onclick=\"quickchart('df-9e2f4efd-e17a-4a13-89f9-d882ea420174')\"\n",
              "            title=\"Suggest charts\"\n",
              "            style=\"display:none;\">\n",
              "\n",
              "<svg xmlns=\"http://www.w3.org/2000/svg\" height=\"24px\"viewBox=\"0 0 24 24\"\n",
              "     width=\"24px\">\n",
              "    <g>\n",
              "        <path d=\"M19 3H5c-1.1 0-2 .9-2 2v14c0 1.1.9 2 2 2h14c1.1 0 2-.9 2-2V5c0-1.1-.9-2-2-2zM9 17H7v-7h2v7zm4 0h-2V7h2v10zm4 0h-2v-4h2v4z\"/>\n",
              "    </g>\n",
              "</svg>\n",
              "  </button>\n",
              "\n",
              "<style>\n",
              "  .colab-df-quickchart {\n",
              "      --bg-color: #E8F0FE;\n",
              "      --fill-color: #1967D2;\n",
              "      --hover-bg-color: #E2EBFA;\n",
              "      --hover-fill-color: #174EA6;\n",
              "      --disabled-fill-color: #AAA;\n",
              "      --disabled-bg-color: #DDD;\n",
              "  }\n",
              "\n",
              "  [theme=dark] .colab-df-quickchart {\n",
              "      --bg-color: #3B4455;\n",
              "      --fill-color: #D2E3FC;\n",
              "      --hover-bg-color: #434B5C;\n",
              "      --hover-fill-color: #FFFFFF;\n",
              "      --disabled-bg-color: #3B4455;\n",
              "      --disabled-fill-color: #666;\n",
              "  }\n",
              "\n",
              "  .colab-df-quickchart {\n",
              "    background-color: var(--bg-color);\n",
              "    border: none;\n",
              "    border-radius: 50%;\n",
              "    cursor: pointer;\n",
              "    display: none;\n",
              "    fill: var(--fill-color);\n",
              "    height: 32px;\n",
              "    padding: 0;\n",
              "    width: 32px;\n",
              "  }\n",
              "\n",
              "  .colab-df-quickchart:hover {\n",
              "    background-color: var(--hover-bg-color);\n",
              "    box-shadow: 0 1px 2px rgba(60, 64, 67, 0.3), 0 1px 3px 1px rgba(60, 64, 67, 0.15);\n",
              "    fill: var(--button-hover-fill-color);\n",
              "  }\n",
              "\n",
              "  .colab-df-quickchart-complete:disabled,\n",
              "  .colab-df-quickchart-complete:disabled:hover {\n",
              "    background-color: var(--disabled-bg-color);\n",
              "    fill: var(--disabled-fill-color);\n",
              "    box-shadow: none;\n",
              "  }\n",
              "\n",
              "  .colab-df-spinner {\n",
              "    border: 2px solid var(--fill-color);\n",
              "    border-color: transparent;\n",
              "    border-bottom-color: var(--fill-color);\n",
              "    animation:\n",
              "      spin 1s steps(1) infinite;\n",
              "  }\n",
              "\n",
              "  @keyframes spin {\n",
              "    0% {\n",
              "      border-color: transparent;\n",
              "      border-bottom-color: var(--fill-color);\n",
              "      border-left-color: var(--fill-color);\n",
              "    }\n",
              "    20% {\n",
              "      border-color: transparent;\n",
              "      border-left-color: var(--fill-color);\n",
              "      border-top-color: var(--fill-color);\n",
              "    }\n",
              "    30% {\n",
              "      border-color: transparent;\n",
              "      border-left-color: var(--fill-color);\n",
              "      border-top-color: var(--fill-color);\n",
              "      border-right-color: var(--fill-color);\n",
              "    }\n",
              "    40% {\n",
              "      border-color: transparent;\n",
              "      border-right-color: var(--fill-color);\n",
              "      border-top-color: var(--fill-color);\n",
              "    }\n",
              "    60% {\n",
              "      border-color: transparent;\n",
              "      border-right-color: var(--fill-color);\n",
              "    }\n",
              "    80% {\n",
              "      border-color: transparent;\n",
              "      border-right-color: var(--fill-color);\n",
              "      border-bottom-color: var(--fill-color);\n",
              "    }\n",
              "    90% {\n",
              "      border-color: transparent;\n",
              "      border-bottom-color: var(--fill-color);\n",
              "    }\n",
              "  }\n",
              "</style>\n",
              "\n",
              "  <script>\n",
              "    async function quickchart(key) {\n",
              "      const quickchartButtonEl =\n",
              "        document.querySelector('#' + key + ' button');\n",
              "      quickchartButtonEl.disabled = true;  // To prevent multiple clicks.\n",
              "      quickchartButtonEl.classList.add('colab-df-spinner');\n",
              "      try {\n",
              "        const charts = await google.colab.kernel.invokeFunction(\n",
              "            'suggestCharts', [key], {});\n",
              "      } catch (error) {\n",
              "        console.error('Error during call to suggestCharts:', error);\n",
              "      }\n",
              "      quickchartButtonEl.classList.remove('colab-df-spinner');\n",
              "      quickchartButtonEl.classList.add('colab-df-quickchart-complete');\n",
              "    }\n",
              "    (() => {\n",
              "      let quickchartButtonEl =\n",
              "        document.querySelector('#df-9e2f4efd-e17a-4a13-89f9-d882ea420174 button');\n",
              "      quickchartButtonEl.style.display =\n",
              "        google.colab.kernel.accessAllowed ? 'block' : 'none';\n",
              "    })();\n",
              "  </script>\n",
              "</div>\n",
              "    </div>\n",
              "  </div>\n"
            ]
          },
          "metadata": {},
          "execution_count": 3
        }
      ]
    },
    {
      "cell_type": "code",
      "source": [
        "df.info()"
      ],
      "metadata": {
        "colab": {
          "base_uri": "https://localhost:8080/"
        },
        "id": "NBA_phJNF3qP",
        "outputId": "6e7c9c52-2437-4db3-e030-c76c8ffd5a06"
      },
      "execution_count": null,
      "outputs": [
        {
          "output_type": "stream",
          "name": "stdout",
          "text": [
            "<class 'pandas.core.frame.DataFrame'>\n",
            "RangeIndex: 309 entries, 0 to 308\n",
            "Data columns (total 16 columns):\n",
            " #   Column                 Non-Null Count  Dtype \n",
            "---  ------                 --------------  ----- \n",
            " 0   GENDER                 309 non-null    object\n",
            " 1   AGE                    309 non-null    int64 \n",
            " 2   SMOKING                309 non-null    int64 \n",
            " 3   YELLOW_FINGERS         309 non-null    int64 \n",
            " 4   ANXIETY                309 non-null    int64 \n",
            " 5   PEER_PRESSURE          309 non-null    int64 \n",
            " 6   CHRONIC DISEASE        309 non-null    int64 \n",
            " 7   FATIGUE                309 non-null    int64 \n",
            " 8   ALLERGY                309 non-null    int64 \n",
            " 9   WHEEZING               309 non-null    int64 \n",
            " 10  ALCOHOL CONSUMING      309 non-null    int64 \n",
            " 11  COUGHING               309 non-null    int64 \n",
            " 12  SHORTNESS OF BREATH    309 non-null    int64 \n",
            " 13  SWALLOWING DIFFICULTY  309 non-null    int64 \n",
            " 14  CHEST PAIN             309 non-null    int64 \n",
            " 15  LUNG_CANCER            309 non-null    object\n",
            "dtypes: int64(14), object(2)\n",
            "memory usage: 38.8+ KB\n"
          ]
        }
      ]
    },
    {
      "cell_type": "code",
      "source": [
        "df.describe()"
      ],
      "metadata": {
        "colab": {
          "base_uri": "https://localhost:8080/",
          "height": 318
        },
        "id": "o66jFP3dF5wU",
        "outputId": "df9cd1bb-c68b-4d3a-a7ac-832d0de891d3"
      },
      "execution_count": null,
      "outputs": [
        {
          "output_type": "execute_result",
          "data": {
            "text/plain": [
              "              AGE     SMOKING  YELLOW_FINGERS     ANXIETY  PEER_PRESSURE  \\\n",
              "count  309.000000  309.000000      309.000000  309.000000     309.000000   \n",
              "mean    62.673139    1.563107        1.569579    1.498382       1.501618   \n",
              "std      8.210301    0.496806        0.495938    0.500808       0.500808   \n",
              "min     21.000000    1.000000        1.000000    1.000000       1.000000   \n",
              "25%     57.000000    1.000000        1.000000    1.000000       1.000000   \n",
              "50%     62.000000    2.000000        2.000000    1.000000       2.000000   \n",
              "75%     69.000000    2.000000        2.000000    2.000000       2.000000   \n",
              "max     87.000000    2.000000        2.000000    2.000000       2.000000   \n",
              "\n",
              "       CHRONIC DISEASE    FATIGUE     ALLERGY     WHEEZING  ALCOHOL CONSUMING  \\\n",
              "count       309.000000  309.000000  309.000000  309.000000         309.000000   \n",
              "mean          1.504854    1.673139    1.556634    1.556634           1.556634   \n",
              "std           0.500787    0.469827    0.497588    0.497588           0.497588   \n",
              "min           1.000000    1.000000    1.000000    1.000000           1.000000   \n",
              "25%           1.000000    1.000000    1.000000    1.000000           1.000000   \n",
              "50%           2.000000    2.000000    2.000000    2.000000           2.000000   \n",
              "75%           2.000000    2.000000    2.000000    2.000000           2.000000   \n",
              "max           2.000000    2.000000    2.000000    2.000000           2.000000   \n",
              "\n",
              "         COUGHING  SHORTNESS OF BREATH  SWALLOWING DIFFICULTY  CHEST PAIN  \n",
              "count  309.000000           309.000000             309.000000  309.000000  \n",
              "mean     1.579288             1.640777               1.469256    1.556634  \n",
              "std      0.494474             0.480551               0.499863    0.497588  \n",
              "min      1.000000             1.000000               1.000000    1.000000  \n",
              "25%      1.000000             1.000000               1.000000    1.000000  \n",
              "50%      2.000000             2.000000               1.000000    2.000000  \n",
              "75%      2.000000             2.000000               2.000000    2.000000  \n",
              "max      2.000000             2.000000               2.000000    2.000000  "
            ],
            "text/html": [
              "\n",
              "  <div id=\"df-d80872bb-431a-4484-b594-214875064d55\" class=\"colab-df-container\">\n",
              "    <div>\n",
              "<style scoped>\n",
              "    .dataframe tbody tr th:only-of-type {\n",
              "        vertical-align: middle;\n",
              "    }\n",
              "\n",
              "    .dataframe tbody tr th {\n",
              "        vertical-align: top;\n",
              "    }\n",
              "\n",
              "    .dataframe thead th {\n",
              "        text-align: right;\n",
              "    }\n",
              "</style>\n",
              "<table border=\"1\" class=\"dataframe\">\n",
              "  <thead>\n",
              "    <tr style=\"text-align: right;\">\n",
              "      <th></th>\n",
              "      <th>AGE</th>\n",
              "      <th>SMOKING</th>\n",
              "      <th>YELLOW_FINGERS</th>\n",
              "      <th>ANXIETY</th>\n",
              "      <th>PEER_PRESSURE</th>\n",
              "      <th>CHRONIC DISEASE</th>\n",
              "      <th>FATIGUE</th>\n",
              "      <th>ALLERGY</th>\n",
              "      <th>WHEEZING</th>\n",
              "      <th>ALCOHOL CONSUMING</th>\n",
              "      <th>COUGHING</th>\n",
              "      <th>SHORTNESS OF BREATH</th>\n",
              "      <th>SWALLOWING DIFFICULTY</th>\n",
              "      <th>CHEST PAIN</th>\n",
              "    </tr>\n",
              "  </thead>\n",
              "  <tbody>\n",
              "    <tr>\n",
              "      <th>count</th>\n",
              "      <td>309.000000</td>\n",
              "      <td>309.000000</td>\n",
              "      <td>309.000000</td>\n",
              "      <td>309.000000</td>\n",
              "      <td>309.000000</td>\n",
              "      <td>309.000000</td>\n",
              "      <td>309.000000</td>\n",
              "      <td>309.000000</td>\n",
              "      <td>309.000000</td>\n",
              "      <td>309.000000</td>\n",
              "      <td>309.000000</td>\n",
              "      <td>309.000000</td>\n",
              "      <td>309.000000</td>\n",
              "      <td>309.000000</td>\n",
              "    </tr>\n",
              "    <tr>\n",
              "      <th>mean</th>\n",
              "      <td>62.673139</td>\n",
              "      <td>1.563107</td>\n",
              "      <td>1.569579</td>\n",
              "      <td>1.498382</td>\n",
              "      <td>1.501618</td>\n",
              "      <td>1.504854</td>\n",
              "      <td>1.673139</td>\n",
              "      <td>1.556634</td>\n",
              "      <td>1.556634</td>\n",
              "      <td>1.556634</td>\n",
              "      <td>1.579288</td>\n",
              "      <td>1.640777</td>\n",
              "      <td>1.469256</td>\n",
              "      <td>1.556634</td>\n",
              "    </tr>\n",
              "    <tr>\n",
              "      <th>std</th>\n",
              "      <td>8.210301</td>\n",
              "      <td>0.496806</td>\n",
              "      <td>0.495938</td>\n",
              "      <td>0.500808</td>\n",
              "      <td>0.500808</td>\n",
              "      <td>0.500787</td>\n",
              "      <td>0.469827</td>\n",
              "      <td>0.497588</td>\n",
              "      <td>0.497588</td>\n",
              "      <td>0.497588</td>\n",
              "      <td>0.494474</td>\n",
              "      <td>0.480551</td>\n",
              "      <td>0.499863</td>\n",
              "      <td>0.497588</td>\n",
              "    </tr>\n",
              "    <tr>\n",
              "      <th>min</th>\n",
              "      <td>21.000000</td>\n",
              "      <td>1.000000</td>\n",
              "      <td>1.000000</td>\n",
              "      <td>1.000000</td>\n",
              "      <td>1.000000</td>\n",
              "      <td>1.000000</td>\n",
              "      <td>1.000000</td>\n",
              "      <td>1.000000</td>\n",
              "      <td>1.000000</td>\n",
              "      <td>1.000000</td>\n",
              "      <td>1.000000</td>\n",
              "      <td>1.000000</td>\n",
              "      <td>1.000000</td>\n",
              "      <td>1.000000</td>\n",
              "    </tr>\n",
              "    <tr>\n",
              "      <th>25%</th>\n",
              "      <td>57.000000</td>\n",
              "      <td>1.000000</td>\n",
              "      <td>1.000000</td>\n",
              "      <td>1.000000</td>\n",
              "      <td>1.000000</td>\n",
              "      <td>1.000000</td>\n",
              "      <td>1.000000</td>\n",
              "      <td>1.000000</td>\n",
              "      <td>1.000000</td>\n",
              "      <td>1.000000</td>\n",
              "      <td>1.000000</td>\n",
              "      <td>1.000000</td>\n",
              "      <td>1.000000</td>\n",
              "      <td>1.000000</td>\n",
              "    </tr>\n",
              "    <tr>\n",
              "      <th>50%</th>\n",
              "      <td>62.000000</td>\n",
              "      <td>2.000000</td>\n",
              "      <td>2.000000</td>\n",
              "      <td>1.000000</td>\n",
              "      <td>2.000000</td>\n",
              "      <td>2.000000</td>\n",
              "      <td>2.000000</td>\n",
              "      <td>2.000000</td>\n",
              "      <td>2.000000</td>\n",
              "      <td>2.000000</td>\n",
              "      <td>2.000000</td>\n",
              "      <td>2.000000</td>\n",
              "      <td>1.000000</td>\n",
              "      <td>2.000000</td>\n",
              "    </tr>\n",
              "    <tr>\n",
              "      <th>75%</th>\n",
              "      <td>69.000000</td>\n",
              "      <td>2.000000</td>\n",
              "      <td>2.000000</td>\n",
              "      <td>2.000000</td>\n",
              "      <td>2.000000</td>\n",
              "      <td>2.000000</td>\n",
              "      <td>2.000000</td>\n",
              "      <td>2.000000</td>\n",
              "      <td>2.000000</td>\n",
              "      <td>2.000000</td>\n",
              "      <td>2.000000</td>\n",
              "      <td>2.000000</td>\n",
              "      <td>2.000000</td>\n",
              "      <td>2.000000</td>\n",
              "    </tr>\n",
              "    <tr>\n",
              "      <th>max</th>\n",
              "      <td>87.000000</td>\n",
              "      <td>2.000000</td>\n",
              "      <td>2.000000</td>\n",
              "      <td>2.000000</td>\n",
              "      <td>2.000000</td>\n",
              "      <td>2.000000</td>\n",
              "      <td>2.000000</td>\n",
              "      <td>2.000000</td>\n",
              "      <td>2.000000</td>\n",
              "      <td>2.000000</td>\n",
              "      <td>2.000000</td>\n",
              "      <td>2.000000</td>\n",
              "      <td>2.000000</td>\n",
              "      <td>2.000000</td>\n",
              "    </tr>\n",
              "  </tbody>\n",
              "</table>\n",
              "</div>\n",
              "    <div class=\"colab-df-buttons\">\n",
              "\n",
              "  <div class=\"colab-df-container\">\n",
              "    <button class=\"colab-df-convert\" onclick=\"convertToInteractive('df-d80872bb-431a-4484-b594-214875064d55')\"\n",
              "            title=\"Convert this dataframe to an interactive table.\"\n",
              "            style=\"display:none;\">\n",
              "\n",
              "  <svg xmlns=\"http://www.w3.org/2000/svg\" height=\"24px\" viewBox=\"0 -960 960 960\">\n",
              "    <path d=\"M120-120v-720h720v720H120Zm60-500h600v-160H180v160Zm220 220h160v-160H400v160Zm0 220h160v-160H400v160ZM180-400h160v-160H180v160Zm440 0h160v-160H620v160ZM180-180h160v-160H180v160Zm440 0h160v-160H620v160Z\"/>\n",
              "  </svg>\n",
              "    </button>\n",
              "\n",
              "  <style>\n",
              "    .colab-df-container {\n",
              "      display:flex;\n",
              "      gap: 12px;\n",
              "    }\n",
              "\n",
              "    .colab-df-convert {\n",
              "      background-color: #E8F0FE;\n",
              "      border: none;\n",
              "      border-radius: 50%;\n",
              "      cursor: pointer;\n",
              "      display: none;\n",
              "      fill: #1967D2;\n",
              "      height: 32px;\n",
              "      padding: 0 0 0 0;\n",
              "      width: 32px;\n",
              "    }\n",
              "\n",
              "    .colab-df-convert:hover {\n",
              "      background-color: #E2EBFA;\n",
              "      box-shadow: 0px 1px 2px rgba(60, 64, 67, 0.3), 0px 1px 3px 1px rgba(60, 64, 67, 0.15);\n",
              "      fill: #174EA6;\n",
              "    }\n",
              "\n",
              "    .colab-df-buttons div {\n",
              "      margin-bottom: 4px;\n",
              "    }\n",
              "\n",
              "    [theme=dark] .colab-df-convert {\n",
              "      background-color: #3B4455;\n",
              "      fill: #D2E3FC;\n",
              "    }\n",
              "\n",
              "    [theme=dark] .colab-df-convert:hover {\n",
              "      background-color: #434B5C;\n",
              "      box-shadow: 0px 1px 3px 1px rgba(0, 0, 0, 0.15);\n",
              "      filter: drop-shadow(0px 1px 2px rgba(0, 0, 0, 0.3));\n",
              "      fill: #FFFFFF;\n",
              "    }\n",
              "  </style>\n",
              "\n",
              "    <script>\n",
              "      const buttonEl =\n",
              "        document.querySelector('#df-d80872bb-431a-4484-b594-214875064d55 button.colab-df-convert');\n",
              "      buttonEl.style.display =\n",
              "        google.colab.kernel.accessAllowed ? 'block' : 'none';\n",
              "\n",
              "      async function convertToInteractive(key) {\n",
              "        const element = document.querySelector('#df-d80872bb-431a-4484-b594-214875064d55');\n",
              "        const dataTable =\n",
              "          await google.colab.kernel.invokeFunction('convertToInteractive',\n",
              "                                                    [key], {});\n",
              "        if (!dataTable) return;\n",
              "\n",
              "        const docLinkHtml = 'Like what you see? Visit the ' +\n",
              "          '<a target=\"_blank\" href=https://colab.research.google.com/notebooks/data_table.ipynb>data table notebook</a>'\n",
              "          + ' to learn more about interactive tables.';\n",
              "        element.innerHTML = '';\n",
              "        dataTable['output_type'] = 'display_data';\n",
              "        await google.colab.output.renderOutput(dataTable, element);\n",
              "        const docLink = document.createElement('div');\n",
              "        docLink.innerHTML = docLinkHtml;\n",
              "        element.appendChild(docLink);\n",
              "      }\n",
              "    </script>\n",
              "  </div>\n",
              "\n",
              "\n",
              "<div id=\"df-b3053a6c-b0d8-441c-a474-6df446bdca97\">\n",
              "  <button class=\"colab-df-quickchart\" onclick=\"quickchart('df-b3053a6c-b0d8-441c-a474-6df446bdca97')\"\n",
              "            title=\"Suggest charts\"\n",
              "            style=\"display:none;\">\n",
              "\n",
              "<svg xmlns=\"http://www.w3.org/2000/svg\" height=\"24px\"viewBox=\"0 0 24 24\"\n",
              "     width=\"24px\">\n",
              "    <g>\n",
              "        <path d=\"M19 3H5c-1.1 0-2 .9-2 2v14c0 1.1.9 2 2 2h14c1.1 0 2-.9 2-2V5c0-1.1-.9-2-2-2zM9 17H7v-7h2v7zm4 0h-2V7h2v10zm4 0h-2v-4h2v4z\"/>\n",
              "    </g>\n",
              "</svg>\n",
              "  </button>\n",
              "\n",
              "<style>\n",
              "  .colab-df-quickchart {\n",
              "      --bg-color: #E8F0FE;\n",
              "      --fill-color: #1967D2;\n",
              "      --hover-bg-color: #E2EBFA;\n",
              "      --hover-fill-color: #174EA6;\n",
              "      --disabled-fill-color: #AAA;\n",
              "      --disabled-bg-color: #DDD;\n",
              "  }\n",
              "\n",
              "  [theme=dark] .colab-df-quickchart {\n",
              "      --bg-color: #3B4455;\n",
              "      --fill-color: #D2E3FC;\n",
              "      --hover-bg-color: #434B5C;\n",
              "      --hover-fill-color: #FFFFFF;\n",
              "      --disabled-bg-color: #3B4455;\n",
              "      --disabled-fill-color: #666;\n",
              "  }\n",
              "\n",
              "  .colab-df-quickchart {\n",
              "    background-color: var(--bg-color);\n",
              "    border: none;\n",
              "    border-radius: 50%;\n",
              "    cursor: pointer;\n",
              "    display: none;\n",
              "    fill: var(--fill-color);\n",
              "    height: 32px;\n",
              "    padding: 0;\n",
              "    width: 32px;\n",
              "  }\n",
              "\n",
              "  .colab-df-quickchart:hover {\n",
              "    background-color: var(--hover-bg-color);\n",
              "    box-shadow: 0 1px 2px rgba(60, 64, 67, 0.3), 0 1px 3px 1px rgba(60, 64, 67, 0.15);\n",
              "    fill: var(--button-hover-fill-color);\n",
              "  }\n",
              "\n",
              "  .colab-df-quickchart-complete:disabled,\n",
              "  .colab-df-quickchart-complete:disabled:hover {\n",
              "    background-color: var(--disabled-bg-color);\n",
              "    fill: var(--disabled-fill-color);\n",
              "    box-shadow: none;\n",
              "  }\n",
              "\n",
              "  .colab-df-spinner {\n",
              "    border: 2px solid var(--fill-color);\n",
              "    border-color: transparent;\n",
              "    border-bottom-color: var(--fill-color);\n",
              "    animation:\n",
              "      spin 1s steps(1) infinite;\n",
              "  }\n",
              "\n",
              "  @keyframes spin {\n",
              "    0% {\n",
              "      border-color: transparent;\n",
              "      border-bottom-color: var(--fill-color);\n",
              "      border-left-color: var(--fill-color);\n",
              "    }\n",
              "    20% {\n",
              "      border-color: transparent;\n",
              "      border-left-color: var(--fill-color);\n",
              "      border-top-color: var(--fill-color);\n",
              "    }\n",
              "    30% {\n",
              "      border-color: transparent;\n",
              "      border-left-color: var(--fill-color);\n",
              "      border-top-color: var(--fill-color);\n",
              "      border-right-color: var(--fill-color);\n",
              "    }\n",
              "    40% {\n",
              "      border-color: transparent;\n",
              "      border-right-color: var(--fill-color);\n",
              "      border-top-color: var(--fill-color);\n",
              "    }\n",
              "    60% {\n",
              "      border-color: transparent;\n",
              "      border-right-color: var(--fill-color);\n",
              "    }\n",
              "    80% {\n",
              "      border-color: transparent;\n",
              "      border-right-color: var(--fill-color);\n",
              "      border-bottom-color: var(--fill-color);\n",
              "    }\n",
              "    90% {\n",
              "      border-color: transparent;\n",
              "      border-bottom-color: var(--fill-color);\n",
              "    }\n",
              "  }\n",
              "</style>\n",
              "\n",
              "  <script>\n",
              "    async function quickchart(key) {\n",
              "      const quickchartButtonEl =\n",
              "        document.querySelector('#' + key + ' button');\n",
              "      quickchartButtonEl.disabled = true;  // To prevent multiple clicks.\n",
              "      quickchartButtonEl.classList.add('colab-df-spinner');\n",
              "      try {\n",
              "        const charts = await google.colab.kernel.invokeFunction(\n",
              "            'suggestCharts', [key], {});\n",
              "      } catch (error) {\n",
              "        console.error('Error during call to suggestCharts:', error);\n",
              "      }\n",
              "      quickchartButtonEl.classList.remove('colab-df-spinner');\n",
              "      quickchartButtonEl.classList.add('colab-df-quickchart-complete');\n",
              "    }\n",
              "    (() => {\n",
              "      let quickchartButtonEl =\n",
              "        document.querySelector('#df-b3053a6c-b0d8-441c-a474-6df446bdca97 button');\n",
              "      quickchartButtonEl.style.display =\n",
              "        google.colab.kernel.accessAllowed ? 'block' : 'none';\n",
              "    })();\n",
              "  </script>\n",
              "</div>\n",
              "    </div>\n",
              "  </div>\n"
            ]
          },
          "metadata": {},
          "execution_count": 5
        }
      ]
    },
    {
      "cell_type": "code",
      "source": [
        "df.tail()"
      ],
      "metadata": {
        "colab": {
          "base_uri": "https://localhost:8080/",
          "height": 224
        },
        "id": "7cQfaogHF91H",
        "outputId": "c457a570-874a-4a0b-9763-e1bf922d2876"
      },
      "execution_count": null,
      "outputs": [
        {
          "output_type": "execute_result",
          "data": {
            "text/plain": [
              "    GENDER  AGE  SMOKING  YELLOW_FINGERS  ANXIETY  PEER_PRESSURE  \\\n",
              "304      F   56        1               1        1              2   \n",
              "305      M   70        2               1        1              1   \n",
              "306      M   58        2               1        1              1   \n",
              "307      M   67        2               1        2              1   \n",
              "308      M   62        1               1        1              2   \n",
              "\n",
              "     CHRONIC DISEASE  FATIGUE   ALLERGY   WHEEZING  ALCOHOL CONSUMING  \\\n",
              "304                2         2         1         1                  2   \n",
              "305                1         2         2         2                  2   \n",
              "306                1         1         2         2                  2   \n",
              "307                1         2         2         1                  2   \n",
              "308                1         2         2         2                  2   \n",
              "\n",
              "     COUGHING  SHORTNESS OF BREATH  SWALLOWING DIFFICULTY  CHEST PAIN  \\\n",
              "304         2                    2                      2           1   \n",
              "305         2                    2                      1           2   \n",
              "306         2                    1                      1           2   \n",
              "307         2                    2                      1           2   \n",
              "308         1                    1                      2           1   \n",
              "\n",
              "    LUNG_CANCER  \n",
              "304         YES  \n",
              "305         YES  \n",
              "306         YES  \n",
              "307         YES  \n",
              "308         YES  "
            ],
            "text/html": [
              "\n",
              "  <div id=\"df-d3095cb9-c485-47d4-b99b-ae5015e29f42\" class=\"colab-df-container\">\n",
              "    <div>\n",
              "<style scoped>\n",
              "    .dataframe tbody tr th:only-of-type {\n",
              "        vertical-align: middle;\n",
              "    }\n",
              "\n",
              "    .dataframe tbody tr th {\n",
              "        vertical-align: top;\n",
              "    }\n",
              "\n",
              "    .dataframe thead th {\n",
              "        text-align: right;\n",
              "    }\n",
              "</style>\n",
              "<table border=\"1\" class=\"dataframe\">\n",
              "  <thead>\n",
              "    <tr style=\"text-align: right;\">\n",
              "      <th></th>\n",
              "      <th>GENDER</th>\n",
              "      <th>AGE</th>\n",
              "      <th>SMOKING</th>\n",
              "      <th>YELLOW_FINGERS</th>\n",
              "      <th>ANXIETY</th>\n",
              "      <th>PEER_PRESSURE</th>\n",
              "      <th>CHRONIC DISEASE</th>\n",
              "      <th>FATIGUE</th>\n",
              "      <th>ALLERGY</th>\n",
              "      <th>WHEEZING</th>\n",
              "      <th>ALCOHOL CONSUMING</th>\n",
              "      <th>COUGHING</th>\n",
              "      <th>SHORTNESS OF BREATH</th>\n",
              "      <th>SWALLOWING DIFFICULTY</th>\n",
              "      <th>CHEST PAIN</th>\n",
              "      <th>LUNG_CANCER</th>\n",
              "    </tr>\n",
              "  </thead>\n",
              "  <tbody>\n",
              "    <tr>\n",
              "      <th>304</th>\n",
              "      <td>F</td>\n",
              "      <td>56</td>\n",
              "      <td>1</td>\n",
              "      <td>1</td>\n",
              "      <td>1</td>\n",
              "      <td>2</td>\n",
              "      <td>2</td>\n",
              "      <td>2</td>\n",
              "      <td>1</td>\n",
              "      <td>1</td>\n",
              "      <td>2</td>\n",
              "      <td>2</td>\n",
              "      <td>2</td>\n",
              "      <td>2</td>\n",
              "      <td>1</td>\n",
              "      <td>YES</td>\n",
              "    </tr>\n",
              "    <tr>\n",
              "      <th>305</th>\n",
              "      <td>M</td>\n",
              "      <td>70</td>\n",
              "      <td>2</td>\n",
              "      <td>1</td>\n",
              "      <td>1</td>\n",
              "      <td>1</td>\n",
              "      <td>1</td>\n",
              "      <td>2</td>\n",
              "      <td>2</td>\n",
              "      <td>2</td>\n",
              "      <td>2</td>\n",
              "      <td>2</td>\n",
              "      <td>2</td>\n",
              "      <td>1</td>\n",
              "      <td>2</td>\n",
              "      <td>YES</td>\n",
              "    </tr>\n",
              "    <tr>\n",
              "      <th>306</th>\n",
              "      <td>M</td>\n",
              "      <td>58</td>\n",
              "      <td>2</td>\n",
              "      <td>1</td>\n",
              "      <td>1</td>\n",
              "      <td>1</td>\n",
              "      <td>1</td>\n",
              "      <td>1</td>\n",
              "      <td>2</td>\n",
              "      <td>2</td>\n",
              "      <td>2</td>\n",
              "      <td>2</td>\n",
              "      <td>1</td>\n",
              "      <td>1</td>\n",
              "      <td>2</td>\n",
              "      <td>YES</td>\n",
              "    </tr>\n",
              "    <tr>\n",
              "      <th>307</th>\n",
              "      <td>M</td>\n",
              "      <td>67</td>\n",
              "      <td>2</td>\n",
              "      <td>1</td>\n",
              "      <td>2</td>\n",
              "      <td>1</td>\n",
              "      <td>1</td>\n",
              "      <td>2</td>\n",
              "      <td>2</td>\n",
              "      <td>1</td>\n",
              "      <td>2</td>\n",
              "      <td>2</td>\n",
              "      <td>2</td>\n",
              "      <td>1</td>\n",
              "      <td>2</td>\n",
              "      <td>YES</td>\n",
              "    </tr>\n",
              "    <tr>\n",
              "      <th>308</th>\n",
              "      <td>M</td>\n",
              "      <td>62</td>\n",
              "      <td>1</td>\n",
              "      <td>1</td>\n",
              "      <td>1</td>\n",
              "      <td>2</td>\n",
              "      <td>1</td>\n",
              "      <td>2</td>\n",
              "      <td>2</td>\n",
              "      <td>2</td>\n",
              "      <td>2</td>\n",
              "      <td>1</td>\n",
              "      <td>1</td>\n",
              "      <td>2</td>\n",
              "      <td>1</td>\n",
              "      <td>YES</td>\n",
              "    </tr>\n",
              "  </tbody>\n",
              "</table>\n",
              "</div>\n",
              "    <div class=\"colab-df-buttons\">\n",
              "\n",
              "  <div class=\"colab-df-container\">\n",
              "    <button class=\"colab-df-convert\" onclick=\"convertToInteractive('df-d3095cb9-c485-47d4-b99b-ae5015e29f42')\"\n",
              "            title=\"Convert this dataframe to an interactive table.\"\n",
              "            style=\"display:none;\">\n",
              "\n",
              "  <svg xmlns=\"http://www.w3.org/2000/svg\" height=\"24px\" viewBox=\"0 -960 960 960\">\n",
              "    <path d=\"M120-120v-720h720v720H120Zm60-500h600v-160H180v160Zm220 220h160v-160H400v160Zm0 220h160v-160H400v160ZM180-400h160v-160H180v160Zm440 0h160v-160H620v160ZM180-180h160v-160H180v160Zm440 0h160v-160H620v160Z\"/>\n",
              "  </svg>\n",
              "    </button>\n",
              "\n",
              "  <style>\n",
              "    .colab-df-container {\n",
              "      display:flex;\n",
              "      gap: 12px;\n",
              "    }\n",
              "\n",
              "    .colab-df-convert {\n",
              "      background-color: #E8F0FE;\n",
              "      border: none;\n",
              "      border-radius: 50%;\n",
              "      cursor: pointer;\n",
              "      display: none;\n",
              "      fill: #1967D2;\n",
              "      height: 32px;\n",
              "      padding: 0 0 0 0;\n",
              "      width: 32px;\n",
              "    }\n",
              "\n",
              "    .colab-df-convert:hover {\n",
              "      background-color: #E2EBFA;\n",
              "      box-shadow: 0px 1px 2px rgba(60, 64, 67, 0.3), 0px 1px 3px 1px rgba(60, 64, 67, 0.15);\n",
              "      fill: #174EA6;\n",
              "    }\n",
              "\n",
              "    .colab-df-buttons div {\n",
              "      margin-bottom: 4px;\n",
              "    }\n",
              "\n",
              "    [theme=dark] .colab-df-convert {\n",
              "      background-color: #3B4455;\n",
              "      fill: #D2E3FC;\n",
              "    }\n",
              "\n",
              "    [theme=dark] .colab-df-convert:hover {\n",
              "      background-color: #434B5C;\n",
              "      box-shadow: 0px 1px 3px 1px rgba(0, 0, 0, 0.15);\n",
              "      filter: drop-shadow(0px 1px 2px rgba(0, 0, 0, 0.3));\n",
              "      fill: #FFFFFF;\n",
              "    }\n",
              "  </style>\n",
              "\n",
              "    <script>\n",
              "      const buttonEl =\n",
              "        document.querySelector('#df-d3095cb9-c485-47d4-b99b-ae5015e29f42 button.colab-df-convert');\n",
              "      buttonEl.style.display =\n",
              "        google.colab.kernel.accessAllowed ? 'block' : 'none';\n",
              "\n",
              "      async function convertToInteractive(key) {\n",
              "        const element = document.querySelector('#df-d3095cb9-c485-47d4-b99b-ae5015e29f42');\n",
              "        const dataTable =\n",
              "          await google.colab.kernel.invokeFunction('convertToInteractive',\n",
              "                                                    [key], {});\n",
              "        if (!dataTable) return;\n",
              "\n",
              "        const docLinkHtml = 'Like what you see? Visit the ' +\n",
              "          '<a target=\"_blank\" href=https://colab.research.google.com/notebooks/data_table.ipynb>data table notebook</a>'\n",
              "          + ' to learn more about interactive tables.';\n",
              "        element.innerHTML = '';\n",
              "        dataTable['output_type'] = 'display_data';\n",
              "        await google.colab.output.renderOutput(dataTable, element);\n",
              "        const docLink = document.createElement('div');\n",
              "        docLink.innerHTML = docLinkHtml;\n",
              "        element.appendChild(docLink);\n",
              "      }\n",
              "    </script>\n",
              "  </div>\n",
              "\n",
              "\n",
              "<div id=\"df-73004f7c-553b-4424-a6e1-acc4f64db719\">\n",
              "  <button class=\"colab-df-quickchart\" onclick=\"quickchart('df-73004f7c-553b-4424-a6e1-acc4f64db719')\"\n",
              "            title=\"Suggest charts\"\n",
              "            style=\"display:none;\">\n",
              "\n",
              "<svg xmlns=\"http://www.w3.org/2000/svg\" height=\"24px\"viewBox=\"0 0 24 24\"\n",
              "     width=\"24px\">\n",
              "    <g>\n",
              "        <path d=\"M19 3H5c-1.1 0-2 .9-2 2v14c0 1.1.9 2 2 2h14c1.1 0 2-.9 2-2V5c0-1.1-.9-2-2-2zM9 17H7v-7h2v7zm4 0h-2V7h2v10zm4 0h-2v-4h2v4z\"/>\n",
              "    </g>\n",
              "</svg>\n",
              "  </button>\n",
              "\n",
              "<style>\n",
              "  .colab-df-quickchart {\n",
              "      --bg-color: #E8F0FE;\n",
              "      --fill-color: #1967D2;\n",
              "      --hover-bg-color: #E2EBFA;\n",
              "      --hover-fill-color: #174EA6;\n",
              "      --disabled-fill-color: #AAA;\n",
              "      --disabled-bg-color: #DDD;\n",
              "  }\n",
              "\n",
              "  [theme=dark] .colab-df-quickchart {\n",
              "      --bg-color: #3B4455;\n",
              "      --fill-color: #D2E3FC;\n",
              "      --hover-bg-color: #434B5C;\n",
              "      --hover-fill-color: #FFFFFF;\n",
              "      --disabled-bg-color: #3B4455;\n",
              "      --disabled-fill-color: #666;\n",
              "  }\n",
              "\n",
              "  .colab-df-quickchart {\n",
              "    background-color: var(--bg-color);\n",
              "    border: none;\n",
              "    border-radius: 50%;\n",
              "    cursor: pointer;\n",
              "    display: none;\n",
              "    fill: var(--fill-color);\n",
              "    height: 32px;\n",
              "    padding: 0;\n",
              "    width: 32px;\n",
              "  }\n",
              "\n",
              "  .colab-df-quickchart:hover {\n",
              "    background-color: var(--hover-bg-color);\n",
              "    box-shadow: 0 1px 2px rgba(60, 64, 67, 0.3), 0 1px 3px 1px rgba(60, 64, 67, 0.15);\n",
              "    fill: var(--button-hover-fill-color);\n",
              "  }\n",
              "\n",
              "  .colab-df-quickchart-complete:disabled,\n",
              "  .colab-df-quickchart-complete:disabled:hover {\n",
              "    background-color: var(--disabled-bg-color);\n",
              "    fill: var(--disabled-fill-color);\n",
              "    box-shadow: none;\n",
              "  }\n",
              "\n",
              "  .colab-df-spinner {\n",
              "    border: 2px solid var(--fill-color);\n",
              "    border-color: transparent;\n",
              "    border-bottom-color: var(--fill-color);\n",
              "    animation:\n",
              "      spin 1s steps(1) infinite;\n",
              "  }\n",
              "\n",
              "  @keyframes spin {\n",
              "    0% {\n",
              "      border-color: transparent;\n",
              "      border-bottom-color: var(--fill-color);\n",
              "      border-left-color: var(--fill-color);\n",
              "    }\n",
              "    20% {\n",
              "      border-color: transparent;\n",
              "      border-left-color: var(--fill-color);\n",
              "      border-top-color: var(--fill-color);\n",
              "    }\n",
              "    30% {\n",
              "      border-color: transparent;\n",
              "      border-left-color: var(--fill-color);\n",
              "      border-top-color: var(--fill-color);\n",
              "      border-right-color: var(--fill-color);\n",
              "    }\n",
              "    40% {\n",
              "      border-color: transparent;\n",
              "      border-right-color: var(--fill-color);\n",
              "      border-top-color: var(--fill-color);\n",
              "    }\n",
              "    60% {\n",
              "      border-color: transparent;\n",
              "      border-right-color: var(--fill-color);\n",
              "    }\n",
              "    80% {\n",
              "      border-color: transparent;\n",
              "      border-right-color: var(--fill-color);\n",
              "      border-bottom-color: var(--fill-color);\n",
              "    }\n",
              "    90% {\n",
              "      border-color: transparent;\n",
              "      border-bottom-color: var(--fill-color);\n",
              "    }\n",
              "  }\n",
              "</style>\n",
              "\n",
              "  <script>\n",
              "    async function quickchart(key) {\n",
              "      const quickchartButtonEl =\n",
              "        document.querySelector('#' + key + ' button');\n",
              "      quickchartButtonEl.disabled = true;  // To prevent multiple clicks.\n",
              "      quickchartButtonEl.classList.add('colab-df-spinner');\n",
              "      try {\n",
              "        const charts = await google.colab.kernel.invokeFunction(\n",
              "            'suggestCharts', [key], {});\n",
              "      } catch (error) {\n",
              "        console.error('Error during call to suggestCharts:', error);\n",
              "      }\n",
              "      quickchartButtonEl.classList.remove('colab-df-spinner');\n",
              "      quickchartButtonEl.classList.add('colab-df-quickchart-complete');\n",
              "    }\n",
              "    (() => {\n",
              "      let quickchartButtonEl =\n",
              "        document.querySelector('#df-73004f7c-553b-4424-a6e1-acc4f64db719 button');\n",
              "      quickchartButtonEl.style.display =\n",
              "        google.colab.kernel.accessAllowed ? 'block' : 'none';\n",
              "    })();\n",
              "  </script>\n",
              "</div>\n",
              "    </div>\n",
              "  </div>\n"
            ]
          },
          "metadata": {},
          "execution_count": 6
        }
      ]
    },
    {
      "cell_type": "code",
      "source": [
        "print(df.dtypes)"
      ],
      "metadata": {
        "colab": {
          "base_uri": "https://localhost:8080/"
        },
        "id": "DY-Zx6GwF_4O",
        "outputId": "1d07bb0f-cf9e-42ae-f78c-1eccadc0252d"
      },
      "execution_count": null,
      "outputs": [
        {
          "output_type": "stream",
          "name": "stdout",
          "text": [
            "GENDER                   object\n",
            "AGE                       int64\n",
            "SMOKING                   int64\n",
            "YELLOW_FINGERS            int64\n",
            "ANXIETY                   int64\n",
            "PEER_PRESSURE             int64\n",
            "CHRONIC DISEASE           int64\n",
            "FATIGUE                   int64\n",
            "ALLERGY                   int64\n",
            "WHEEZING                  int64\n",
            "ALCOHOL CONSUMING         int64\n",
            "COUGHING                  int64\n",
            "SHORTNESS OF BREATH       int64\n",
            "SWALLOWING DIFFICULTY     int64\n",
            "CHEST PAIN                int64\n",
            "LUNG_CANCER              object\n",
            "dtype: object\n"
          ]
        }
      ]
    },
    {
      "cell_type": "code",
      "source": [
        "df.isnull().sum()"
      ],
      "metadata": {
        "colab": {
          "base_uri": "https://localhost:8080/"
        },
        "id": "CHGMOt54GFlh",
        "outputId": "ee5873d5-0a22-408b-d9a9-eea3fac390f3"
      },
      "execution_count": null,
      "outputs": [
        {
          "output_type": "execute_result",
          "data": {
            "text/plain": [
              "GENDER                   0\n",
              "AGE                      0\n",
              "SMOKING                  0\n",
              "YELLOW_FINGERS           0\n",
              "ANXIETY                  0\n",
              "PEER_PRESSURE            0\n",
              "CHRONIC DISEASE          0\n",
              "FATIGUE                  0\n",
              "ALLERGY                  0\n",
              "WHEEZING                 0\n",
              "ALCOHOL CONSUMING        0\n",
              "COUGHING                 0\n",
              "SHORTNESS OF BREATH      0\n",
              "SWALLOWING DIFFICULTY    0\n",
              "CHEST PAIN               0\n",
              "LUNG_CANCER              0\n",
              "dtype: int64"
            ]
          },
          "metadata": {},
          "execution_count": 8
        }
      ]
    },
    {
      "cell_type": "code",
      "source": [
        "#encode\n",
        "num_kelamin = {\n",
        "    'F' : 0,\n",
        "    'M' : 1\n",
        "}\n",
        "print(num_kelamin)"
      ],
      "metadata": {
        "colab": {
          "base_uri": "https://localhost:8080/"
        },
        "id": "jpwqi8C0KH2J",
        "outputId": "5ead8663-cc67-459e-db93-7a9616384d5b"
      },
      "execution_count": null,
      "outputs": [
        {
          "output_type": "stream",
          "name": "stdout",
          "text": [
            "{'F': 0, 'M': 1}\n"
          ]
        }
      ]
    },
    {
      "cell_type": "code",
      "source": [
        "cor = df.corr()\n",
        "plt.figure(figsize=(24,22))\n",
        "sns.heatmap(cor, cmap=plt.cm.CMRmap_r,annot=True)\n",
        "plt.show()"
      ],
      "metadata": {
        "colab": {
          "base_uri": "https://localhost:8080/",
          "height": 1000
        },
        "id": "h-2gtaRTKW6i",
        "outputId": "88e44312-c6ed-4e05-8005-b059312fd919"
      },
      "execution_count": null,
      "outputs": [
        {
          "output_type": "stream",
          "name": "stderr",
          "text": [
            "<ipython-input-10-4a99105f33e6>:1: FutureWarning: The default value of numeric_only in DataFrame.corr is deprecated. In a future version, it will default to False. Select only valid columns or specify the value of numeric_only to silence this warning.\n",
            "  cor = df.corr()\n"
          ]
        },
        {
          "output_type": "display_data",
          "data": {
            "text/plain": [
              "<Figure size 2400x2200 with 2 Axes>"
            ],
            "image/png": "[encoded data removed]"
          },
          "metadata": {}
        }
      ]
    },
    {
      "cell_type": "code",
      "source": [
        "#Correlation with output variable\n",
        "cor_target = abs(cor['CHEST PAIN'])\n",
        "#Selecting highly correlated features\n",
        "relevant_features = cor_target[cor_target>0.6]\n",
        "relevant_features"
      ],
      "metadata": {
        "colab": {
          "base_uri": "https://localhost:8080/"
        },
        "id": "qTiEoAfgMleO",
        "outputId": "e33d25c6-dea2-46c0-9543-6c37ff4148bd"
      },
      "execution_count": null,
      "outputs": [
        {
          "output_type": "execute_result",
          "data": {
            "text/plain": [
              "CHEST PAIN    1.0\n",
              "Name: CHEST PAIN, dtype: float64"
            ]
          },
          "metadata": {},
          "execution_count": 11
        }
      ]
    },
    {
      "cell_type": "code",
      "source": [
        "print(df[[\"AGE\",\"SMOKING\"]].corr())\n",
        "print('\\n',df[[\"AGE\",\"ANXIETY\"]].corr())\n",
        "print('\\n',df[[\"AGE\",\"ALCOHOL CONSUMING\"]].corr())\n",
        "print('\\n',df[[\"SMOKING\",\"ANXIETY\"]].corr())\n",
        "print('\\n',df[[\"SMOKING\",\"ALCOHOL CONSUMING\"]].corr())\n",
        "print('\\n',df[[\"ANXIETY\",\"ALCOHOL CONSUMING\"]].corr())"
      ],
      "metadata": {
        "colab": {
          "base_uri": "https://localhost:8080/"
        },
        "id": "acpgQ0oINCrb",
        "outputId": "19095ff7-fb9d-49fe-e957-de3a6cb47006"
      },
      "execution_count": null,
      "outputs": [
        {
          "output_type": "stream",
          "name": "stdout",
          "text": [
            "              AGE   SMOKING\n",
            "AGE      1.000000 -0.084475\n",
            "SMOKING -0.084475  1.000000\n",
            "\n",
            "              AGE  ANXIETY\n",
            "AGE      1.00000  0.05317\n",
            "ANXIETY  0.05317  1.00000\n",
            "\n",
            "                         AGE  ALCOHOL CONSUMING\n",
            "AGE                1.000000           0.058985\n",
            "ALCOHOL CONSUMING  0.058985           1.000000\n",
            "\n",
            "           SMOKING   ANXIETY\n",
            "SMOKING  1.000000  0.160267\n",
            "ANXIETY  0.160267  1.000000\n",
            "\n",
            "                     SMOKING  ALCOHOL CONSUMING\n",
            "SMOKING            1.000000          -0.050623\n",
            "ALCOHOL CONSUMING -0.050623           1.000000\n",
            "\n",
            "                    ANXIETY  ALCOHOL CONSUMING\n",
            "ANXIETY            1.00000           -0.16575\n",
            "ALCOHOL CONSUMING -0.16575            1.00000\n"
          ]
        }
      ]
    },
    {
      "cell_type": "markdown",
      "source": [
        "#*Association* *Rule* Mining"
      ],
      "metadata": {
        "id": "0_1EU9BOVNPf"
      }
    },
    {
      "cell_type": "markdown",
      "source": [
        "menggunakan pendekatan CAR(Class Association Rule)"
      ],
      "metadata": {
        "id": "W0pS7kLyZkid"
      }
    },
    {
      "cell_type": "code",
      "source": [
        "pip install pyfpgrowth"
      ],
      "metadata": {
        "colab": {
          "base_uri": "https://localhost:8080/"
        },
        "id": "tzYGcG3HeO9o",
        "outputId": "0a717439-b19b-45ee-f254-408cd287ac50"
      },
      "execution_count": null,
      "outputs": [
        {
          "output_type": "stream",
          "name": "stdout",
          "text": [
            "Collecting pyfpgrowth\n",
            "  Downloading pyfpgrowth-1.0.tar.gz (1.6 MB)\n",
            "\u001b[2K     \u001b[90m━━━━━━━━━━━━━━━━━━━━━━━━━━━━━━━━━━━━━━━━\u001b[0m \u001b[32m1.6/1.6 MB\u001b[0m \u001b[31m8.0 MB/s\u001b[0m eta \u001b[36m0:00:00\u001b[0m\n",
            "\u001b[?25h  Preparing metadata (setup.py) ... \u001b[?25l\u001b[?25hdone\n",
            "Building wheels for collected packages: pyfpgrowth\n",
            "  Building wheel for pyfpgrowth (setup.py) ... \u001b[?25l\u001b[?25hdone\n",
            "  Created wheel for pyfpgrowth: filename=pyfpgrowth-1.0-py2.py3-none-any.whl size=5489 sha256=e7142f165bfe16ba283c43c7c0bd41b037875d28f1c276710195fe89f9583276\n",
            "  Stored in directory: /root/.cache/pip/wheels/09/fc/dc/afff211038bfc745722d8d7e846e854e5791968b22c570a530\n",
            "Successfully built pyfpgrowth\n",
            "Installing collected packages: pyfpgrowth\n",
            "Successfully installed pyfpgrowth-1.0\n"
          ]
        }
      ]
    },
    {
      "cell_type": "code",
      "source": [
        "import pyfpgrowth"
      ],
      "metadata": {
        "id": "KiRY1bhttSyo"
      },
      "execution_count": null,
      "outputs": []
    },
    {
      "cell_type": "code",
      "source": [
        "# Mengubah kolom GENDER dan LUNG_CANCER menjadi numerik untuk keperluan FP-Growth\n",
        "df['GENDER'] = df['GENDER'].astype('category').cat.codes\n",
        "df['LUNG_CANCER'] = df['LUNG_CANCER'].astype('category').cat.codes"
      ],
      "metadata": {
        "id": "P1kEcOAMtbHV"
      },
      "execution_count": null,
      "outputs": []
    },
    {
      "cell_type": "code",
      "source": [
        "# Mengambil kolom yang diperlukan untuk FP-Growth\n",
        "selected_columns = ['GENDER', 'AGE', 'SMOKING', 'YELLOW_FINGERS', 'ANXIETY', 'PEER_PRESSURE', 'CHRONIC DISEASE',\n",
        "                      'WHEEZING', 'ALCOHOL CONSUMING', 'COUGHING', 'SHORTNESS OF BREATH',\n",
        "                     'SWALLOWING DIFFICULTY', 'CHEST PAIN', 'LUNG_CANCER']\n",
        "df_fp_growth = df[selected_columns]"
      ],
      "metadata": {
        "id": "tDOH1A7lth5U"
      },
      "execution_count": null,
      "outputs": []
    },
    {
      "cell_type": "code",
      "source": [
        "# Mengubah dataframe menjadi list of lists (format yang dibutuhkan oleh pyfpgrowth)\n",
        "transactions = df_fp_growth.values.tolist()"
      ],
      "metadata": {
        "id": "HDNJyqZatsO6"
      },
      "execution_count": null,
      "outputs": []
    },
    {
      "cell_type": "code",
      "source": [
        "# Menggunakan algoritma FP-Growth\n",
        "patterns = pyfpgrowth.find_frequent_patterns(transactions, support_threshold=0.2)"
      ],
      "metadata": {
        "id": "gNU6-LaPt561"
      },
      "execution_count": null,
      "outputs": []
    },
    {
      "cell_type": "code",
      "source": [
        "# Menggunakan aturan asosiasi untuk mendapatkan asosiasi yang kuat\n",
        "rules = pyfpgrowth.generate_association_rules(patterns, confidence_threshold=0.5)"
      ],
      "metadata": {
        "id": "AELpC7Ght-li"
      },
      "execution_count": null,
      "outputs": []
    },
    {
      "cell_type": "code",
      "source": [
        "# Menampilkan hasil\n",
        "print(\"Frequent Patterns:\")\n",
        "print(patterns)\n",
        "print(\"\\nAssociation Rules:\")\n",
        "print(rules)"
      ],
      "metadata": {
        "colab": {
          "base_uri": "https://localhost:8080/"
        },
        "id": "-_AAaZU1uD58",
        "outputId": "7c350c93-1ec6-4a07-b29e-0e342d9cb997"
      },
      "execution_count": null,
      "outputs": [
        {
          "output_type": "stream",
          "name": "stdout",
          "text": [
            "Frequent Patterns:\n",
            "{(21,): 1, (0, 21): 2, (2, 21): 3, (1, 21): 8, (0, 2, 21): 2, (0, 1, 21): 2, (1, 2, 21): 3, (0, 1, 2, 21): 2, (79,): 1, (2, 79): 7, (1, 79): 6, (1, 2, 79): 6, (38,): 1, (0, 38): 1, (2, 38): 6, (1, 38): 6, (0, 2, 38): 1, (0, 1, 38): 1, (1, 2, 38): 6, (0, 1, 2, 38): 1, (39,): 1, (2, 39): 6, (1, 39): 7, (1, 2, 39): 6, (87,): 1, (0, 87): 2, (2, 87): 2, (1, 87): 9, (0, 2, 87): 2, (0, 1, 87): 2, (1, 2, 87): 2, (0, 1, 2, 87): 2, (46,): 1, (0, 46): 1, (2, 46): 4, (1, 46): 8, (0, 2, 46): 1, (0, 1, 46): 1, (1, 2, 46): 4, (0, 1, 2, 46): 1, (0, 48): 1, (0, 1, 48): 4, (0, 2, 48): 8, (0, 1, 2, 48): 4, (1, 1, 1, 1, 1, 48): 6, (1, 1, 1, 1, 1, 2, 48): 42, (1, 1, 1, 1, 1, 1, 48): 1, (1, 1, 1, 1, 1, 1, 2, 48): 1, (1, 1, 1, 1, 2, 48): 113, (1, 1, 1, 1, 2, 2, 48): 343, (1, 1, 1, 2, 48): 172, (1, 1, 1, 2, 2, 48): 532, (1, 1, 2, 48): 153, (1, 1, 2, 2, 48): 483, (1, 2, 48): 74, (1, 2, 2, 48): 238, (2, 48): 15, (2, 2, 48): 49, (0, 44): 1, (0, 1, 44): 5, (0, 2, 44): 7, (0, 1, 2, 44): 5, (1, 44): 11, (1, 2, 44): 77, (1, 1, 44): 25, (1, 1, 2, 44): 25, (2, 44): 14, (2, 2, 44): 42, (0, 78): 1, (0, 1, 78): 4, (0, 2, 78): 8, (0, 1, 2, 78): 4, (1, 1, 1, 1, 1, 78): 6, (1, 1, 1, 1, 1, 2, 78): 42, (1, 1, 1, 1, 1, 1, 78): 1, (1, 1, 1, 1, 1, 1, 2, 78): 1, (1, 1, 1, 1, 2, 78): 113, (1, 1, 1, 1, 2, 2, 78): 343, (1, 1, 1, 2, 78): 172, (1, 1, 1, 2, 2, 78): 532, (1, 1, 2, 78): 153, (1, 1, 2, 2, 78): 483, (1, 2, 78): 74, (1, 2, 2, 78): 238, (2, 78): 15, (2, 2, 78): 49, (0, 1, 1, 1, 1, 81): 35, (0, 1, 1, 1, 1, 2, 81): 175, (0, 1, 1, 1, 1, 1, 81): 21, (0, 1, 1, 1, 1, 1, 2, 81): 21, (0, 1, 1, 1, 2, 81): 184, (0, 1, 1, 1, 2, 2, 81): 386, (0, 1, 1, 2, 81): 132, (0, 1, 1, 2, 2, 81): 318, (0, 1, 2, 81): 62, (0, 1, 2, 2, 81): 178, (0, 2, 81): 14, (0, 2, 2, 81): 46, (1, 1, 1, 1, 81): 35, (1, 1, 1, 1, 2, 81): 175, (1, 1, 1, 1, 1, 81): 21, (1, 1, 1, 1, 1, 2, 81): 21, (1, 1, 1, 2, 81): 184, (1, 1, 1, 2, 2, 81): 386, (1, 1, 2, 81): 132, (1, 1, 2, 2, 81): 318, (1, 2, 81): 62, (1, 2, 2, 81): 178, (2, 81): 14, (2, 2, 81): 46, (0, 2, 2, 2, 2, 49): 5, (0, 1, 2, 2, 2, 2, 49): 35, (0, 2, 2, 2, 2, 2, 49): 1, (0, 1, 2, 2, 2, 2, 2, 49): 1, (0, 1, 2, 2, 2, 49): 79, (0, 1, 1, 2, 2, 2, 49): 246, (0, 1, 2, 2, 49): 97, (0, 1, 1, 2, 2, 49): 318, (0, 1, 2, 49): 62, (0, 1, 1, 2, 49): 213, (0, 1, 49): 16, (0, 1, 1, 49): 57, (2, 2, 2, 2, 2, 2, 49): 84, (1, 2, 2, 2, 2, 2, 2, 49): 336, (2, 2, 2, 2, 2, 2, 2, 49): 36, (1, 2, 2, 2, 2, 2, 2, 2, 49): 36, (1, 2, 2, 2, 2, 2, 49): 511, (1, 1, 2, 2, 2, 2, 2, 49): 777, (1, 2, 2, 2, 2, 49): 539, (1, 1, 2, 2, 2, 2, 49): 861, (1, 2, 2, 2, 49): 415, (1, 1, 2, 2, 2, 49): 750, (1, 2, 2, 49): 241, (1, 1, 2, 2, 49): 534, (1, 2, 49): 98, (1, 1, 2, 49): 267, (1, 49): 20, (1, 1, 49): 63, (2, 2, 2, 2, 2, 2, 2, 52): 1, (1, 2, 2, 2, 2, 2, 2, 2, 52): 6, (1, 2, 2, 2, 2, 2, 2, 52): 63, (1, 1, 2, 2, 2, 2, 2, 2, 52): 168, (1, 2, 2, 2, 2, 2, 52): 252, (1, 1, 2, 2, 2, 2, 2, 52): 693, (1, 2, 2, 2, 2, 52): 525, (1, 1, 2, 2, 2, 2, 52): 1470, (1, 2, 2, 2, 52): 630, (1, 1, 2, 2, 2, 52): 1785, (1, 2, 2, 52): 441, (1, 1, 2, 2, 52): 1260, (1, 2, 52): 168, (1, 1, 2, 52): 483, (1, 52): 27, (1, 1, 52): 78, (0, 1, 1, 1, 1, 53): 15, (0, 1, 1, 1, 1, 2, 53): 90, (0, 1, 1, 1, 1, 1, 53): 6, (0, 1, 1, 1, 1, 1, 2, 53): 6, (0, 1, 1, 1, 2, 53): 129, (0, 1, 1, 1, 2, 2, 53): 336, (0, 1, 1, 2, 53): 117, (0, 1, 1, 2, 2, 53): 333, (0, 1, 2, 53): 63, (0, 1, 2, 2, 53): 198, (0, 2, 53): 15, (0, 2, 2, 53): 51, (1, 1, 1, 1, 1, 1, 1, 53): 36, (1, 1, 1, 1, 1, 1, 1, 2, 53): 144, (1, 1, 1, 1, 1, 1, 1, 1, 53): 9, (1, 1, 1, 1, 1, 1, 1, 1, 2, 53): 9, (1, 1, 1, 1, 1, 1, 2, 53): 342, (1, 1, 1, 1, 1, 1, 2, 2, 53): 519, (1, 1, 1, 1, 1, 2, 53): 548, (1, 1, 1, 1, 1, 2, 2, 53): 874, (1, 1, 1, 1, 2, 53): 634, (1, 1, 1, 1, 2, 2, 53): 1121, (1, 1, 1, 2, 53): 545, (1, 1, 1, 2, 2, 53): 1120, (1, 1, 2, 53): 341, (1, 1, 2, 2, 53): 829, (1, 2, 53): 139, (1, 2, 2, 53): 392, (2, 53): 27, (2, 2, 53): 85, (0, 1, 1, 1, 1, 1, 1, 73): 7, (0, 1, 1, 1, 1, 1, 1, 2, 73): 35, (0, 1, 1, 1, 1, 1, 1, 1, 73): 1, (0, 1, 1, 1, 1, 1, 1, 1, 2, 73): 1, (0, 1, 1, 1, 1, 1, 2, 73): 112, (0, 1, 1, 1, 1, 1, 2, 2, 73): 231, (0, 1, 1, 1, 1, 2, 73): 218, (0, 1, 1, 1, 1, 2, 2, 73): 483, (0, 1, 1, 1, 2, 73): 277, (0, 1, 1, 1, 2, 2, 73): 672, (0, 1, 1, 2, 73): 223, (0, 1, 1, 2, 2, 73): 588, (0, 1, 2, 73): 102, (0, 1, 2, 2, 73): 287, (0, 2, 73): 20, (0, 2, 2, 73): 59, (1, 1, 1, 1, 1, 1, 1, 73): 2, (1, 1, 1, 1, 1, 1, 1, 2, 73): 11, (1, 1, 1, 1, 1, 1, 2, 73): 77, (1, 1, 1, 1, 1, 1, 2, 2, 73): 175, (1, 1, 1, 1, 1, 2, 73): 238, (1, 1, 1, 1, 1, 2, 2, 73): 546, (1, 1, 1, 1, 2, 73): 428, (1, 1, 1, 1, 2, 2, 73): 1008, (1, 1, 1, 2, 73): 487, (1, 1, 1, 2, 2, 73): 1197, (1, 1, 2, 73): 349, (1, 1, 2, 2, 73): 903, (1, 2, 73): 144, (1, 2, 2, 73): 392, (2, 73): 26, (2, 2, 73): 74, (0, 1, 47): 18, (0, 1, 1, 47): 48, (0, 2, 2, 2, 2, 2, 47): 42, (0, 1, 2, 2, 2, 2, 2, 47): 210, (0, 2, 2, 2, 2, 2, 2, 47): 14, (0, 1, 2, 2, 2, 2, 2, 2, 47): 14, (0, 1, 2, 2, 2, 2, 47): 358, (0, 1, 1, 2, 2, 2, 2, 47): 728, (0, 1, 2, 2, 2, 47): 382, (0, 1, 1, 2, 2, 2, 47): 812, (0, 1, 2, 2, 47): 258, (0, 1, 1, 2, 2, 47): 588, (0, 1, 2, 47): 102, (0, 1, 1, 2, 47): 252, (1, 1, 1, 1, 1, 1, 1, 47): 8, (1, 1, 1, 1, 1, 1, 1, 2, 47): 32, (1, 1, 1, 1, 1, 1, 1, 1, 47): 1, (1, 1, 1, 1, 1, 1, 1, 1, 2, 47): 1, (1, 1, 1, 1, 1, 1, 2, 47): 119, (1, 1, 1, 1, 1, 1, 2, 2, 47): 189, (1, 1, 1, 1, 1, 2, 47): 280, (1, 1, 1, 1, 1, 2, 2, 47): 504, (1, 1, 1, 1, 2, 47): 455, (1, 1, 1, 1, 2, 2, 47): 945, (1, 1, 1, 2, 47): 504, (1, 1, 1, 2, 2, 47): 1176, (1, 1, 2, 47): 357, (1, 1, 2, 2, 47): 903, (1, 2, 47): 144, (1, 2, 2, 47): 384, (2, 47): 25, (2, 2, 47): 69, (0, 66): 2, (0, 1, 66): 8, (0, 2, 66): 16, (0, 1, 2, 66): 8, (1, 1, 1, 1, 1, 1, 1, 66): 8, (1, 1, 1, 1, 1, 1, 1, 2, 66): 40, (1, 1, 1, 1, 1, 1, 1, 1, 66): 1, (1, 1, 1, 1, 1, 1, 1, 1, 2, 66): 1, (1, 1, 1, 1, 1, 1, 2, 66): 147, (1, 1, 1, 1, 1, 1, 2, 2, 66): 301, (1, 1, 1, 1, 1, 2, 66): 322, (1, 1, 1, 1, 1, 2, 2, 66): 686, (1, 1, 1, 1, 2, 66): 471, (1, 1, 1, 1, 2, 2, 66): 1071, (1, 1, 1, 2, 66): 484, (1, 1, 1, 2, 2, 66): 1204, (1, 1, 2, 66): 341, (1, 1, 2, 2, 66): 931, (1, 2, 66): 146, (1, 2, 2, 66): 430, (2, 66): 28, (2, 2, 66): 87, (0, 1, 1, 1, 1, 76): 5, (0, 1, 1, 1, 1, 2, 76): 35, (0, 1, 1, 1, 1, 1, 76): 1, (0, 1, 1, 1, 1, 1, 2, 76): 1, (0, 1, 1, 1, 2, 76): 79, (0, 1, 1, 1, 2, 2, 76): 246, (0, 1, 1, 2, 76): 97, (0, 1, 1, 2, 2, 76): 318, (0, 1, 2, 76): 62, (0, 1, 2, 2, 76): 213, (0, 2, 76): 16, (0, 2, 2, 76): 57, (1, 1, 1, 1, 1, 1, 76): 14, (1, 1, 1, 1, 1, 1, 2, 76): 84, (1, 1, 1, 1, 1, 1, 1, 76): 2, (1, 1, 1, 1, 1, 1, 1, 2, 76): 2, (1, 1, 1, 1, 1, 2, 76): 259, (1, 1, 1, 1, 1, 2, 2, 76): 651, (1, 1, 1, 1, 2, 76): 455, (1, 1, 1, 1, 2, 2, 76): 1155, (1, 1, 1, 2, 76): 499, (1, 1, 1, 2, 2, 76): 1296, (1, 1, 2, 76): 349, (1, 1, 2, 2, 76): 948, (1, 2, 76): 146, (1, 2, 2, 76): 423, (2, 76): 28, (2, 2, 76): 87, (0, 2, 2, 2, 2, 2, 2, 75): 1, (0, 1, 2, 2, 2, 2, 2, 2, 75): 6, (0, 1, 2, 2, 2, 2, 2, 75): 50, (0, 1, 1, 2, 2, 2, 2, 2, 75): 132, (0, 1, 2, 2, 2, 2, 75): 160, (0, 1, 1, 2, 2, 2, 2, 75): 435, (0, 1, 2, 2, 2, 75): 260, (0, 1, 1, 2, 2, 2, 75): 720, (0, 1, 2, 2, 75): 230, (0, 1, 1, 2, 2, 75): 645, (0, 1, 2, 75): 106, (0, 1, 1, 2, 75): 300, (0, 1, 75): 20, (0, 1, 1, 75): 57, (2, 2, 2, 2, 2, 2, 2, 75): 1, (1, 2, 2, 2, 2, 2, 2, 2, 75): 6, (1, 2, 2, 2, 2, 2, 2, 75): 55, (1, 1, 2, 2, 2, 2, 2, 2, 75): 141, (1, 2, 2, 2, 2, 2, 75): 218, (1, 1, 2, 2, 2, 2, 2, 75): 573, (1, 2, 2, 2, 2, 75): 475, (1, 1, 2, 2, 2, 2, 75): 1275, (1, 2, 2, 2, 75): 610, (1, 1, 2, 2, 2, 75): 1665, (1, 2, 2, 75): 461, (1, 1, 2, 2, 75): 1275, (1, 2, 75): 190, (1, 1, 2, 75): 531, (1, 75): 33, (1, 1, 75): 93, (0, 1, 1, 1, 1, 1, 74): 6, (0, 1, 1, 1, 1, 1, 2, 74): 36, (0, 1, 1, 1, 1, 1, 1, 74): 1, (0, 1, 1, 1, 1, 1, 1, 2, 74): 1, (0, 1, 1, 1, 1, 2, 74): 98, (0, 1, 1, 1, 1, 2, 2, 74): 253, (0, 1, 1, 1, 2, 74): 152, (0, 1, 1, 1, 2, 2, 74): 412, (0, 1, 1, 2, 74): 138, (0, 1, 1, 2, 2, 74): 393, (0, 1, 2, 74): 68, (0, 1, 2, 2, 74): 202, (0, 2, 74): 14, (0, 2, 2, 74): 43, (1, 1, 1, 1, 1, 1, 1, 1, 74): 1, (1, 1, 1, 1, 1, 1, 1, 1, 2, 74): 5, (1, 1, 1, 1, 1, 1, 1, 2, 74): 46, (1, 1, 1, 1, 1, 1, 1, 2, 2, 74): 95, (1, 1, 1, 1, 1, 1, 2, 74): 202, (1, 1, 1, 1, 1, 1, 2, 2, 74): 442, (1, 1, 1, 1, 1, 2, 74): 526, (1, 1, 1, 1, 1, 2, 2, 74): 1217, (1, 1, 1, 1, 2, 74): 868, (1, 1, 1, 1, 2, 2, 74): 2108, (1, 1, 1, 2, 74): 922, (1, 1, 1, 2, 2, 74): 2337, (1, 1, 2, 74): 614, (1, 1, 2, 2, 74): 1618, (1, 2, 74): 234, (1, 2, 2, 74): 639, (2, 74): 39, (2, 2, 74): 110, (0, 1, 1, 1, 1, 65): 2, (0, 1, 1, 1, 1, 2, 65): 16, (0, 1, 1, 1, 2, 65): 73, (0, 1, 1, 1, 2, 2, 65): 260, (0, 1, 1, 2, 65): 123, (0, 1, 1, 2, 2, 65): 444, (0, 1, 2, 65): 91, (0, 1, 2, 2, 65): 332, (0, 2, 65): 25, (0, 2, 2, 65): 92, (1, 1, 1, 1, 1, 1, 1, 1, 65): 1, (1, 1, 1, 1, 1, 1, 1, 1, 2, 65): 5, (1, 1, 1, 1, 1, 1, 1, 2, 65): 52, (1, 1, 1, 1, 1, 1, 1, 2, 2, 65): 110, (1, 1, 1, 1, 1, 1, 2, 65): 224, (1, 1, 1, 1, 1, 1, 2, 2, 65): 490, (1, 1, 1, 1, 1, 2, 65): 540, (1, 1, 1, 1, 1, 2, 2, 65): 1218, (1, 1, 1, 1, 2, 65): 826, (1, 1, 1, 1, 2, 2, 65): 1946, (1, 1, 1, 2, 65): 853, (1, 1, 1, 2, 2, 65): 2150, (1, 1, 2, 65): 595, (1, 1, 2, 2, 65): 1634, (1, 2, 65): 255, (1, 2, 2, 65): 762, (2, 65): 50, (2, 2, 65): 160, (0, 2, 2, 2, 2, 2, 2, 51): 4, (0, 1, 2, 2, 2, 2, 2, 2, 51): 24, (0, 1, 2, 2, 2, 2, 2, 51): 151, (0, 1, 1, 2, 2, 2, 2, 2, 51): 381, (0, 1, 2, 2, 2, 2, 51): 395, (0, 1, 1, 2, 2, 2, 2, 51): 1005, (0, 1, 2, 2, 2, 51): 550, (0, 1, 1, 2, 2, 2, 51): 1410, (0, 1, 2, 2, 51): 430, (0, 1, 1, 2, 2, 51): 1110, (0, 1, 2, 51): 179, (0, 1, 1, 2, 51): 465, (0, 1, 51): 31, (0, 1, 1, 51): 81, (2, 2, 2, 2, 2, 2, 2, 51): 2, (1, 2, 2, 2, 2, 2, 2, 2, 51): 12, (1, 2, 2, 2, 2, 2, 2, 51): 115, (1, 1, 2, 2, 2, 2, 2, 2, 51): 291, (1, 2, 2, 2, 2, 2, 51): 445, (1, 1, 2, 2, 2, 2, 2, 51): 1137, (1, 2, 2, 2, 2, 51): 920, (1, 1, 2, 2, 2, 2, 51): 2370, (1, 2, 2, 2, 51): 1110, (1, 1, 2, 2, 2, 51): 2880, (1, 2, 2, 51): 787, (1, 1, 2, 2, 51): 2055, (1, 2, 51): 305, (1, 1, 2, 51): 801, (1, 51): 50, (1, 1, 51): 132, (0, 1, 1, 1, 1, 1, 54): 2, (0, 1, 1, 1, 1, 1, 2, 54): 14, (0, 1, 1, 1, 1, 2, 54): 78, (0, 1, 1, 1, 1, 2, 2, 54): 238, (0, 1, 1, 1, 2, 54): 199, (0, 1, 1, 1, 2, 2, 54): 640, (0, 1, 1, 2, 54): 269, (0, 1, 1, 2, 2, 54): 912, (0, 1, 2, 54): 183, (0, 1, 2, 2, 54): 646, (0, 2, 54): 49, (0, 2, 2, 54): 178, (1, 1, 1, 1, 1, 1, 54): 84, (1, 1, 1, 1, 1, 1, 2, 54): 336, (1, 1, 1, 1, 1, 1, 1, 54): 36, (1, 1, 1, 1, 1, 1, 1, 2, 54): 36, (1, 1, 1, 1, 1, 2, 54): 526, (1, 1, 1, 1, 1, 2, 2, 54): 826, (1, 1, 1, 1, 2, 54): 622, (1, 1, 1, 1, 2, 2, 54): 1134, (1, 1, 1, 2, 54): 615, (1, 1, 1, 2, 2, 54): 1424, (1, 1, 2, 54): 493, (1, 1, 2, 2, 54): 1408, (1, 2, 54): 259, (1, 2, 2, 54): 840, (2, 54): 61, (2, 2, 54): 212, (0, 0, 68): 1, (0, 0, 2, 68): 2, (0, 0, 1, 68): 9, (0, 0, 1, 2, 68): 2, (0, 2, 2, 2, 2, 2, 2, 68): 7, (0, 1, 2, 2, 2, 2, 2, 2, 68): 35, (0, 2, 2, 2, 2, 2, 2, 2, 68): 1, (0, 1, 2, 2, 2, 2, 2, 2, 2, 68): 1, (0, 1, 2, 2, 2, 2, 2, 68): 119, (0, 1, 1, 2, 2, 2, 2, 2, 68): 252, (0, 1, 2, 2, 2, 2, 68): 253, (0, 1, 1, 2, 2, 2, 2, 68): 588, (0, 1, 2, 2, 2, 68): 347, (0, 1, 1, 2, 2, 2, 68): 882, (0, 1, 2, 2, 68): 321, (0, 1, 1, 2, 2, 68): 915, (0, 1, 2, 68): 193, (0, 1, 1, 2, 68): 626, (0, 1, 68): 55, (0, 1, 1, 68): 197, (2, 2, 2, 2, 2, 2, 2, 2, 68): 9, (1, 2, 2, 2, 2, 2, 2, 2, 2, 68): 36, (2, 2, 2, 2, 2, 2, 2, 2, 2, 68): 1, (1, 2, 2, 2, 2, 2, 2, 2, 2, 2, 68): 1, (1, 2, 2, 2, 2, 2, 2, 2, 68): 155, (1, 1, 2, 2, 2, 2, 2, 2, 2, 68): 241, (1, 2, 2, 2, 2, 2, 2, 68): 420, (1, 1, 2, 2, 2, 2, 2, 2, 68): 700, (1, 2, 2, 2, 2, 2, 68): 791, (1, 1, 2, 2, 2, 2, 2, 68): 1449, (1, 2, 2, 2, 2, 68): 1072, (1, 1, 2, 2, 2, 2, 68): 2184, (1, 2, 2, 2, 68): 1033, (1, 1, 2, 2, 2, 68): 2331, (1, 2, 2, 68): 687, (1, 1, 2, 2, 68): 1725, (1, 2, 68): 295, (1, 1, 2, 68): 839, (1, 68): 63, (1, 1, 68): 203, (0, 0, 2, 2, 2, 2, 57): 1, (0, 0, 1, 2, 2, 2, 2, 57): 7, (0, 0, 1, 2, 2, 2, 57): 44, (0, 0, 1, 1, 2, 2, 2, 57): 140, (0, 0, 1, 2, 2, 57): 90, (0, 0, 1, 1, 2, 2, 57): 294, (0, 0, 1, 2, 57): 76, (0, 0, 1, 1, 2, 57): 252, (0, 0, 1, 57): 23, (0, 0, 1, 1, 57): 77, (0, 2, 2, 2, 2, 2, 2, 57): 28, (0, 1, 2, 2, 2, 2, 2, 2, 57): 112, (0, 2, 2, 2, 2, 2, 2, 2, 57): 8, (0, 1, 2, 2, 2, 2, 2, 2, 2, 57): 8, (0, 1, 2, 2, 2, 2, 2, 57): 231, (0, 1, 1, 2, 2, 2, 2, 2, 57): 357, (0, 1, 2, 2, 2, 2, 57): 329, (0, 1, 1, 2, 2, 2, 2, 57): 567, (0, 1, 2, 2, 2, 57): 382, (0, 1, 1, 2, 2, 2, 57): 826, (0, 1, 2, 2, 57): 362, (0, 1, 1, 2, 2, 57): 966, (0, 1, 2, 57): 219, (0, 1, 1, 2, 57): 657, (0, 1, 57): 57, (0, 1, 1, 57): 181, (2, 2, 2, 2, 2, 2, 2, 2, 57): 2, (1, 2, 2, 2, 2, 2, 2, 2, 2, 57): 9, (1, 2, 2, 2, 2, 2, 2, 2, 57): 72, (1, 1, 2, 2, 2, 2, 2, 2, 2, 57): 128, (1, 2, 2, 2, 2, 2, 2, 57): 266, (1, 1, 2, 2, 2, 2, 2, 2, 57): 490, (1, 2, 2, 2, 2, 2, 57): 595, (1, 1, 2, 2, 2, 2, 2, 57): 1169, (1, 2, 2, 2, 2, 57): 891, (1, 1, 2, 2, 2, 2, 57): 1912, (1, 2, 2, 2, 57): 934, (1, 1, 2, 2, 2, 57): 2230, (1, 2, 2, 57): 676, (1, 1, 2, 2, 57): 1798, (1, 2, 57): 303, (1, 1, 2, 57): 881, (1, 57): 62, (1, 1, 57): 192, (0, 1, 1, 1, 1, 1, 1, 1, 77): 1, (0, 1, 1, 1, 1, 1, 1, 1, 2, 77): 5, (0, 1, 1, 1, 1, 1, 1, 2, 77): 47, (0, 1, 1, 1, 1, 1, 1, 2, 2, 77): 100, (0, 1, 1, 1, 1, 1, 2, 77): 184, (0, 1, 1, 1, 1, 1, 2, 2, 77): 411, (0, 1, 1, 1, 1, 2, 77): 390, (0, 1, 1, 1, 1, 2, 2, 77): 905, (0, 1, 1, 1, 2, 77): 494, (0, 1, 1, 1, 2, 2, 77): 1196, (0, 1, 1, 2, 77): 382, (0, 1, 1, 2, 2, 77): 978, (0, 1, 2, 77): 169, (0, 1, 2, 2, 77): 463, (0, 2, 77): 33, (0, 2, 2, 77): 97, (1, 1, 1, 1, 1, 1, 1, 1, 1, 77): 1, (1, 1, 1, 1, 1, 1, 1, 1, 1, 2, 77): 4, (1, 1, 1, 1, 1, 1, 1, 1, 2, 77): 41, (1, 1, 1, 1, 1, 1, 1, 1, 2, 2, 77): 64, (1, 1, 1, 1, 1, 1, 1, 2, 77): 189, (1, 1, 1, 1, 1, 1, 1, 2, 2, 77): 306, (1, 1, 1, 1, 1, 1, 2, 77): 530, (1, 1, 1, 1, 1, 1, 2, 2, 77): 905, (1, 1, 1, 1, 1, 2, 77): 1018, (1, 1, 1, 1, 1, 2, 2, 77): 1881, (1, 1, 1, 1, 2, 77): 1389, (1, 1, 1, 1, 2, 2, 77): 2816, (1, 1, 1, 2, 77): 1330, (1, 1, 1, 2, 2, 77): 2960, (1, 1, 2, 77): 851, (1, 1, 2, 2, 77): 2069, (1, 2, 77): 327, (1, 2, 2, 77): 863, (2, 77): 57, (2, 2, 77): 162, (0, 1, 72): 30, (0, 1, 1, 72): 82, (0, 2, 2, 2, 2, 2, 2, 72): 56, (0, 1, 2, 2, 2, 2, 2, 2, 72): 224, (0, 2, 2, 2, 2, 2, 2, 2, 72): 16, (0, 1, 2, 2, 2, 2, 2, 2, 2, 72): 16, (0, 1, 2, 2, 2, 2, 2, 72): 462, (0, 1, 1, 2, 2, 2, 2, 2, 72): 714, (0, 1, 2, 2, 2, 2, 72): 638, (0, 1, 1, 2, 2, 2, 2, 72): 1078, (0, 1, 2, 2, 2, 72): 620, (0, 1, 1, 2, 2, 2, 72): 1204, (0, 1, 2, 2, 72): 412, (0, 1, 1, 2, 2, 72): 924, (0, 1, 2, 72): 166, (0, 1, 1, 2, 72): 418, (1, 1, 1, 1, 1, 1, 1, 1, 72): 1, (1, 1, 1, 1, 1, 1, 1, 1, 2, 72): 4, (1, 1, 1, 1, 1, 1, 1, 2, 72): 54, (1, 1, 1, 1, 1, 1, 1, 2, 2, 72): 98, (1, 1, 1, 1, 1, 1, 2, 72): 273, (1, 1, 1, 1, 1, 1, 2, 2, 72): 539, (1, 1, 1, 1, 1, 2, 72): 728, (1, 1, 1, 1, 1, 2, 2, 72): 1512, (1, 1, 1, 1, 2, 72): 1171, (1, 1, 1, 1, 2, 2, 72): 2541, (1, 1, 1, 2, 72): 1208, (1, 1, 1, 2, 2, 72): 2775, (1, 1, 2, 72): 816, (1, 1, 2, 2, 72): 2059, (1, 2, 72): 344, (1, 2, 2, 72): 993, (2, 72): 70, (2, 2, 72): 233, (0, 0, 71): 1, (0, 0, 2, 71): 3, (0, 0, 1, 71): 8, (0, 0, 1, 2, 71): 3, (0, 2, 2, 2, 2, 2, 2, 2, 2, 71): 18, (0, 1, 2, 2, 2, 2, 2, 2, 2, 2, 71): 54, (0, 2, 2, 2, 2, 2, 2, 2, 2, 2, 71): 2, (0, 1, 2, 2, 2, 2, 2, 2, 2, 2, 2, 71): 2, (0, 1, 2, 2, 2, 2, 2, 2, 2, 71): 221, (0, 1, 1, 2, 2, 2, 2, 2, 2, 2, 71): 226, (0, 1, 2, 2, 2, 2, 2, 2, 71): 539, (0, 1, 1, 2, 2, 2, 2, 2, 2, 71): 574, (0, 1, 2, 2, 2, 2, 2, 71): 868, (0, 1, 1, 2, 2, 2, 2, 2, 71): 987, (0, 1, 2, 2, 2, 2, 71): 974, (0, 1, 1, 2, 2, 2, 2, 71): 1239, (0, 1, 2, 2, 2, 71): 797, (0, 1, 1, 2, 2, 2, 71): 1232, (0, 1, 2, 2, 71): 487, (0, 1, 1, 2, 2, 71): 972, (0, 1, 2, 71): 204, (0, 1, 1, 2, 71): 509, (0, 1, 71): 42, (0, 1, 1, 71): 121, (1, 1, 1, 1, 1, 1, 1, 1, 71): 2, (1, 1, 1, 1, 1, 1, 1, 1, 2, 71): 7, (1, 1, 1, 1, 1, 1, 1, 2, 71): 67, (1, 1, 1, 1, 1, 1, 1, 2, 2, 71): 97, (1, 1, 1, 1, 1, 1, 2, 71): 280, (1, 1, 1, 1, 1, 1, 2, 2, 71): 448, (1, 1, 1, 1, 1, 2, 71): 672, (1, 1, 1, 1, 1, 2, 2, 71): 1176, (1, 1, 1, 1, 2, 71): 1033, (1, 1, 1, 1, 2, 2, 71): 1997, (1, 1, 1, 2, 71): 1077, (1, 1, 1, 2, 2, 71): 2369, (1, 1, 2, 71): 764, (1, 1, 2, 2, 71): 1950, (1, 2, 71): 336, (1, 2, 2, 71): 982, (2, 71): 68, (2, 2, 71): 220, (0, 2, 2, 2, 2, 69): 15, (0, 1, 2, 2, 2, 2, 69): 105, (0, 2, 2, 2, 2, 2, 69): 3, (0, 1, 2, 2, 2, 2, 2, 69): 3, (0, 1, 2, 2, 2, 69): 219, (0, 1, 1, 2, 2, 2, 69): 666, (0, 1, 2, 2, 69): 237, (0, 1, 1, 2, 2, 69): 738, (0, 1, 2, 69): 143, (0, 1, 1, 2, 69): 478, (0, 1, 69): 41, (0, 1, 1, 69): 154, (2, 2, 2, 2, 2, 2, 2, 2, 69): 2, (1, 2, 2, 2, 2, 2, 2, 2, 2, 69): 10, (1, 2, 2, 2, 2, 2, 2, 2, 69): 86, (1, 1, 2, 2, 2, 2, 2, 2, 2, 69): 175, (1, 2, 2, 2, 2, 2, 2, 69): 343, (1, 1, 2, 2, 2, 2, 2, 2, 69): 728, (1, 2, 2, 2, 2, 2, 69): 833, (1, 1, 2, 2, 2, 2, 2, 69): 1876, (1, 2, 2, 2, 2, 69): 1330, (1, 1, 2, 2, 2, 2, 69): 3185, (1, 2, 2, 2, 69): 1409, (1, 1, 2, 2, 2, 69): 3571, (1, 2, 2, 69): 958, (1, 1, 2, 2, 69): 2558, (1, 2, 69): 391, (1, 1, 2, 69): 1121, (1, 69): 78, (1, 1, 69): 252, (0, 0, 55): 1, (0, 0, 2, 55): 2, (0, 0, 1, 55): 9, (0, 0, 1, 2, 55): 2, (0, 2, 2, 2, 2, 2, 2, 2, 2, 55): 9, (0, 1, 2, 2, 2, 2, 2, 2, 2, 2, 55): 27, (0, 2, 2, 2, 2, 2, 2, 2, 2, 2, 55): 1, (0, 1, 2, 2, 2, 2, 2, 2, 2, 2, 2, 55): 1, (0, 1, 2, 2, 2, 2, 2, 2, 2, 55): 118, (0, 1, 1, 2, 2, 2, 2, 2, 2, 2, 55): 128, (0, 1, 2, 2, 2, 2, 2, 2, 55): 322, (0, 1, 1, 2, 2, 2, 2, 2, 2, 55): 392, (0, 1, 2, 2, 2, 2, 2, 55): 609, (0, 1, 1, 2, 2, 2, 2, 2, 55): 861, (0, 1, 2, 2, 2, 2, 55): 833, (0, 1, 1, 2, 2, 2, 2, 55): 1393, (0, 1, 2, 2, 2, 55): 821, (0, 1, 1, 2, 2, 2, 55): 1618, (0, 1, 2, 2, 55): 573, (0, 1, 1, 2, 2, 55): 1338, (0, 1, 2, 55): 265, (0, 1, 1, 2, 55): 734, (0, 1, 55): 61, (0, 1, 1, 55): 194, (2, 2, 2, 2, 2, 2, 2, 2, 55): 9, (1, 2, 2, 2, 2, 2, 2, 2, 2, 55): 27, (2, 2, 2, 2, 2, 2, 2, 2, 2, 55): 1, (1, 2, 2, 2, 2, 2, 2, 2, 2, 2, 55): 1, (1, 2, 2, 2, 2, 2, 2, 2, 55): 118, (1, 1, 2, 2, 2, 2, 2, 2, 2, 55): 128, (1, 2, 2, 2, 2, 2, 2, 55): 336, (1, 1, 2, 2, 2, 2, 2, 2, 55): 434, (1, 2, 2, 2, 2, 2, 55): 693, (1, 1, 2, 2, 2, 2, 2, 55): 1113, (1, 2, 2, 2, 2, 55): 1043, (1, 1, 2, 2, 2, 2, 55): 2023, (1, 2, 2, 2, 55): 1101, (1, 1, 2, 2, 2, 55): 2458, (1, 2, 2, 55): 774, (1, 1, 2, 2, 55): 1932, (1, 2, 55): 343, (1, 1, 2, 55): 980, (1, 55): 78, (1, 1, 55): 266, (0, 0, 58): 1, (0, 0, 2, 58): 1, (0, 0, 1, 58): 10, (0, 0, 1, 2, 58): 1, (0, 2, 2, 58): 42, (0, 1, 2, 2, 58): 210, (0, 2, 2, 2, 58): 70, (0, 1, 2, 2, 2, 58): 70, (0, 1, 2, 58): 90, (0, 1, 1, 2, 58): 230, (0, 1, 58): 30, (0, 1, 1, 58): 110, (2, 2, 2, 2, 2, 2, 2, 58): 26, (1, 2, 2, 2, 2, 2, 2, 2, 58): 130, (2, 2, 2, 2, 2, 2, 2, 2, 58): 3, (1, 2, 2, 2, 2, 2, 2, 2, 2, 58): 3, (1, 2, 2, 2, 2, 2, 2, 58): 504, (1, 1, 2, 2, 2, 2, 2, 2, 58): 1022, (1, 2, 2, 2, 2, 2, 58): 1150, (1, 1, 2, 2, 2, 2, 2, 58): 2408, (1, 2, 2, 2, 2, 58): 1717, (1, 1, 2, 2, 2, 2, 58): 3818, (1, 2, 2, 2, 58): 1738, (1, 1, 2, 2, 2, 58): 4212, (1, 2, 2, 58): 1162, (1, 1, 2, 2, 58): 3098, (1, 2, 58): 472, (1, 1, 2, 58): 1389, (1, 58): 92, (1, 1, 58): 301, (0, 0, 67): 1, (0, 0, 2, 67): 4, (0, 0, 1, 67): 7, (0, 0, 1, 2, 67): 4, (0, 2, 2, 2, 2, 2, 2, 2, 2, 67): 1, (0, 1, 2, 2, 2, 2, 2, 2, 2, 2, 67): 4, (0, 1, 2, 2, 2, 2, 2, 2, 2, 67): 42, (0, 1, 1, 2, 2, 2, 2, 2, 2, 2, 67): 68, (0, 1, 2, 2, 2, 2, 2, 2, 67): 182, (0, 1, 1, 2, 2, 2, 2, 2, 2, 67): 308, (0, 1, 2, 2, 2, 2, 2, 67): 434, (0, 1, 1, 2, 2, 2, 2, 2, 67): 756, (0, 1, 2, 2, 2, 2, 67): 652, (0, 1, 1, 2, 2, 2, 2, 67): 1190, (0, 1, 2, 2, 2, 67): 662, (0, 1, 1, 2, 2, 2, 67): 1316, (0, 1, 2, 2, 67): 454, (0, 1, 1, 2, 2, 67): 1008, (0, 1, 2, 67): 190, (0, 1, 1, 2, 67): 468, (0, 1, 67): 36, (0, 1, 1, 67): 96, (2, 2, 2, 2, 2, 2, 2, 2, 67): 2, (1, 2, 2, 2, 2, 2, 2, 2, 2, 67): 9, (1, 2, 2, 2, 2, 2, 2, 2, 67): 82, (1, 1, 2, 2, 2, 2, 2, 2, 2, 67): 148, (1, 2, 2, 2, 2, 2, 2, 67): 343, (1, 1, 2, 2, 2, 2, 2, 2, 67): 651, (1, 2, 2, 2, 2, 2, 67): 872, (1, 1, 2, 2, 2, 2, 2, 67): 1806, (1, 2, 2, 2, 2, 67): 1470, (1, 1, 2, 2, 2, 2, 67): 3374, (1, 2, 2, 2, 67): 1654, (1, 1, 2, 2, 2, 67): 4172, (1, 2, 2, 67): 1187, (1, 1, 2, 2, 67): 3227, (1, 2, 67): 488, (1, 1, 2, 67): 1402, (1, 67): 87, (1, 1, 67): 260, (0, 0, 2, 2, 2, 2, 59): 5, (0, 0, 1, 2, 2, 2, 2, 59): 30, (0, 0, 2, 2, 2, 2, 2, 59): 1, (0, 0, 1, 2, 2, 2, 2, 2, 59): 1, (0, 0, 1, 2, 2, 2, 59): 68, (0, 0, 1, 1, 2, 2, 2, 59): 178, (0, 0, 1, 2, 2, 59): 84, (0, 0, 1, 1, 2, 2, 59): 234, (0, 0, 1, 2, 59): 54, (0, 0, 1, 1, 2, 59): 159, (0, 0, 1, 59): 14, (0, 0, 1, 1, 59): 43, (0, 2, 2, 2, 2, 2, 2, 2, 2, 2, 59): 2, (0, 1, 2, 2, 2, 2, 2, 2, 2, 2, 2, 59): 6, (0, 1, 2, 2, 2, 2, 2, 2, 2, 2, 59): 58, (0, 1, 1, 2, 2, 2, 2, 2, 2, 2, 2, 59): 60, (0, 1, 2, 2, 2, 2, 2, 2, 2, 59): 248, (0, 1, 1, 2, 2, 2, 2, 2, 2, 2, 59): 264, (0, 1, 2, 2, 2, 2, 2, 2, 59): 634, (0, 1, 1, 2, 2, 2, 2, 2, 2, 59): 717, (0, 1, 2, 2, 2, 2, 2, 59): 1100, (0, 1, 1, 2, 2, 2, 2, 2, 59): 1392, (0, 1, 2, 2, 2, 2, 59): 1382, (0, 1, 1, 2, 2, 2, 2, 59): 2057, (0, 1, 2, 2, 2, 59): 1288, (0, 1, 1, 2, 2, 2, 59): 2320, (0, 1, 2, 2, 59): 862, (0, 1, 1, 2, 2, 59): 1863, (0, 1, 2, 59): 366, (0, 1, 1, 2, 59): 914, (0, 1, 59): 72, (0, 1, 1, 59): 199, (1, 1, 1, 1, 1, 1, 1, 1, 59): 5, (1, 1, 1, 1, 1, 1, 1, 1, 2, 59): 21, (1, 1, 1, 1, 1, 1, 1, 2, 59): 174, (1, 1, 1, 1, 1, 1, 1, 2, 2, 59): 295, (1, 1, 1, 1, 1, 1, 2, 59): 660, (1, 1, 1, 1, 1, 1, 2, 2, 59): 1161, (1, 1, 1, 1, 1, 2, 59): 1482, (1, 1, 1, 1, 1, 2, 2, 59): 2731, (1, 1, 1, 1, 2, 59): 2147, (1, 1, 1, 1, 2, 2, 59): 4179, (1, 1, 1, 2, 59): 2072, (1, 1, 1, 2, 2, 59): 4333, (1, 1, 2, 59): 1320, (1, 1, 2, 2, 59): 3035, (1, 2, 59): 512, (1, 2, 2, 59): 1313, (2, 59): 92, (2, 2, 59): 262, (0, 0, 70): 1, (0, 0, 2, 70): 2, (0, 0, 1, 70): 9, (0, 0, 1, 2, 70): 2, (0, 2, 2, 2, 2, 2, 2, 2, 2, 70): 1, (0, 1, 2, 2, 2, 2, 2, 2, 2, 2, 70): 4, (0, 1, 2, 2, 2, 2, 2, 2, 2, 70): 37, (0, 1, 1, 2, 2, 2, 2, 2, 2, 2, 70): 58, (0, 1, 2, 2, 2, 2, 2, 2, 70): 153, (0, 1, 1, 2, 2, 2, 2, 2, 2, 70): 253, (0, 1, 2, 2, 2, 2, 2, 70): 379, (0, 1, 1, 2, 2, 2, 2, 2, 70): 678, (0, 1, 2, 2, 2, 2, 70): 623, (0, 1, 1, 2, 2, 2, 2, 70): 1233, (0, 1, 2, 2, 2, 70): 691, (0, 1, 1, 2, 2, 2, 70): 1518, (0, 1, 2, 2, 70): 513, (0, 1, 1, 2, 2, 70): 1263, (0, 1, 2, 70): 241, (0, 1, 1, 2, 70): 674, (0, 1, 70): 55, (0, 1, 1, 70): 173, (2, 2, 2, 2, 2, 2, 2, 2, 70): 2, (1, 2, 2, 2, 2, 2, 2, 2, 2, 70): 9, (1, 2, 2, 2, 2, 2, 2, 2, 70): 77, (1, 1, 2, 2, 2, 2, 2, 2, 2, 70): 138, (1, 2, 2, 2, 2, 2, 2, 70): 321, (1, 1, 2, 2, 2, 2, 2, 2, 70): 617, (1, 2, 2, 2, 2, 2, 70): 843, (1, 1, 2, 2, 2, 2, 2, 70): 1798, (1, 2, 2, 2, 2, 70): 1482, (1, 1, 2, 2, 2, 2, 70): 3509, (1, 2, 2, 2, 70): 1727, (1, 1, 2, 2, 2, 70): 4462, (1, 2, 2, 70): 1278, (1, 1, 2, 2, 70): 3543, (1, 2, 70): 547, (1, 1, 2, 70): 1610, (1, 70): 104, (1, 1, 70): 323, (0, 0, 61): 1, (0, 0, 2, 61): 2, (0, 0, 1, 61): 9, (0, 0, 1, 2, 61): 2, (0, 2, 2, 2, 2, 2, 2, 2, 2, 2, 61): 1, (0, 1, 2, 2, 2, 2, 2, 2, 2, 2, 2, 61): 3, (0, 1, 2, 2, 2, 2, 2, 2, 2, 2, 61): 31, (0, 1, 1, 2, 2, 2, 2, 2, 2, 2, 2, 61): 33, (0, 1, 2, 2, 2, 2, 2, 2, 2, 61): 160, (0, 1, 1, 2, 2, 2, 2, 2, 2, 2, 61): 196, (0, 1, 2, 2, 2, 2, 2, 2, 61): 516, (0, 1, 1, 2, 2, 2, 2, 2, 2, 61): 730, (0, 1, 2, 2, 2, 2, 2, 61): 1101, (0, 1, 1, 2, 2, 2, 2, 2, 61): 1755, (0, 1, 2, 2, 2, 2, 61): 1581, (0, 1, 1, 2, 2, 2, 2, 61): 2781, (0, 1, 2, 2, 2, 61): 1536, (0, 1, 1, 2, 2, 2, 61): 2982, (0, 1, 2, 2, 61): 1010, (0, 1, 1, 2, 2, 61): 2232, (0, 1, 2, 61): 428, (0, 1, 1, 2, 61): 1112, (0, 1, 61): 90, (0, 1, 1, 61): 272, (2, 2, 2, 2, 2, 2, 2, 2, 2, 61): 1, (1, 2, 2, 2, 2, 2, 2, 2, 2, 2, 61): 3, (1, 2, 2, 2, 2, 2, 2, 2, 2, 61): 31, (1, 1, 2, 2, 2, 2, 2, 2, 2, 2, 61): 33, (1, 2, 2, 2, 2, 2, 2, 2, 61): 172, (1, 1, 2, 2, 2, 2, 2, 2, 2, 61): 226, (1, 2, 2, 2, 2, 2, 2, 61): 607, (1, 1, 2, 2, 2, 2, 2, 2, 61): 961, (1, 2, 2, 2, 2, 2, 61): 1395, (1, 1, 2, 2, 2, 2, 2, 61): 2511, (1, 2, 2, 2, 2, 61): 2106, (1, 1, 2, 2, 2, 2, 61): 4146, (1, 2, 2, 2, 61): 2096, (1, 1, 2, 2, 2, 61): 4452, (1, 2, 2, 61): 1358, (1, 1, 2, 2, 61): 3141, (1, 2, 61): 536, (1, 1, 2, 61): 1376, (1, 61): 100, (1, 1, 61): 287, (0, 0, 2, 2, 2, 60): 1, (0, 0, 1, 2, 2, 2, 60): 8, (0, 0, 1, 2, 2, 60): 33, (0, 0, 1, 1, 2, 2, 60): 120, (0, 0, 1, 2, 60): 42, (0, 0, 1, 1, 2, 60): 156, (0, 0, 1, 60): 17, (0, 0, 1, 1, 60): 64, (0, 2, 2, 2, 2, 2, 2, 2, 60): 36, (0, 1, 2, 2, 2, 2, 2, 2, 2, 60): 108, (0, 2, 2, 2, 2, 2, 2, 2, 2, 60): 9, (0, 1, 2, 2, 2, 2, 2, 2, 2, 2, 60): 9, (0, 1, 2, 2, 2, 2, 2, 2, 60): 258, (0, 1, 1, 2, 2, 2, 2, 2, 2, 60): 267, (0, 1, 2, 2, 2, 2, 2, 60): 414, (0, 1, 1, 2, 2, 2, 2, 2, 60): 468, (0, 1, 2, 2, 2, 2, 60): 484, (0, 1, 1, 2, 2, 2, 2, 60): 659, (0, 1, 2, 2, 2, 60): 461, (0, 1, 1, 2, 2, 2, 60): 868, (0, 1, 2, 2, 60): 397, (0, 1, 1, 2, 2, 60): 1062, (0, 1, 2, 60): 258, (0, 1, 1, 2, 60): 851, (0, 1, 60): 78, (0, 1, 1, 60): 283, (2, 2, 2, 2, 2, 2, 2, 2, 2, 60): 1, (1, 2, 2, 2, 2, 2, 2, 2, 2, 2, 60): 3, (1, 2, 2, 2, 2, 2, 2, 2, 2, 60): 37, (1, 1, 2, 2, 2, 2, 2, 2, 2, 2, 60): 47, (1, 2, 2, 2, 2, 2, 2, 2, 60): 194, (1, 1, 2, 2, 2, 2, 2, 2, 2, 60): 283, (1, 2, 2, 2, 2, 2, 2, 60): 615, (1, 1, 2, 2, 2, 2, 2, 2, 60): 1037, (1, 2, 2, 2, 2, 2, 60): 1318, (1, 1, 2, 2, 2, 2, 2, 60): 2561, (1, 2, 2, 2, 2, 60): 1959, (1, 1, 2, 2, 2, 2, 60): 4299, (1, 2, 2, 2, 60): 2003, (1, 1, 2, 2, 2, 60): 4865, (1, 2, 2, 60): 1375, (1, 1, 2, 2, 60): 3672, (1, 2, 60): 588, (1, 1, 2, 60): 1730, (1, 60): 120, (1, 1, 60): 387, (0, 0, 62): 1, (0, 0, 2, 62): 2, (0, 0, 1, 62): 9, (0, 0, 1, 2, 62): 2, (0, 2, 2, 2, 2, 2, 2, 2, 2, 62): 9, (0, 1, 2, 2, 2, 2, 2, 2, 2, 2, 62): 27, (0, 2, 2, 2, 2, 2, 2, 2, 2, 2, 62): 1, (0, 1, 2, 2, 2, 2, 2, 2, 2, 2, 2, 62): 1, (0, 1, 2, 2, 2, 2, 2, 2, 2, 62): 118, (0, 1, 1, 2, 2, 2, 2, 2, 2, 2, 62): 128, (0, 1, 2, 2, 2, 2, 2, 2, 62): 322, (0, 1, 1, 2, 2, 2, 2, 2, 2, 62): 392, (0, 1, 2, 2, 2, 2, 2, 62): 602, (0, 1, 1, 2, 2, 2, 2, 2, 62): 840, (0, 1, 2, 2, 2, 2, 62): 798, (0, 1, 1, 2, 2, 2, 2, 62): 1288, (0, 1, 2, 2, 2, 62): 742, (0, 1, 1, 2, 2, 2, 62): 1372, (0, 1, 2, 2, 62): 476, (0, 1, 1, 2, 2, 62): 1020, (0, 1, 2, 62): 203, (0, 1, 1, 2, 62): 521, (0, 1, 62): 45, (0, 1, 1, 62): 137, (2, 2, 2, 2, 2, 2, 2, 2, 2, 62): 1, (1, 2, 2, 2, 2, 2, 2, 2, 2, 2, 62): 3, (1, 2, 2, 2, 2, 2, 2, 2, 2, 62): 37, (1, 1, 2, 2, 2, 2, 2, 2, 2, 2, 62): 47, (1, 2, 2, 2, 2, 2, 2, 2, 62): 222, (1, 1, 2, 2, 2, 2, 2, 2, 2, 62): 348, (1, 2, 2, 2, 2, 2, 2, 62): 784, (1, 1, 2, 2, 2, 2, 2, 2, 62): 1414, (1, 2, 2, 2, 2, 2, 62): 1766, (1, 1, 2, 2, 2, 2, 2, 62): 3528, (1, 2, 2, 2, 2, 62): 2646, (1, 1, 2, 2, 2, 2, 62): 5770, (1, 2, 2, 2, 62): 2654, (1, 1, 2, 2, 2, 62): 6280, (1, 2, 2, 62): 1729, (1, 1, 2, 2, 62): 4426, (1, 2, 62): 669, (1, 1, 2, 62): 1849, (1, 62): 118, (1, 1, 62): 351, (0, 0, 2, 2, 2, 63): 4, (0, 0, 1, 2, 2, 2, 63): 28, (0, 0, 2, 2, 2, 2, 63): 1, (0, 0, 1, 2, 2, 2, 2, 63): 1, (0, 0, 1, 2, 2, 63): 60, (0, 0, 1, 1, 2, 2, 63): 198, (0, 0, 1, 2, 63): 64, (0, 0, 1, 1, 2, 63): 228, (0, 0, 1, 63): 25, (0, 0, 1, 1, 63): 93, (0, 2, 2, 2, 2, 2, 2, 2, 63): 240, (0, 1, 2, 2, 2, 2, 2, 2, 2, 63): 480, (0, 2, 2, 2, 2, 2, 2, 2, 2, 63): 90, (0, 1, 2, 2, 2, 2, 2, 2, 2, 2, 63): 90, (0, 1, 2, 2, 2, 2, 2, 2, 63): 846, (0, 1, 1, 2, 2, 2, 2, 2, 2, 63): 435, (0, 1, 2, 2, 2, 2, 2, 63): 1058, (0, 1, 1, 2, 2, 2, 2, 2, 63): 636, (0, 1, 2, 2, 2, 2, 63): 1022, (0, 1, 1, 2, 2, 2, 2, 63): 925, (0, 1, 2, 2, 2, 63): 828, (0, 1, 1, 2, 2, 2, 63): 1240, (0, 1, 2, 2, 63): 578, (0, 1, 1, 2, 2, 63): 1299, (0, 1, 2, 63): 306, (0, 1, 1, 2, 63): 888, (0, 1, 63): 82, (0, 1, 1, 63): 273, (2, 2, 2, 2, 2, 2, 2, 2, 63): 90, (1, 2, 2, 2, 2, 2, 2, 2, 2, 63): 180, (2, 2, 2, 2, 2, 2, 2, 2, 2, 63): 20, (1, 2, 2, 2, 2, 2, 2, 2, 2, 2, 63): 20, (1, 2, 2, 2, 2, 2, 2, 2, 63): 498, (1, 1, 2, 2, 2, 2, 2, 2, 2, 63): 285, (1, 2, 2, 2, 2, 2, 2, 63): 993, (1, 1, 2, 2, 2, 2, 2, 2, 63): 813, (1, 2, 2, 2, 2, 2, 63): 1586, (1, 1, 2, 2, 2, 2, 2, 63): 2043, (1, 2, 2, 2, 2, 63): 2089, (1, 1, 2, 2, 2, 2, 63): 3880, (1, 2, 2, 2, 63): 2126, (1, 1, 2, 2, 2, 63): 4975, (1, 2, 2, 63): 1505, (1, 1, 2, 2, 63): 4047, (1, 2, 63): 650, (1, 1, 2, 63): 1917, (1, 63): 129, (1, 1, 63): 408, (0, 0, 56): 1, (0, 0, 2, 56): 4, (0, 0, 1, 56): 7, (0, 0, 1, 2, 56): 4, (0, 2, 2, 2, 2, 2, 2, 2, 2, 2, 56): 1, (0, 1, 2, 2, 2, 2, 2, 2, 2, 2, 2, 56): 3, (0, 1, 2, 2, 2, 2, 2, 2, 2, 2, 56): 31, (0, 1, 1, 2, 2, 2, 2, 2, 2, 2, 2, 56): 33, (0, 1, 2, 2, 2, 2, 2, 2, 2, 56): 140, (0, 1, 1, 2, 2, 2, 2, 2, 2, 2, 56): 156, (0, 1, 2, 2, 2, 2, 2, 2, 56): 388, (0, 1, 1, 2, 2, 2, 2, 2, 2, 56): 480, (0, 1, 2, 2, 2, 2, 2, 56): 781, (0, 1, 1, 2, 2, 2, 2, 2, 56): 1179, (0, 1, 2, 2, 2, 2, 56): 1207, (0, 1, 1, 2, 2, 2, 2, 56): 2265, (0, 1, 2, 2, 2, 56): 1362, (0, 1, 1, 2, 2, 2, 56): 3006, (0, 1, 2, 2, 56): 1014, (0, 1, 1, 2, 2, 56): 2478, (0, 1, 2, 56): 434, (0, 1, 1, 2, 56): 1128, (0, 1, 56): 80, (0, 1, 1, 56): 216, (2, 2, 2, 2, 2, 2, 2, 2, 2, 56): 1, (1, 2, 2, 2, 2, 2, 2, 2, 2, 2, 56): 3, (1, 2, 2, 2, 2, 2, 2, 2, 2, 56): 36, (1, 1, 2, 2, 2, 2, 2, 2, 2, 2, 56): 43, (1, 2, 2, 2, 2, 2, 2, 2, 56): 186, (1, 1, 2, 2, 2, 2, 2, 2, 2, 56): 251, (1, 2, 2, 2, 2, 2, 2, 56): 584, (1, 1, 2, 2, 2, 2, 2, 2, 56): 907, (1, 2, 2, 2, 2, 2, 56): 1295, (1, 1, 2, 2, 2, 2, 2, 56): 2390, (1, 2, 2, 2, 2, 56): 2090, (1, 1, 2, 2, 2, 2, 56): 4519, (1, 2, 2, 2, 56): 2344, (1, 1, 2, 2, 2, 56): 5687, (1, 2, 2, 56): 1688, (1, 1, 2, 2, 56): 4417, (1, 2, 56): 692, (1, 1, 2, 56): 1901, (1, 56): 122, (1, 1, 56): 346, (0, 0, 64): 1, (0, 0, 2, 64): 4, (0, 0, 1, 64): 7, (0, 0, 1, 2, 64): 4, (0, 2, 2, 2, 2, 2, 2, 2, 2, 2, 64): 10, (0, 1, 2, 2, 2, 2, 2, 2, 2, 2, 2, 64): 20, (0, 2, 2, 2, 2, 2, 2, 2, 2, 2, 2, 64): 1, (0, 1, 2, 2, 2, 2, 2, 2, 2, 2, 2, 2, 64): 1, (0, 1, 2, 2, 2, 2, 2, 2, 2, 2, 64): 94, (0, 1, 1, 2, 2, 2, 2, 2, 2, 2, 2, 64): 51, (0, 1, 2, 2, 2, 2, 2, 2, 2, 64): 277, (0, 1, 1, 2, 2, 2, 2, 2, 2, 2, 64): 178, (0, 1, 2, 2, 2, 2, 2, 2, 64): 573, (0, 1, 1, 2, 2, 2, 2, 2, 2, 64): 463, (0, 1, 2, 2, 2, 2, 2, 64): 890, (0, 1, 1, 2, 2, 2, 2, 2, 64): 951, (0, 1, 2, 2, 2, 2, 64): 1084, (0, 1, 1, 2, 2, 2, 2, 64): 1562, (0, 1, 2, 2, 2, 64): 1025, (0, 1, 1, 2, 2, 2, 64): 1904, (0, 1, 2, 2, 64): 701, (0, 1, 1, 2, 2, 64): 1575, (0, 1, 2, 64): 304, (0, 1, 1, 2, 64): 791, (0, 1, 64): 62, (0, 1, 1, 64): 182, (2, 2, 2, 2, 2, 2, 2, 2, 2, 64): 10, (1, 2, 2, 2, 2, 2, 2, 2, 2, 2, 64): 20, (2, 2, 2, 2, 2, 2, 2, 2, 2, 2, 64): 1, (1, 2, 2, 2, 2, 2, 2, 2, 2, 2, 2, 64): 1, (1, 2, 2, 2, 2, 2, 2, 2, 2, 64): 109, (1, 1, 2, 2, 2, 2, 2, 2, 2, 2, 64): 81, (1, 2, 2, 2, 2, 2, 2, 2, 64): 403, (1, 1, 2, 2, 2, 2, 2, 2, 2, 64): 433, (1, 2, 2, 2, 2, 2, 2, 64): 1063, (1, 1, 2, 2, 2, 2, 2, 2, 64): 1492, (1, 2, 2, 2, 2, 2, 64): 2048, (1, 1, 2, 2, 2, 2, 2, 64): 3534, (1, 2, 2, 2, 2, 64): 2877, (1, 1, 2, 2, 2, 2, 64): 5846, (1, 2, 2, 2, 64): 2847, (1, 1, 2, 2, 2, 64): 6545, (1, 2, 2, 64): 1865, (1, 1, 2, 2, 64): 4704, (1, 2, 64): 726, (1, 1, 2, 64): 1976, (1, 64): 128, (1, 1, 64): 374, (0, 0, 2, 2, 2, 2, 2): 1, (0, 0, 1, 2, 2, 2, 2, 2): 6, (0, 0, 1, 2, 2, 2, 2): 65, (0, 0, 1, 1, 2, 2, 2, 2): 180, (0, 0, 1, 2, 2, 2): 248, (0, 0, 1, 1, 2, 2, 2): 738, (0, 0, 1, 2, 2): 495, (0, 0, 1, 1, 2, 2): 1608, (0, 0, 1, 2): 486, (0, 0, 1, 1, 2): 1692, (0, 0, 1): 180, (0, 0, 1, 1): 657, (0, 2, 2, 2, 2, 2, 2, 2, 2, 2, 2): 3, (0, 1, 2, 2, 2, 2, 2, 2, 2, 2, 2, 2): 6, (0, 1, 2, 2, 2, 2, 2, 2, 2, 2, 2): 111, (0, 1, 1, 2, 2, 2, 2, 2, 2, 2, 2, 2): 81, (0, 1, 2, 2, 2, 2, 2, 2, 2, 2): 801, (0, 1, 1, 2, 2, 2, 2, 2, 2, 2, 2): 702, (0, 1, 2, 2, 2, 2, 2, 2, 2): 3252, (0, 1, 1, 2, 2, 2, 2, 2, 2, 2): 3300, (0, 1, 2, 2, 2, 2, 2, 2): 8538, (0, 1, 1, 2, 2, 2, 2, 2, 2): 9963, (0, 1, 2, 2, 2, 2, 2): 15568, (0, 1, 1, 2, 2, 2, 2, 2): 21084, (0, 1, 2, 2, 2, 2): 20420, (0, 1, 1, 2, 2, 2, 2): 32485, (0, 1, 2, 2, 2): 19342, (0, 1, 1, 2, 2, 2): 36280, (0, 1, 2, 2): 12898, (0, 1, 1, 2, 2): 28533, (0, 1, 2): 5574, (0, 1, 1, 2): 14486, (0, 1): 1184, (0, 1, 1): 3545, (2, 2, 2, 2, 2, 2, 2, 2, 2, 2, 2): 1, (1, 2, 2, 2, 2, 2, 2, 2, 2, 2, 2, 2): 2, (1, 2, 2, 2, 2, 2, 2, 2, 2, 2, 2): 31, (1, 1, 2, 2, 2, 2, 2, 2, 2, 2, 2, 2): 17, (1, 2, 2, 2, 2, 2, 2, 2, 2, 2): 271, (1, 1, 2, 2, 2, 2, 2, 2, 2, 2, 2): 196, (1, 2, 2, 2, 2, 2, 2, 2, 2): 1546, (1, 1, 2, 2, 2, 2, 2, 2, 2, 2): 1472, (1, 2, 2, 2, 2, 2, 2, 2): 5972, (1, 1, 2, 2, 2, 2, 2, 2, 2): 7120, (1, 2, 2, 2, 2, 2, 2): 16182, (1, 1, 2, 2, 2, 2, 2, 2): 23375, (1, 2, 2, 2, 2, 2): 31450, (1, 1, 2, 2, 2, 2, 2): 53745, (1, 2, 2, 2, 2): 43854, (1, 1, 2, 2, 2, 2): 86581, (1, 2, 2, 2): 42840, (1, 1, 2, 2, 2): 95401, (1, 2, 2): 27872, (1, 1, 2, 2): 68651, (1, 2): 10928, (1, 1, 2): 29445, (1,): 1978, (1, 1): 5812}\n",
            "\n",
            "Association Rules:\n",
            "{(21,): ((0, 1, 2), 2.0), (0, 21): ((1, 2), 1.0), (2, 21): ((0, 1), 0.6666666666666666), (0, 1, 21): ((2,), 1.0), (0, 2, 21): ((1,), 1.0), (1, 2, 21): ((0,), 0.6666666666666666), (79,): ((1, 2), 6.0), (1, 79): ((2,), 1.0), (2, 79): ((1,), 0.8571428571428571), (38,): ((0, 1, 2), 1.0), (0, 38): ((1, 2), 1.0), (1, 38): ((2,), 1.0), (2, 38): ((1,), 1.0), (0, 1, 38): ((2,), 1.0), (0, 2, 38): ((1,), 1.0), (39,): ((1, 2), 6.0), (1, 39): ((2,), 0.8571428571428571), (2, 39): ((1,), 1.0), (87,): ((0, 1, 2), 2.0), (0, 87): ((1, 2), 1.0), (2, 87): ((0, 1), 1.0), (0, 1, 87): ((2,), 1.0), (0, 2, 87): ((1,), 1.0), (1, 2, 87): ((0,), 1.0), (46,): ((0, 1, 2), 1.0), (0, 46): ((1, 2), 1.0), (1, 46): ((2,), 0.5), (2, 46): ((1,), 1.0), (0, 1, 46): ((2,), 1.0), (0, 2, 46): ((1,), 1.0), (0, 48): ((1, 2), 4.0), (2, 48): ((), 3.2666666666666666), (0, 1, 48): ((2,), 1.0), (0, 2, 48): ((1,), 0.5), (1, 2, 48): ((), 3.2162162162162162), (1, 1, 1, 1, 1, 48): ((2,), 7.0), (1, 1, 1, 1, 1, 1, 48): ((2,), 1.0), (1, 1, 2, 48): ((), 3.156862745098039), (1, 1, 1, 2, 48): ((), 3.0930232558139537), (2, 2, 48): ((1,), 4.857142857142857), (1, 2, 2, 48): ((), 2.0294117647058822), (1, 1, 2, 2, 48): ((), 1.1014492753623188), (1, 1, 1, 1, 2, 48): ((), 3.0353982300884956), (1, 1, 1, 2, 2, 48): ((), 0.6447368421052632), (0, 44): ((1, 2), 5.0), (2, 44): ((), 3.0), (0, 1, 44): ((2,), 1.0), (0, 2, 44): ((1,), 0.7142857142857143), (1, 44): ((2,), 2.272727272727273), (1, 1, 44): ((2,), 1.0), (0, 78): ((1, 2), 4.0), (2, 78): ((), 3.2666666666666666), (0, 1, 78): ((2,), 1.0), (0, 2, 78): ((1,), 0.5), (1, 2, 78): ((), 3.2162162162162162), (1, 1, 1, 1, 1, 78): ((2,), 7.0), (1, 1, 1, 1, 1, 1, 78): ((2,), 1.0), (1, 1, 2, 78): ((), 3.156862745098039), (1, 1, 1, 2, 78): ((), 3.0930232558139537), (2, 2, 78): ((1,), 4.857142857142857), (1, 2, 2, 78): ((), 2.0294117647058822), (1, 1, 2, 2, 78): ((), 1.1014492753623188), (1, 1, 1, 1, 2, 78): ((), 3.0353982300884956), (1, 1, 1, 2, 2, 78): ((), 0.6447368421052632), (1, 1, 1, 1, 81): ((2,), 0.6), (2, 81): ((), 3.2857142857142856), (0, 2, 81): ((), 3.2857142857142856), (1, 2, 81): ((), 2.870967741935484), (0, 1, 2, 81): ((), 2.870967741935484), (1, 1, 2, 81): ((), 2.409090909090909), (0, 1, 1, 2, 81): ((), 2.409090909090909), (1, 1, 1, 2, 81): ((), 2.097826086956522), (0, 1, 1, 1, 1, 81): ((2,), 0.6), (0, 1, 1, 1, 2, 81): ((), 2.097826086956522), (1, 1, 1, 1, 2, 81): ((0,), 1.0), (1, 1, 1, 1, 1, 81): ((2,), 1.0), (0, 1, 1, 1, 1, 1, 81): ((2,), 1.0), (1, 1, 1, 1, 1, 2, 81): ((0,), 1.0), (2, 2, 81): ((1,), 3.869565217391304), (0, 2, 2, 81): ((1,), 3.869565217391304), (1, 2, 2, 81): ((), 1.7865168539325842), (0, 1, 2, 2, 81): ((), 1.7865168539325842), (1, 1, 2, 2, 81): ((), 1.2138364779874213), (0, 1, 1, 2, 2, 81): ((), 1.2138364779874213), (1, 1, 1, 2, 2, 81): ((0,), 1.0), (1, 49): ((), 3.15), (0, 1, 49): ((), 3.5625), (0, 1, 2, 49): ((), 3.435483870967742), (0, 2, 2, 2, 2, 49): ((1,), 7.0), (0, 2, 2, 2, 2, 2, 49): ((1,), 1.0), (1, 2, 49): ((), 2.7244897959183674), (0, 1, 2, 2, 49): ((), 3.2783505154639174), (1, 1, 49): ((2,), 4.238095238095238), (0, 1, 1, 49): ((2,), 3.736842105263158), (1, 1, 2, 49): ((), 2.0), (1, 2, 2, 49): ((), 2.215767634854772), (0, 1, 1, 2, 49): ((), 1.4929577464788732), (1, 2, 2, 2, 49): ((), 1.8072289156626506), (0, 1, 1, 2, 2, 49): ((), 0.7735849056603774), (0, 1, 2, 2, 2, 49): ((), 3.1139240506329116), (1, 1, 2, 2, 49): ((), 1.404494382022472), (1, 2, 2, 2, 2, 49): ((), 1.5974025974025974), (1, 2, 2, 2, 2, 2, 49): ((), 1.5205479452054795), (2, 2, 2, 2, 2, 2, 49): ((1,), 4.0), (2, 2, 2, 2, 2, 2, 2, 49): ((1,), 1.0), (1, 1, 2, 2, 2, 49): ((), 1.148), (1, 1, 2, 2, 2, 2, 49): ((), 0.9024390243902439), (2, 2, 2, 2, 2, 2, 2, 52): ((1,), 6.0), (1, 52): ((), 2.888888888888889), (1, 1, 52): ((2,), 6.1923076923076925), (1, 2, 52): ((), 2.875), (1, 2, 2, 2, 2, 2, 52): ((), 2.75), (1, 2, 2, 2, 2, 2, 2, 52): ((), 2.6666666666666665), (1, 2, 2, 52): ((), 2.857142857142857), (1, 1, 2, 52): ((), 2.608695652173913), (1, 1, 2, 2, 52): ((), 1.4166666666666667), (1, 2, 2, 2, 52): ((), 2.8333333333333335), (1, 2, 2, 2, 2, 52): ((), 2.8), (1,): ((), 2.9383215369059656), (1, 1, 2, 2, 2, 52): ((), 0.8235294117647058), (2, 53): ((), 3.1481481481481484), (0, 2, 53): ((), 3.4), (1, 2, 53): ((), 2.820143884892086), (0, 1, 2, 53): ((), 3.142857142857143), (0, 1, 1, 2, 53): ((), 2.8461538461538463), (0, 1, 1, 1, 1, 53): ((2,), 6.0), (0, 1, 1, 1, 2, 53): ((), 2.604651162790698), (0, 1, 1, 1, 1, 1, 53): ((2,), 1.0), (2, 2, 53): ((1,), 4.6117647058823525), (0, 2, 2, 53): ((1,), 3.8823529411764706), (1, 1, 2, 53): ((), 2.43108504398827), (1, 2, 2, 53): ((), 2.114795918367347), (0, 1, 2, 2, 53): ((), 1.6818181818181819), (1, 1, 1, 2, 53): ((), 2.055045871559633), (0, 1, 1, 2, 2, 53): ((), 1.009009009009009), (1, 1, 1, 1, 1, 1, 1, 53): ((2,), 4.0), (1, 1, 1, 1, 1, 1, 1, 1, 53): ((2,), 1.0), (1, 1, 1, 1, 2, 53): ((), 1.7681388012618298), (1, 1, 1, 1, 1, 2, 53): ((), 1.594890510948905), (1, 1, 2, 2, 53): ((), 1.3510253317249699), (1, 1, 1, 1, 1, 1, 2, 53): ((), 1.5175438596491229), (1, 1, 1, 1, 1, 2, 2, 53): ((), 0.5938215102974829), (1, 1, 1, 2, 2, 53): ((), 1.0008928571428573), (1, 1, 1, 1, 2, 2, 53): ((), 0.7796610169491526), (2, 73): ((), 2.8461538461538463), (0, 2, 73): ((), 2.95), (0, 1, 1, 1, 1, 1, 1, 73): ((2,), 5.0), (1, 1, 1, 1, 1, 1, 1, 73): ((2,), 5.5), (0, 1, 1, 1, 1, 1, 1, 1, 73): ((2,), 1.0), (1, 2, 73): ((), 2.7222222222222223), (0, 1, 2, 73): ((), 2.8137254901960786), (0, 1, 1, 2, 73): ((), 2.6367713004484306), (0, 1, 1, 1, 1, 2, 73): ((), 2.2155963302752295), (2, 2, 73): ((1,), 5.297297297297297), (0, 2, 2, 73): ((1,), 4.864406779661017), (1, 1, 2, 73): ((), 2.5873925501432664), (1, 2, 2, 73): ((), 2.3035714285714284), (0, 1, 2, 2, 73): ((), 2.048780487804878), (0, 1, 1, 1, 2, 73): ((), 2.4259927797833933), (1, 1, 1, 1, 2, 73): ((), 2.3551401869158877), (1, 1, 1, 1, 1, 2, 73): ((), 2.2941176470588234), (0, 1, 1, 1, 1, 1, 2, 73): ((), 2.0625), (1, 1, 1, 2, 73): ((), 2.457905544147844), (1, 1, 2, 2, 73): ((), 1.3255813953488371), (0, 1, 1, 2, 2, 73): ((), 1.1428571428571428), (0, 1, 1, 1, 2, 2, 73): ((), 0.71875), (0, 1): ((), 2.9940878378378377), (1, 1, 1, 2, 2, 73): ((), 0.8421052631578947), (1, 1, 1, 1, 1, 1, 2, 73): ((), 2.272727272727273), (1, 1, 1, 1, 2, 2, 73): ((), 0.5416666666666666), (0, 1, 47): ((2,), 14.0), (2, 47): ((), 2.76), (2, 2, 47): ((1,), 5.565217391304348), (1, 2, 47): ((), 2.6666666666666665), (0, 1, 2, 47): ((), 2.4705882352941178), (1, 2, 2, 47): ((), 2.3515625), (0, 1, 2, 2, 47): ((), 2.2790697674418605), (0, 1, 2, 2, 2, 47): ((), 2.1256544502617802), (0, 1, 2, 2, 2, 2, 47): ((), 2.0335195530726256), (0, 2, 2, 2, 2, 2, 47): ((1,), 5.0), (0, 2, 2, 2, 2, 2, 2, 47): ((1,), 1.0), (0, 1, 1, 47): ((2,), 5.25), (1, 1, 2, 47): ((), 2.5294117647058822), (0, 1, 1, 2, 47): ((), 2.3333333333333335), (1, 1, 2, 2, 47): ((), 1.302325581395349), (0, 1, 1, 2, 2, 47): ((), 1.380952380952381), (0, 1, 1, 2, 2, 2, 47): ((), 0.896551724137931), (1, 1, 1, 1, 1, 1, 1, 47): ((2,), 4.0), (1, 1, 1, 1, 1, 1, 1, 1, 47): ((2,), 1.0), (1, 1, 1, 1, 1, 2, 47): ((), 1.8), (1, 1, 1, 1, 1, 1, 2, 47): ((), 1.588235294117647), (1, 1, 1, 2, 47): ((), 2.3333333333333335), (1, 1, 1, 1, 2, 47): ((), 2.076923076923077), (1, 1, 1, 1, 2, 2, 47): ((), 0.5333333333333333), (1, 1, 1, 2, 2, 47): ((), 0.8035714285714286), (0, 66): ((1, 2), 4.0), (2, 66): ((), 3.107142857142857), (0, 1, 66): ((2,), 1.0), (0, 2, 66): ((1,), 0.5), (1, 1, 1, 1, 1, 1, 1, 66): ((2,), 5.0), (1, 1, 1, 1, 1, 1, 1, 1, 66): ((2,), 1.0), (1, 2, 66): ((), 2.9452054794520546), (2, 2, 66): ((1,), 4.942528735632184), (1, 1, 2, 66): ((), 2.730205278592375), (1, 2, 2, 66): ((), 2.1651162790697676), (1, 1, 1, 2, 66): ((), 2.487603305785124), (1, 1, 1, 1, 2, 66): ((), 2.2738853503184715), (1, 1, 1, 1, 1, 2, 66): ((), 2.130434782608696), (1, 1, 1, 1, 1, 1, 2, 66): ((), 2.0476190476190474), (1, 1, 2, 2, 66): ((), 1.2932330827067668), (1, 1, 1, 2, 2, 66): ((), 0.8895348837209303), (1, 1, 1, 1, 2, 2, 66): ((), 0.6405228758169934), (2, 76): ((), 3.107142857142857), (0, 2, 76): ((), 3.5625), (0, 1, 2, 76): ((), 3.435483870967742), (0, 1, 1, 1, 1, 76): ((2,), 7.0), (0, 1, 1, 1, 1, 1, 76): ((2,), 1.0), (1, 2, 76): ((), 2.8972602739726026), (0, 1, 1, 2, 76): ((), 3.2783505154639174), (2, 2, 76): ((1,), 4.862068965517241), (0, 2, 2, 76): ((1,), 3.736842105263158), (1, 1, 2, 76): ((), 2.7163323782234956), (1, 2, 2, 76): ((), 2.2411347517730498), (0, 1, 2, 2, 76): ((), 1.4929577464788732), (0, 1, 1, 1, 2, 76): ((), 3.1139240506329116), (0, 1, 1, 2, 2, 76): ((), 0.7735849056603774), (1, 1, 1, 1, 1, 1, 76): ((2,), 6.0), (1, 1, 1, 1, 1, 1, 1, 76): ((2,), 1.0), (1, 1, 1, 2, 76): ((), 2.597194388777555), (1, 1, 1, 1, 2, 76): ((), 2.5384615384615383), (1, 1, 2, 2, 76): ((), 1.3670886075949367), (1, 1, 1, 2, 2, 76): ((), 0.8912037037037037), (1, 1, 1, 1, 1, 2, 76): ((), 2.5135135135135136), (1, 1, 1, 1, 2, 2, 76): ((), 0.5636363636363636), (0, 2, 2, 2, 2, 2, 2, 75): ((1,), 6.0), (1, 75): ((), 2.8181818181818183), (0, 1, 75): ((), 2.85), (1, 1, 75): ((2,), 5.709677419354839), (1, 2, 75): ((), 2.794736842105263), (0, 1, 1, 75): ((2,), 5.2631578947368425), (0, 1, 2, 75): ((), 2.830188679245283), (0, 1, 2, 2, 75): ((), 2.8043478260869565), (0, 1, 2, 2, 2, 75): ((), 2.769230769230769), (0, 1, 2, 2, 2, 2, 75): ((), 2.71875), (1, 2, 2, 2, 2, 2, 75): ((), 2.628440366972477), (0, 1, 2, 2, 2, 2, 2, 75): ((), 2.64), (1, 1, 2, 75): ((), 2.401129943502825), (1, 2, 2, 75): ((), 2.765726681127983), (0, 1, 1, 2, 75): ((), 2.15), (1, 2, 2, 2, 75): ((), 2.7295081967213113), (0, 1, 1, 2, 2, 75): ((), 1.1162790697674418), (1, 2, 2, 2, 2, 75): ((), 2.6842105263157894), (0, 1, 1, 2, 2, 2, 75): ((), 0.6041666666666666), (1, 1, 2, 2, 75): ((), 1.3058823529411765), (2, 2, 2, 2, 2, 2, 2, 75): ((1,), 6.0), (1, 2, 2, 2, 2, 2, 2, 75): ((), 2.5636363636363635), (1, 1, 2, 2, 2, 75): ((), 0.7657657657657657), (2, 74): ((), 2.8205128205128207), (0, 2, 74): ((), 3.0714285714285716), (0, 1, 2, 74): ((), 2.9705882352941178), (0, 1, 1, 1, 1, 1, 74): ((2,), 6.0), (0, 1, 1, 1, 1, 1, 1, 74): ((2,), 1.0), (0, 1, 1, 2, 74): ((), 2.847826086956522), (0, 1, 1, 1, 2, 74): ((), 2.710526315789474), (1, 2, 74): ((), 2.730769230769231), (2, 2, 74): ((1,), 5.8090909090909095), (0, 2, 2, 74): ((1,), 4.6976744186046515), (0, 1, 2, 2, 74): ((), 1.9455445544554455), (0, 1, 1, 2, 2, 74): ((), 1.0483460559796438), (0, 1, 1, 1, 1, 2, 74): ((), 2.5816326530612246), (0, 1, 1, 1, 2, 2, 74): ((), 0.6140776699029126), (1, 1, 2, 74): ((), 2.6351791530944624), (1, 2, 2, 74): ((), 2.5320813771518), (1, 1, 1, 1, 1, 1, 1, 1, 74): ((2,), 5.0), (1, 1, 1, 1, 1, 1, 1, 2, 74): ((), 2.0652173913043477), (1, 1, 1, 1, 2, 74): ((), 2.4285714285714284), (1, 1, 1, 1, 1, 2, 74): ((), 2.3136882129277567), (1, 1, 1, 1, 1, 1, 2, 74): ((), 2.1881188118811883), (1, 1, 1, 2, 74): ((), 2.53470715835141), (1, 1, 2, 2, 74): ((), 1.4443757725587145), (1, 1, 1, 2, 2, 74): ((), 0.9020111253744116), (1, 1, 1, 1, 2, 2, 74): ((), 0.5773244781783681), (0, 2, 65): ((), 3.68), (0, 1, 1, 1, 1, 65): ((2,), 8.0), (2, 65): ((), 3.2), (0, 1, 2, 65): ((), 3.6483516483516483), (0, 1, 1, 2, 65): ((), 3.6097560975609757), (1, 2, 65): ((), 2.988235294117647), (2, 2, 65): ((1,), 4.7625), (0, 2, 2, 65): ((1,), 3.608695652173913), (0, 1, 2, 2, 65): ((), 1.3373493975903614), (0, 1, 1, 1, 2, 65): ((), 3.5616438356164384), (0, 1, 1, 2, 2, 65): ((), 0.5855855855855856), (1, 1, 2, 65): ((), 2.746218487394958), (1, 2, 2, 65): ((), 2.1443569553805775), (1, 1, 1, 1, 1, 1, 1, 1, 65): ((2,), 5.0), (1, 1, 1, 1, 1, 1, 1, 2, 65): ((), 2.1153846153846154), (1, 1, 1, 2, 65): ((), 2.5205158264947247), (1, 1, 1, 1, 2, 65): ((), 2.3559322033898304), (1, 1, 1, 1, 1, 2, 65): ((), 2.2555555555555555), (1, 1, 1, 1, 1, 1, 2, 65): ((), 2.1875), (1, 1, 2, 2, 65): ((), 1.3157894736842106), (1, 1, 1, 2, 2, 65): ((), 0.9051162790697674), (1, 1, 1, 1, 2, 2, 65): ((), 0.6258992805755396), (0, 1, 51): ((), 2.6129032258064515), (0, 2, 2, 2, 2, 2, 2, 51): ((1,), 6.0), (1, 51): ((), 2.64), (0, 1, 2, 51): ((), 2.5977653631284916), (1, 1, 51): ((2,), 6.068181818181818), (1, 2, 51): ((), 2.6262295081967215), (0, 1, 1, 51): ((2,), 5.7407407407407405), (0, 1, 1, 2, 51): ((), 2.3870967741935485), (0, 1, 2, 2, 51): ((), 2.5813953488372094), (0, 1, 2, 2, 2, 51): ((), 2.5636363636363635), (0, 1, 2, 2, 2, 2, 51): ((), 2.5443037974683542), (1, 2, 2, 2, 2, 2, 51): ((), 2.555056179775281), (0, 1, 2, 2, 2, 2, 2, 51): ((), 2.5231788079470197), (1, 2, 2, 51): ((), 2.611181702668361), (1, 1, 2, 51): ((), 2.5655430711610485), (1, 2, 2, 2, 51): ((), 2.5945945945945947), (0, 1, 1, 2, 2, 51): ((), 1.2702702702702702), (1, 2, 2, 2, 2, 51): ((), 2.5760869565217392), (0, 1, 1, 2, 2, 2, 51): ((), 0.7127659574468085), (1, 1, 2, 2, 51): ((), 1.4014598540145986), (2, 2, 2, 2, 2, 2, 2, 51): ((1,), 6.0), (1, 2, 2, 2, 2, 2, 2, 51): ((), 2.5304347826086957), (1, 1, 2, 2, 2, 51): ((), 0.8229166666666666), (0, 1, 1, 1, 1, 1, 54): ((2,), 7.0), (2, 54): ((), 3.4754098360655736), (0, 2, 54): ((), 3.63265306122449), (1, 2, 54): ((), 3.2432432432432434), (2, 2, 54): ((1,), 3.9622641509433962), (0, 1, 2, 54): ((), 3.530054644808743), (0, 2, 2, 54): ((1,), 3.6292134831460676), (0, 1, 1, 2, 54): ((), 3.390334572490706), (0, 1, 1, 1, 2, 54): ((), 3.2160804020100504), (0, 1, 1, 1, 1, 2, 54): ((), 3.051282051282051), (1, 1, 2, 54): ((), 2.8559837728194726), (1, 2, 2, 54): ((), 1.6761904761904762), (0, 1, 2, 2, 54): ((), 1.411764705882353), (1, 1, 1, 2, 54): ((), 2.3154471544715447), (0, 1, 1, 2, 2, 54): ((), 0.7017543859649122), (1, 1, 2, 2, 54): ((), 1.0113636363636365), (1, 1, 1, 1, 2, 54): ((), 1.8231511254019293), (1, 1, 1, 1, 1, 1, 54): ((2,), 4.0), (1, 1, 1, 1, 1, 2, 54): ((), 1.570342205323194), (1, 1, 1, 1, 1, 1, 1, 54): ((2,), 1.0), (1, 1, 1, 2, 2, 54): ((), 0.7963483146067416), (1, 1, 1, 1, 2, 2, 54): ((), 0.7283950617283951), (0, 0, 68): ((1, 2), 2.0), (0, 0, 2, 68): ((1,), 1.0), (1, 68): ((), 3.2222222222222223), (0, 1, 68): ((), 3.581818181818182), (0, 2, 2, 2, 2, 2, 2, 68): ((1,), 5.0), (0, 2, 2, 2, 2, 2, 2, 2, 68): ((1,), 1.0), (0, 1, 2, 68): ((), 3.243523316062176), (1, 1, 68): ((2,), 4.1330049261083746), (1, 2, 68): ((), 2.8440677966101693), (0, 1, 1, 68): ((2,), 3.1776649746192893), (0, 1, 2, 2, 68): ((), 2.850467289719626), (0, 1, 2, 2, 2, 68): ((), 2.5417867435158503), (0, 1, 2, 2, 2, 2, 68): ((), 2.324110671936759), (0, 1, 2, 2, 2, 2, 2, 68): ((), 2.1176470588235294), (1, 1, 2, 68): ((), 2.0560190703218115), (1, 2, 2, 68): ((), 2.510917030567686), (0, 1, 1, 2, 68): ((), 1.461661341853035), (1, 2, 2, 2, 68): ((), 2.256534365924492), (0, 1, 1, 2, 2, 68): ((), 0.9639344262295082), (1, 2, 2, 2, 2, 68): ((), 2.037313432835821), (0, 1, 1, 2, 2, 2, 68): ((), 0.6666666666666666), (1, 1, 2, 2, 68): ((), 1.3513043478260869), (2, 2, 2, 2, 2, 2, 2, 2, 68): ((1,), 4.0), (2, 2, 2, 2, 2, 2, 2, 2, 2, 68): ((1,), 1.0), (1, 2, 2, 2, 2, 2, 2, 68): ((), 1.6666666666666667), (1, 2, 2, 2, 2, 2, 2, 2, 68): ((), 1.5548387096774194), (1, 2, 2, 2, 2, 2, 68): ((), 1.831858407079646), (1, 1, 2, 2, 2, 68): ((), 0.9369369369369369), (1, 1, 2, 2, 2, 2, 68): ((), 0.6634615384615384), (0, 0, 2, 2, 2, 2, 57): ((1,), 7.0), (1, 57): ((), 3.096774193548387), (0, 1, 57): ((), 3.175438596491228), (0, 0, 1, 57): ((), 3.347826086956522), (0, 0, 1, 2, 57): ((), 3.3157894736842106), (0, 0, 1): ((), 3.65), (1, 1, 57): ((2,), 4.588541666666667), (0, 1, 1, 57): ((2,), 3.6298342541436464), (0, 1, 2, 57): ((), 3.0), (0, 0, 1, 1, 57): ((2,), 3.272727272727273), (0, 0, 1, 1, 2, 57): ((), 1.1666666666666667), (0, 0, 1, 2, 2, 2): ((), 2.975806451612903), (0, 0, 1, 2, 2, 57): ((), 3.2666666666666666), (0, 0, 1, 2, 2, 2, 57): ((), 3.1818181818181817), (1, 2, 57): ((), 2.907590759075908), (0, 0, 1, 2): ((), 3.4814814814814814), (0, 0, 1, 2, 2): ((), 3.2484848484848485), (0, 1, 2, 2, 57): ((), 2.6685082872928176), (0, 2, 2, 2, 2, 2, 2, 57): ((1,), 4.0), (0, 2, 2, 2, 2, 2, 2, 2, 57): ((1,), 1.0), (0, 1, 2, 2, 2, 57): ((), 2.162303664921466), (0, 1, 2, 2, 2, 2, 57): ((), 1.7234042553191489), (1, 2, 2, 57): ((), 2.6597633136094676), (0, 1, 1, 2, 57): ((), 1.4703196347031964), (1, 2, 2, 2, 2, 2, 57): ((), 1.964705882352941), (0, 1, 1, 2, 2, 2, 2, 57): ((), 0.6296296296296297), (0, 1, 2, 2, 2, 2, 2, 57): ((), 1.5454545454545454), (1, 1, 2, 57): ((), 2.040862656072645), (1, 2, 2, 2, 57): ((), 2.387580299785867), (0, 1, 1, 2, 2, 57): ((), 0.855072463768116), (1, 2, 2, 2, 2, 57): ((), 2.1459034792368126), (0, 1, 1, 2, 2, 2, 57): ((), 0.6864406779661016), (1, 1, 2, 2, 57): ((), 1.2402669632925474), (2, 2, 2, 2, 2, 2, 2, 2, 57): ((1,), 4.5), (1, 2, 2, 2, 2, 2, 2, 2, 57): ((), 1.7777777777777777), (1, 2, 2, 2, 2, 2, 2, 57): ((), 1.8421052631578947), (1, 1, 2, 2, 2, 57): ((), 0.8573991031390135), (1, 1, 2, 2, 2, 2, 57): ((), 0.6114016736401674), (0, 1, 1, 1, 1, 1, 1, 1, 77): ((2,), 5.0), (2, 77): ((), 2.8421052631578947), (0, 2, 77): ((), 2.9393939393939394), (2, 2, 77): ((1,), 5.327160493827161), (0, 1, 2, 77): ((), 2.739644970414201), (0, 2, 2, 77): ((1,), 4.77319587628866), (0, 1, 1, 1, 1, 1, 2, 77): ((), 2.233695652173913), (0, 1, 1, 1, 1, 1, 1, 2, 77): ((), 2.127659574468085), (1, 2, 77): ((), 2.63914373088685), (0, 1, 1, 2, 77): ((), 2.56020942408377), (0, 1, 2, 2, 77): ((), 2.1123110151187907), (0, 1, 1, 1, 2, 77): ((), 2.4210526315789473), (0, 1, 1, 1, 1, 2, 77): ((), 2.3205128205128207), (1, 1, 2, 77): ((), 2.4312573443008225), (1, 2, 2, 77): ((), 2.3974507531865585), (1, 1, 1, 2, 77): ((), 2.225563909774436), (0, 1, 1, 2, 2, 77): ((), 1.2229038854805725), (1, 1, 1, 1, 2, 77): ((), 2.02735781137509), (0, 1, 1, 1, 2, 2, 77): ((), 0.7566889632107023), (1, 1, 2, 2, 77): ((), 1.430642822619623), (1, 1, 1, 1, 1, 1, 1, 1, 1, 77): ((2,), 4.0), (1, 1, 1, 1, 1, 1, 1, 1, 2, 77): ((), 1.5609756097560976), (1, 1, 1, 1, 1, 1, 2, 77): ((), 1.7075471698113207), (1, 1, 1, 1, 1, 1, 1, 2, 77): ((), 1.619047619047619), (1, 1, 1, 1, 1, 2, 77): ((), 1.8477406679764243), (1, 1, 1, 2, 2, 77): ((), 0.9513513513513514), (1, 1, 1, 1, 2, 2, 77): ((), 0.66796875), (1, 1): ((2,), 5.0662422573984855), (0, 1, 72): ((2,), 13.933333333333334), (2, 72): ((), 3.3285714285714287), (1, 2, 72): ((), 2.886627906976744), (2, 2, 72): ((1,), 4.261802575107296), (0, 1, 2, 72): ((), 2.5180722891566263), (0, 1, 2, 2, 72): ((), 2.2427184466019416), (0, 2, 2, 2, 2, 2, 2, 72): ((1,), 4.0), (0, 2, 2, 2, 2, 2, 2, 2, 72): ((1,), 1.0), (0, 1, 2, 2, 2, 72): ((), 1.9419354838709677), (0, 1, 2, 2, 2, 2, 72): ((), 1.6896551724137931), (0, 1, 1, 72): ((2,), 5.097560975609756), (1, 1, 2, 72): ((), 2.5232843137254903), (1, 2, 2, 72): ((), 2.0735146022155084), (0, 1, 1, 2, 72): ((), 2.210526315789474), (0, 1, 1, 2, 2, 72): ((), 1.303030303030303), (0, 1, 1, 2, 2, 2, 72): ((), 0.8953488372093024), (0, 1, 1, 2, 2, 2, 2, 72): ((), 0.6623376623376623), (0, 1, 2, 2, 2, 2, 2, 72): ((), 1.5454545454545454), (1, 1, 2, 2, 72): ((), 1.3477416221466731), (1, 1, 1, 1, 1, 1, 1, 1, 72): ((2,), 4.0), (1, 1, 1, 1, 1, 1, 1, 2, 72): ((), 1.8148148148148149), (1, 1, 1, 1, 1, 2, 72): ((), 2.076923076923077), (1, 1, 1, 1, 1, 1, 2, 72): ((), 1.9743589743589745), (1, 1, 1, 2, 72): ((), 2.297185430463576), (1, 1, 1, 1, 2, 72): ((), 2.169940222032451), (1, 1, 1, 2, 2, 72): ((), 0.9156756756756756), (1, 1, 1, 1, 2, 2, 72): ((), 0.5950413223140496), (0, 0, 71): ((1, 2), 3.0), (0, 0, 2, 71): ((1,), 1.0), (2, 71): ((), 3.235294117647059), (0, 1, 71): ((), 2.880952380952381), (0, 2, 2, 2, 2, 2, 2, 2, 2, 71): ((1,), 3.0), (0, 2, 2, 2, 2, 2, 2, 2, 2, 2, 71): ((1,), 1.0), (1, 2, 71): ((), 2.9226190476190474), (2, 2, 71): ((1,), 4.463636363636364), (0, 1, 2, 71): ((), 2.4950980392156863), (0, 1, 1, 71): ((2,), 4.206611570247934), (0, 1, 2, 2, 2, 2, 2, 2, 2, 71): ((), 1.0226244343891402), (1, 2, 2, 71): ((), 1.9857433808553973), (0, 1, 2, 2, 71): ((), 1.995893223819302), (0, 1, 2, 2, 2, 71): ((), 1.5457967377666249), (0, 1, 2, 2, 2, 2, 71): ((), 1.2720739219712525), (0, 1, 2, 2, 2, 2, 2, 71): ((), 1.1370967741935485), (1, 1, 2, 71): ((), 2.5523560209424083), (0, 1, 1, 2, 71): ((), 1.9096267190569745), (0, 1, 1, 2, 2, 71): ((), 1.2674897119341564), (0, 1, 1, 2, 2, 2, 2, 2, 71): ((), 0.5815602836879432), (0, 1, 2, 2, 2, 2, 2, 2, 71): ((), 1.0649350649350648), (1, 1, 2, 2, 71): ((), 1.2148717948717949), (0, 1, 1, 2, 2, 2, 71): ((), 1.0056818181818181), (0, 1, 1, 2, 2, 2, 2, 71): ((), 0.7966101694915254), (1, 1, 1, 1, 1, 1, 1, 1, 71): ((2,), 3.5), (1, 1, 1, 1, 1, 1, 1, 2, 71): ((), 1.4477611940298507), (1, 1, 1, 1, 1, 2, 71): ((), 1.75), (1, 1, 1, 1, 1, 1, 2, 71): ((), 1.6), (1, 1, 1, 2, 71): ((), 2.1996285979572887), (1, 1, 1, 1, 2, 71): ((), 1.9332042594385286), (1, 1, 1, 1, 2, 2, 71): ((), 0.5888833249874812), (1, 1, 1, 2, 2, 71): ((), 0.8429717180244829), (1, 69): ((), 3.230769230769231), (0, 1, 69): ((), 3.7560975609756095), (0, 1, 2, 69): ((), 3.3426573426573425), (0, 2, 2, 2, 2, 69): ((1,), 7.0), (0, 2, 2, 2, 2, 2, 69): ((1,), 1.0), (1, 2, 69): ((), 2.867007672634271), (0, 1, 2, 2, 69): ((), 3.1139240506329116), (1, 1, 69): ((2,), 4.448412698412699), (0, 1, 1, 69): ((2,), 3.103896103896104), (1, 1, 2, 69): ((), 2.281891168599465), (1, 2, 2, 69): ((), 2.6701461377870563), (0, 1, 1, 2, 69): ((), 1.5439330543933054), (0, 1, 1, 2, 2, 69): ((), 0.9024390243902439), (0, 1, 2, 2, 2, 69): ((), 3.041095890410959), (2, 2, 2, 2, 2, 2, 2, 2, 69): ((1,), 5.0), (1, 2, 2, 2, 2, 2, 2, 69): ((), 2.122448979591837), (1, 2, 2, 2, 2, 2, 2, 2, 69): ((), 2.0348837209302326), (1, 2, 2, 2, 69): ((), 2.5344215755855215), (1, 2, 2, 2, 2, 69): ((), 2.3947368421052633), (1, 2, 2, 2, 2, 2, 69): ((), 2.2521008403361344), (1, 1, 2, 2, 69): ((), 1.3960125097732603), (1, 1, 2, 2, 2, 69): ((), 0.8919070288434612), (1, 1, 2, 2, 2, 2, 69): ((), 0.589010989010989), (0, 0, 55): ((1, 2), 2.0), (0, 0, 2, 55): ((1,), 1.0), (2, 2, 2, 2, 2, 2, 2, 2, 55): ((1,), 3.0), (0, 2, 2, 2, 2, 2, 2, 2, 2, 55): ((1,), 3.0), (1, 2, 2, 2, 2, 2, 2, 2, 2, 55): ((0,), 1.0), (2, 2, 2, 2, 2, 2, 2, 2, 2, 55): ((1,), 1.0), (0, 2, 2, 2, 2, 2, 2, 2, 2, 2, 55): ((1,), 1.0), (1, 2, 2, 2, 2, 2, 2, 2, 2, 2, 55): ((0,), 1.0), (1, 55): ((), 3.41025641025641), (0, 1, 55): ((), 3.180327868852459), (1, 2, 2, 2, 2, 2, 2, 2, 55): ((), 1.0847457627118644), (0, 1, 1, 55): ((2,), 3.783505154639175), (0, 1, 2, 2, 2, 2, 2, 2, 2, 55): ((), 1.0847457627118644), (1, 1, 2, 2, 2, 2, 2, 2, 2, 55): ((0,), 1.0), (1, 2, 55): ((), 2.857142857142857), (0, 1, 2, 55): ((), 2.769811320754717), (0, 1, 2, 2, 55): ((), 2.3350785340314135), (0, 1, 2, 2, 2, 2, 2, 55): ((), 1.4137931034482758), (1, 2, 2, 2, 2, 2, 2, 55): ((), 1.2916666666666667), (1, 1, 55): ((2,), 3.6842105263157894), (1, 2, 2, 55): ((), 2.496124031007752), (0, 1, 1, 2, 55): ((), 1.8228882833787465), (1, 2, 2, 2, 2, 2, 55): ((), 1.606060606060606), (0, 1, 2, 2, 2, 2, 2, 2, 55): ((), 1.2173913043478262), (1, 1, 2, 2, 2, 2, 2, 2, 55): ((0,), 0.9032258064516129), (1, 2, 2, 2, 55): ((), 2.232515894641235), (0, 1, 2, 2, 2, 55): ((), 1.9707673568818513), (1, 2, 2, 2, 2, 55): ((), 1.9395973154362416), (0, 1, 2, 2, 2, 2, 55): ((), 1.6722689075630253), (1, 1, 2, 55): ((), 1.9714285714285715), (0, 1, 1, 2, 2, 55): ((), 1.2092675635276533), (0, 1, 1, 2, 2, 2, 55): ((), 0.8609394313967862), (0, 1, 1, 2, 2, 2, 2, 55): ((), 0.6180904522613065), (1, 1, 2, 2, 2, 2, 2, 55): ((0,), 0.7735849056603774), (1, 1, 2, 2, 55): ((), 1.2722567287784678), (1, 1, 2, 2, 2, 55): ((), 0.8230268510984541), (1, 1, 2, 2, 2, 2, 55): ((), 0.5501730103806228), (0, 0, 58): ((1, 2), 1.0), (0, 0, 2, 58): ((1,), 1.0), (1, 58): ((), 3.2717391304347827), (0, 1, 58): ((), 3.6666666666666665), (0, 1, 2, 58): ((), 2.5555555555555554), (0, 2, 2, 58): ((1,), 1.6666666666666667), (0, 2, 2, 2, 58): ((1,), 1.0), (1, 1, 58): ((2,), 4.614617940199335), (0, 1, 1, 58): ((2,), 2.090909090909091), (2, 2, 2, 2, 2, 2, 2, 58): ((1,), 5.0), (2, 2, 2, 2, 2, 2, 2, 2, 58): ((1,), 1.0), (1, 2, 58): ((), 2.9427966101694913), (1, 1, 2, 58): ((), 2.230381569474442), (1, 2, 2, 58): ((), 2.666092943201377), (1, 2, 2, 2, 58): ((), 2.423475258918297), (1, 2, 2, 2, 2, 58): ((), 2.223645894001165), (1, 2, 2, 2, 2, 2, 58): ((), 2.0939130434782607), (1, 2, 2, 2, 2, 2, 2, 58): ((), 2.0277777777777777), (1, 1, 2, 2, 58): ((), 1.3595868302130407), (1, 1, 2, 2, 2, 58): ((), 0.9064577397910731), (1, 1, 2, 2, 2, 2, 58): ((), 0.6306966998428497), (0, 0, 67): ((1, 2), 4.0), (0, 0, 1, 67): ((2,), 0.5714285714285714), (0, 0, 2, 67): ((1,), 1.0), (2, 2, 2, 2, 2, 2, 2, 2, 67): ((1,), 4.5), (0, 2, 2, 2, 2, 2, 2, 2, 2, 67): ((1,), 4.0), (0, 1, 67): ((), 2.6666666666666665), (1, 2, 2, 2, 2, 2, 2, 2, 67): ((), 1.8048780487804879), (1, 67): ((), 2.9885057471264367), (0, 1, 1, 67): ((2,), 4.875), (0, 1, 2, 2, 2, 2, 2, 2, 2, 67): ((), 1.619047619047619), (0, 1, 2, 67): ((), 2.463157894736842), (1, 2, 2, 2, 2, 2, 2, 67): ((), 1.8979591836734695), (1, 1, 67): ((2,), 5.392307692307693), (1, 2, 67): ((), 2.872950819672131), (0, 1, 1, 2, 67): ((), 2.1538461538461537), (0, 1, 2, 2, 67): ((), 2.2202643171806167), (0, 1, 2, 2, 2, 2, 2, 67): ((), 1.7419354838709677), (0, 1, 2, 2, 2, 2, 2, 2, 67): ((), 1.6923076923076923), (0, 1, 2, 2, 2, 67): ((), 1.987915407854985), (0, 1, 2, 2, 2, 2, 67): ((), 1.8251533742331287), (1, 1, 2, 67): ((), 2.3017118402282453), (1, 2, 2, 67): ((), 2.718618365627633), (0, 1, 1, 2, 2, 67): ((), 1.3055555555555556), (1, 2, 2, 2, 2, 67): ((), 2.295238095238095), (0, 1, 1, 2, 2, 2, 67): ((), 0.9042553191489362), (1, 2, 2, 2, 2, 2, 67): ((), 2.0711009174311927), (0, 1, 1, 2, 2, 2, 2, 67): ((), 0.6352941176470588), (1, 2, 2, 2, 67): ((), 2.5223700120918986), (1, 1, 2, 2, 67): ((), 1.2928416485900216), (1, 1, 2, 2, 2, 2, 67): ((), 0.5352697095435685), (1, 1, 2, 2, 2, 67): ((), 0.8087248322147651), (0, 0, 1, 59): ((), 3.0714285714285716), (0, 0, 1, 2, 59): ((), 2.9444444444444446), (0, 0, 2, 2, 2, 2, 59): ((1,), 6.0), (0, 0, 2, 2, 2, 2, 2): ((1,), 6.0), (0, 0, 2, 2, 2, 2, 2, 59): ((1,), 1.0), (2, 59): ((), 2.847826086956522), (0, 1, 59): ((), 2.763888888888889), (0, 0, 1, 2, 2, 59): ((), 2.7857142857142856), (2, 2, 59): ((1,), 5.011450381679389), (0, 1, 1, 59): ((2,), 4.592964824120603), (0, 0, 1, 1, 59): ((2,), 3.697674418604651), (0, 0, 1, 1, 2, 59): ((), 1.471698113207547), (0, 0, 1, 1, 2, 2, 59): ((), 0.7606837606837606), (0, 0, 1, 2, 2, 2, 59): ((), 2.6176470588235294), (0, 1, 2, 59): ((), 2.4972677595628414), (0, 2, 2, 2, 2, 2, 2, 2, 2, 2, 59): ((1,), 3.0), (0, 1, 2, 2, 2, 2, 2, 2, 2, 2, 59): ((), 1.0344827586206897), (1, 2, 59): ((), 2.564453125), (0, 1, 2, 2, 2, 2, 2, 2, 2, 59): ((), 1.064516129032258), (0, 1, 2, 2, 59): ((), 2.1612529002320184), (0, 1, 2, 2, 2, 2, 2, 59): ((), 1.2654545454545454), (1, 1, 2, 59): ((), 2.2992424242424243), (1, 2, 2, 59): ((), 2.3115003808073116), (0, 1, 1, 2, 59): ((), 2.038293216630197), (0, 1, 2, 2, 2, 59): ((), 1.8012422360248448), (0, 1, 2, 2, 2, 2, 59): ((), 1.4884225759768452), (0, 1, 1, 2, 2, 2, 2, 2, 59): ((), 0.5150862068965517), (0, 1, 2, 2, 2, 2, 2, 2, 59): ((), 1.1309148264984228), (0, 1, 1, 2, 2, 59): ((), 1.2453032742887815), (0, 1, 1, 2, 2, 2, 59): ((), 0.8866379310344827), (0, 1, 1, 2, 2, 2, 2, 59): ((), 0.6767136606708799), (0, 1, 1): ((2,), 4.086318758815232), (1, 1, 2, 2, 59): ((), 1.427677100494234), (1, 1, 1, 1, 1, 1, 1, 1, 59): ((2,), 4.2), (1, 1, 1, 1, 1, 1, 1, 2, 59): ((), 1.6954022988505748), (1, 1, 1, 2, 59): ((), 2.0912162162162162), (1, 1, 1, 1, 2, 59): ((), 1.9464368886818817), (1, 1, 1, 1, 1, 2, 59): ((), 1.8427800269905532), (1, 1, 1, 1, 1, 1, 2, 59): ((), 1.759090909090909), (1, 1, 1, 2, 2, 59): ((), 0.9644588045234249), (1, 1, 1, 1, 2, 2, 59): ((), 0.6535056233548696), (0, 0, 70): ((1, 2), 2.0), (0, 0, 2, 70): ((1,), 1.0), (2, 2, 2, 2, 2, 2, 2, 2, 70): ((1,), 4.5), (0, 2, 2, 2, 2, 2, 2, 2, 2, 70): ((1,), 4.0), (0, 1, 70): ((), 3.1454545454545455), (1, 70): ((), 3.105769230769231), (1, 2, 2, 2, 2, 2, 2, 2, 70): ((), 1.7922077922077921), (0, 1, 2, 2, 2, 2, 2, 2, 2, 70): ((), 1.5675675675675675), (0, 1, 2, 70): ((), 2.796680497925311), (1, 1, 70): ((2,), 4.984520123839009), (0, 1, 1, 70): ((2,), 3.8959537572254335), (0, 1, 2, 2, 2, 2, 2, 70): ((), 1.7889182058047493), (1, 2, 2, 2, 2, 2, 2, 70): ((), 1.9221183800623054), (0, 1, 2, 2, 2, 2, 2, 2, 70): ((), 1.65359477124183), (1, 2, 70): ((), 2.943327239488117), (0, 1, 2, 2, 70): ((), 2.461988304093567), (0, 1, 2, 2, 2, 70): ((), 2.1968162083936322), (0, 1, 2, 2, 2, 2, 70): ((), 1.9791332263242376), (1, 2, 2, 70): ((), 2.772300469483568), (0, 1, 1, 2, 70): ((), 1.8738872403560831), (0, 1, 1, 2, 2, 70): ((), 1.2019002375296912), (1, 2, 2, 2, 2, 2, 70): ((), 2.132858837485172), (0, 1, 1, 2, 2, 2, 2, 70): ((), 0.5498783454987834), (1, 1, 2, 70): ((), 2.2006211180124224), (1, 2, 2, 2, 70): ((), 2.5836711059640995), (1, 2, 2, 2, 2, 70): ((), 2.3677462887989202), (0, 1, 1, 2, 2, 2, 70): ((), 0.8122529644268774), (1, 1, 2, 2, 70): ((), 1.2593847022297489), (1, 1, 2, 2, 2, 2, 70): ((), 0.512396694214876), (1, 1, 2, 2, 2, 70): ((), 0.7864186463469296), (0, 0, 61): ((1, 2), 2.0), (0, 0, 2, 61): ((1,), 1.0), (2, 2, 2, 2, 2, 2, 2, 2, 2, 61): ((1,), 3.0), (0, 2, 2, 2, 2, 2, 2, 2, 2, 2, 61): ((1,), 3.0), (1, 2, 2, 2, 2, 2, 2, 2, 2, 2, 61): ((0,), 1.0), (1, 2, 2, 2, 2, 2, 2, 2, 2, 61): ((), 1.064516129032258), (0, 1, 2, 2, 2, 2, 2, 2, 2, 2, 61): ((), 1.064516129032258), (1, 1, 2, 2, 2, 2, 2, 2, 2, 2, 61): ((0,), 1.0), (1, 61): ((), 2.87), (0, 1, 61): ((), 3.022222222222222), (1, 2, 2, 2, 2, 2, 2, 2, 61): ((), 1.313953488372093), (1, 1, 61): ((2,), 4.794425087108014), (0, 1, 1, 61): ((2,), 4.088235294117647), (0, 1, 2, 2, 2, 2, 2, 2, 2, 61): ((), 1.225), (1, 1, 2, 2, 2, 2, 2, 2, 2, 61): ((0,), 0.8672566371681416), (1, 2, 61): ((), 2.5671641791044775), (0, 1, 2, 61): ((), 2.5981308411214954), (0, 1, 2, 2, 61): ((), 2.20990099009901), (1, 2, 2, 2, 2, 2, 2, 61): ((), 1.5831960461285008), (1, 1, 2, 61): ((), 2.282703488372093), (1, 2, 2, 61): ((), 2.3129602356406482), (0, 1, 1, 2, 61): ((), 2.0071942446043165), (1, 2, 2, 2, 2, 2, 61): ((), 1.8), (0, 1, 2, 2, 2, 2, 2, 61): ((), 1.5940054495912805), (0, 1, 2, 2, 2, 2, 2, 2, 61): ((), 1.4147286821705427), (1, 1, 2, 2, 2, 2, 2, 2, 61): ((0,), 0.7596253902185224), (1, 2, 2, 2, 61): ((), 2.1240458015267176), (0, 1, 2, 2, 2, 61): ((), 1.94140625), (1, 2, 2, 2, 2, 61): ((), 1.9686609686609686), (0, 1, 2, 2, 2, 2, 61): ((), 1.7590132827324478), (1, 1, 2, 2, 61): ((), 1.41738299904489), (0, 1, 1, 2, 2, 61): ((), 1.336021505376344), (0, 1, 1, 2, 2, 2, 61): ((), 0.9325955734406438), (0, 1, 1, 2, 2, 2, 2, 61): ((), 0.6310679611650486), (1, 1, 2, 2, 2, 2, 2, 61): ((0,), 0.6989247311827957), (1, 1, 2, 2, 2, 61): ((), 0.931266846361186), (1, 1, 2, 2, 2, 2, 61): ((), 0.605643994211288), (0, 1, 2): ((), 2.5988518119842126), (0, 0, 2, 2, 2, 60): ((1,), 8.0), (0, 0, 1, 60): ((), 3.764705882352941), (0, 0, 1, 2, 60): ((), 3.7142857142857144), (1, 60): ((), 3.225), (0, 1, 60): ((), 3.628205128205128), (0, 0, 1, 1, 60): ((2,), 2.4375), (0, 0, 1, 1, 2, 60): ((), 0.7692307692307693), (0, 0, 1, 2, 2, 60): ((), 3.6363636363636362), (0, 1, 1, 60): ((2,), 3.0070671378091873), (0, 1, 2, 60): ((), 3.298449612403101), (0, 2, 2, 2, 2, 2, 2, 2, 60): ((1,), 3.0), (1, 2, 2, 2, 2, 2, 2, 2, 60): ((), 1.458762886597938), (0, 2, 2, 2, 2, 2, 2, 2, 2, 60): ((1,), 1.0), (0, 1, 2, 2, 60): ((), 2.6750629722921913), (0, 1, 2, 2, 2, 60): ((), 1.8828633405639914), (0, 1, 2, 2, 2, 2, 60): ((), 1.3615702479338843), (0, 1, 2, 2, 2, 2, 2, 60): ((), 1.1304347826086956), (1, 1, 60): ((2,), 4.470284237726098), (0, 1, 1, 2, 2, 2, 2, 2, 60): ((), 0.5705128205128205), (0, 1, 2, 2, 2, 2, 2, 2, 60): ((), 1.0348837209302326), (1, 2, 60): ((), 2.942176870748299), (0, 1, 1, 2, 60): ((), 1.2479435957696827), (0, 1, 1, 2, 2, 2, 60): ((), 0.7592165898617511), (0, 1, 1, 2, 2, 2, 2, 60): ((), 0.7101669195751138), (0, 1, 1, 2, 2, 60): ((), 0.8173258003766478), (1, 1, 2, 60): ((), 2.122543352601156), (1, 2, 2, 60): ((), 2.6705454545454543), (2, 2, 2, 2, 2, 2, 2, 2, 2, 60): ((1,), 3.0), (1, 2, 2, 2, 2, 2, 2, 2, 2, 60): ((), 1.2702702702702702), (1, 2, 2, 2, 60): ((), 2.428856714927609), (1, 2, 2, 2, 2, 60): ((), 2.194486983154671), (1, 2, 2, 2, 2, 2, 60): ((), 1.9430955993930197), (1, 2, 2, 2, 2, 2, 2, 60): ((), 1.686178861788618), (1, 1, 2, 2, 60): ((), 1.3248910675381265), (1, 1, 2, 2, 2, 60): ((), 0.8836587872559095), (1, 1, 2, 2, 2, 2, 60): ((), 0.5957199348685741), (0, 0, 62): ((1, 2), 2.0), (0, 0, 2, 62): ((1,), 1.0), (0, 1, 62): ((), 3.0444444444444443), (0, 2, 2, 2, 2, 2, 2, 2, 2, 62): ((1,), 3.0), (1, 2, 2, 2, 2, 2, 2, 2, 2, 62): ((), 1.2702702702702702), (2, 2, 2, 2, 2, 2, 2, 2, 2, 62): ((1,), 3.0), (0, 2, 2, 2, 2, 2, 2, 2, 2, 2, 62): ((1,), 1.0), (1, 62): ((), 2.9745762711864407), (0, 1, 2, 62): ((), 2.5665024630541873), (1, 2, 2, 2, 2, 2, 2, 2, 62): ((), 1.5675675675675675), (0, 1, 1, 62): ((2,), 3.802919708029197), (0, 1, 2, 2, 2, 2, 2, 2, 2, 62): ((), 1.0847457627118644), (0, 1, 2, 2, 62): ((), 2.142857142857143), (0, 1, 2, 2, 2, 2, 2, 62): ((), 1.3953488372093024), (1, 1, 62): ((2,), 5.267806267806268), (1, 2, 62): ((), 2.7638266068759343), (0, 1, 1, 2, 62): ((), 1.9577735124760076), (0, 1, 2, 2, 2, 62): ((), 1.849056603773585), (1, 2, 2, 2, 2, 2, 2, 62): ((), 1.8035714285714286), (0, 1, 2, 2, 2, 2, 2, 2, 62): ((), 1.2173913043478262), (0, 1, 2, 2, 2, 2, 62): ((), 1.6140350877192982), (0, 1, 1, 2, 2, 62): ((), 1.3450980392156864), (0, 1, 1, 2, 2, 2, 62): ((), 0.9387755102040817), (0, 1, 1, 2, 2, 2, 2, 62): ((), 0.6521739130434783), (1, 1, 2, 62): ((), 2.3937263385613847), (1, 2, 2, 62): ((), 2.559861191440139), (1, 2, 2, 2, 62): ((), 2.3662396382818387), (1, 2, 2, 2, 2, 62): ((), 2.180650037792895), (1, 2, 2, 2, 2, 2, 62): ((), 1.9977349943374858), (1, 1, 2, 2, 62): ((), 1.4188883868052418), (1, 1, 2, 2, 2, 62): ((), 0.9187898089171974), (1, 1, 2, 2, 2, 2, 62): ((), 0.6114384748700173), (1, 2): ((), 2.6944546120058566), (0, 0, 1, 63): ((), 3.72), (0, 0, 2, 2, 2, 63): ((1,), 7.0), (0, 0, 2, 2, 2, 2, 63): ((1,), 1.0), (0, 1, 63): ((), 3.3292682926829267), (0, 0, 1, 2, 63): ((), 3.5625), (1, 63): ((), 3.1627906976744184), (0, 1, 1, 63): ((2,), 3.2527472527472527), (0, 1, 2, 63): ((), 2.9019607843137254), (0, 0, 1, 1, 63): ((2,), 2.4516129032258065), (0, 0, 1, 1, 2, 63): ((), 0.868421052631579), (0, 0, 1, 2, 2, 63): ((), 3.3), (1, 1, 63): ((2,), 4.698529411764706), (1, 2, 63): ((), 2.9492307692307693), (0, 1, 2, 2, 63): ((), 2.2474048442906573), (0, 1, 2, 2, 2, 63): ((), 1.497584541062802), (0, 1, 2, 2, 2, 2, 2, 2, 63): ((), 0.5141843971631206), (0, 2, 2, 2, 2, 2, 2, 2, 63): ((1,), 2.0), (1, 2, 2, 2, 2, 2, 2, 2, 63): ((), 0.572289156626506), (2, 2, 2, 2, 2, 2, 2, 2, 63): ((1,), 2.0), (0, 2, 2, 2, 2, 2, 2, 2, 2, 63): ((1,), 1.0), (1, 2, 2, 2, 2, 2, 2, 2, 2, 63): ((0,), 0.5), (1, 2, 2, 63): ((), 2.6890365448504983), (0, 1, 2, 2, 2, 2, 63): ((), 0.9050880626223092), (1, 2, 2, 2, 2, 2, 63): ((), 1.2881462799495587), (0, 1, 2, 2, 2, 2, 2, 63): ((), 0.6011342155009451), (1, 2, 2, 2, 2, 2, 2, 63): ((), 0.8187311178247734), (0, 1, 1, 2, 2, 2, 2, 2, 63): ((), 0.6839622641509434), (1, 1, 2, 2, 2, 2, 2, 2, 63): ((0,), 0.5350553505535055), (1, 2, 2, 2, 2, 63): ((), 1.8573480134035423), (0, 1, 1, 2, 63): ((), 1.462837837837838), (0, 1, 1, 2, 2, 2, 63): ((), 0.7459677419354839), (0, 1, 1, 2, 2, 2, 2, 63): ((), 0.6875675675675675), (0, 1, 1, 2, 2, 63): ((), 0.9545804464973057), (1, 1, 2, 63): ((), 2.111111111111111), (1, 2, 2, 2, 63): ((), 2.3400752587017872), (2, 2, 2, 2, 2, 2, 2, 2, 2, 63): ((1,), 1.0), (1, 1, 2, 2, 63): ((), 1.2293056585124784), (1, 1, 2, 2, 2, 2, 63): ((), 0.5265463917525773), (1, 1, 2, 2, 2, 63): ((), 0.7798994974874371), (0, 0, 56): ((1, 2), 4.0), (0, 0, 1, 56): ((2,), 0.5714285714285714), (0, 0, 2, 56): ((1,), 1.0), (2, 2, 2, 2, 2, 2, 2, 2, 2, 56): ((1,), 3.0), (0, 2, 2, 2, 2, 2, 2, 2, 2, 2, 56): ((1,), 3.0), (1, 2, 2, 2, 2, 2, 2, 2, 2, 2, 56): ((0,), 1.0), (1, 2, 2, 2, 2, 2, 2, 2, 2, 56): ((), 1.1944444444444444), (0, 1, 2, 2, 2, 2, 2, 2, 2, 2, 56): ((), 1.064516129032258), (1, 1, 2, 2, 2, 2, 2, 2, 2, 2, 56): ((0,), 0.7674418604651163), (1, 56): ((), 2.8360655737704916), (0, 1, 56): ((), 2.7), (1, 2, 2, 2, 2, 2, 2, 2, 56): ((), 1.3494623655913978), (0, 1, 1, 56): ((2,), 5.222222222222222), (0, 1, 2, 2, 2, 2, 2, 2, 2, 56): ((), 1.1142857142857143), (1, 1, 2, 2, 2, 2, 2, 2, 2, 56): ((0,), 0.6215139442231076), (1, 2, 56): ((), 2.7471098265895955), (0, 1, 2, 56): ((), 2.5990783410138247), (1, 2, 2, 2, 2, 2, 2, 56): ((), 1.553082191780822), (1, 1, 56): ((2,), 5.494219653179191), (0, 1, 2, 2, 2, 2, 2, 56): ((), 1.5096030729833547), (0, 1, 2, 2, 2, 2, 2, 2, 56): ((), 1.2371134020618557), (1, 1, 2, 2, 2, 2, 2, 2, 56): ((0,), 0.5292171995589857), (0, 1, 2, 2, 56): ((), 2.4437869822485205), (0, 1, 2, 2, 2, 56): ((), 2.20704845814978), (0, 1, 2, 2, 2, 2, 56): ((), 1.876553438276719), (1, 2, 2, 2, 2, 2, 56): ((), 1.8455598455598456), (1, 1, 2, 56): ((), 2.3235139400315625), (1, 2, 2, 56): ((), 2.616706161137441), (0, 1, 1, 2, 56): ((), 2.1968085106382977), (1, 2, 2, 2, 56): ((), 2.426194539249147), (1, 2, 2, 2, 2, 56): ((), 2.162200956937799), (0, 1, 1, 2, 2, 2, 2, 56): ((), 0.5205298013245033), (1, 1, 2, 2, 56): ((), 1.287525469775866), (0, 1, 1, 2, 2, 56): ((), 1.2130750605326877), (0, 1, 1, 2, 2, 2, 56): ((), 0.7534930139720559), (1, 1, 2, 2, 2, 2, 56): ((), 0.5288780703695508), (1, 1, 2, 2, 2, 56): ((), 0.794619307191841), (0, 0, 64): ((1, 2), 4.0), (0, 0, 1, 64): ((2,), 0.5714285714285714), (0, 0, 2, 64): ((1,), 1.0), (2, 2, 2, 2, 2, 2, 2, 2, 2, 64): ((1,), 2.0), (0, 2, 2, 2, 2, 2, 2, 2, 2, 2, 64): ((1,), 2.0), (1, 2, 2, 2, 2, 2, 2, 2, 2, 2, 64): ((0,), 1.0), (2, 2, 2, 2, 2, 2, 2, 2, 2, 2, 64): ((1,), 1.0), (0, 2, 2, 2, 2, 2, 2, 2, 2, 2, 2, 64): ((1,), 1.0), (1, 2, 2, 2, 2, 2, 2, 2, 2, 2, 2, 64): ((0,), 1.0), (1, 64): ((), 2.921875), (0, 1, 64): ((), 2.935483870967742), (1, 2, 2, 2, 2, 2, 2, 2, 2, 64): ((), 0.7431192660550459), (0, 1, 2, 2, 2, 2, 2, 2, 2, 2, 64): ((), 0.5425531914893617), (1, 1, 2, 2, 2, 2, 2, 2, 2, 2, 64): ((0,), 0.6296296296296297), (0, 1, 2, 64): ((), 2.601973684210526), (1, 2, 2, 2, 2, 2, 2, 2, 64): ((), 1.0744416873449132), (0, 1, 1, 64): ((2,), 4.346153846153846), (0, 1, 2, 2, 2, 2, 2, 2, 2, 64): ((), 0.6425992779783394), (1, 2, 64): ((), 2.721763085399449), (0, 1, 2, 2, 64): ((), 2.24679029957204), (0, 1, 2, 2, 2, 64): ((), 1.8575609756097562), (0, 1, 2, 2, 2, 2, 64): ((), 1.4409594095940959), (0, 1, 2, 2, 2, 2, 2, 64): ((), 1.0685393258426967), (1, 2, 2, 2, 2, 2, 2, 64): ((), 1.4035747883349012), (1, 1, 64): ((2,), 5.283422459893048), (0, 1, 1, 2, 64): ((), 1.991150442477876), (0, 1, 2, 2, 2, 2, 2, 2, 64): ((), 0.8080279232111692), (1, 2, 2, 64): ((), 2.5222520107238604), (0, 1, 1, 2, 2, 64): ((), 1.208888888888889), (0, 1, 1, 2, 2, 2, 2, 64): ((), 0.6088348271446863), (1, 1, 2, 64): ((), 2.380566801619433), (1, 2, 2, 2, 64): ((), 2.298911134527573), (1, 2, 2, 2, 2, 64): ((), 2.031977754605492), (0, 1, 1, 2, 2, 2, 64): ((), 0.8203781512605042), (1, 2, 2, 2, 2, 2, 64): ((), 1.7255859375), (1, 1, 2, 2, 64): ((), 1.3913690476190477), (1, 1, 2, 2, 2, 64): ((), 0.8932009167303285), (1, 1, 2, 2, 2, 2, 64): ((), 0.6045159083133766), (0, 0, 1, 2, 2, 2, 2): ((), 2.769230769230769), (0, 0, 1, 1): ((2,), 2.5753424657534247), (0, 0, 1, 1, 2): ((), 0.950354609929078), (0, 2, 2, 2, 2, 2, 2, 2, 2, 2, 2): ((1,), 2.0), (0, 1, 2, 2, 2, 2, 2, 2, 2, 2, 2): ((), 0.7297297297297297), (1, 2, 2, 2, 2, 2, 2, 2, 2): ((), 0.9521345407503234), (0, 1, 2, 2, 2, 2, 2, 2, 2, 2): ((), 0.8764044943820225), (1, 2, 2, 2, 2, 2, 2, 2): ((), 1.1922304085733422), (0, 1, 2, 2, 2, 2, 2, 2, 2): ((), 1.014760147601476), (0, 1, 2, 2): ((), 2.2122034423941694), (0, 1, 2, 2, 2, 2, 2): ((), 1.35431654676259), (1, 2, 2, 2, 2, 2, 2): ((), 1.4445062415029044), (0, 1, 1, 2): ((), 1.969694877813061), (0, 1, 2, 2, 2): ((), 1.8757108882225209), (0, 1, 2, 2, 2, 2, 2, 2): ((), 1.1669009135628954), (1, 2, 2): ((), 2.4630812284730195), (0, 1, 2, 2, 2, 2): ((), 1.5908423114593535), (1, 1, 2): ((), 2.331499405671591), (0, 1, 1, 2, 2): ((), 1.2715101811937055), (0, 1, 1, 2, 2, 2): ((), 0.8953969128996693), (1, 2, 2, 2, 2, 2): ((), 1.7089030206677265), (0, 1, 1, 2, 2, 2, 2): ((), 0.64903801754656), (1, 2, 2, 2): ((), 2.2269140989729226), (1, 2, 2, 2, 2): ((), 1.9743010899803894), (1, 1, 2, 2): ((), 1.3896520079824037), (2, 2, 2, 2, 2, 2, 2, 2, 2, 2, 2): ((1,), 2.0), (1, 2, 2, 2, 2, 2, 2, 2, 2, 2, 2): ((), 0.5483870967741935), (1, 2, 2, 2, 2, 2, 2, 2, 2, 2): ((), 0.7232472324723247), (1, 1, 2, 2, 2): ((), 0.9075481389083971), (1, 1, 2, 2, 2, 2): ((), 0.6207482011064783)}\n"
          ]
        }
      ]
    },
    {
      "cell_type": "markdown",
      "source": [
        "#General Information"
      ],
      "metadata": {
        "id": "-6W88MHIuwst"
      }
    },
    {
      "cell_type": "code",
      "source": [
        "df.shape"
      ],
      "metadata": {
        "colab": {
          "base_uri": "https://localhost:8080/"
        },
        "id": "gKs7thVhuztW",
        "outputId": "701c99d0-51d1-436d-885d-41e9a6637a8a"
      },
      "execution_count": null,
      "outputs": [
        {
          "output_type": "execute_result",
          "data": {
            "text/plain": [
              "(309, 16)"
            ]
          },
          "metadata": {},
          "execution_count": 21
        }
      ]
    },
    {
      "cell_type": "code",
      "source": [
        "df.describe()"
      ],
      "metadata": {
        "colab": {
          "base_uri": "https://localhost:8080/",
          "height": 338
        },
        "id": "0Jt99RVeu8lV",
        "outputId": "cba71b8b-e528-4d9d-a775-238e79282af9"
      },
      "execution_count": null,
      "outputs": [
        {
          "output_type": "execute_result",
          "data": {
            "text/plain": [
              "           GENDER         AGE     SMOKING  YELLOW_FINGERS     ANXIETY  \\\n",
              "count  309.000000  309.000000  309.000000      309.000000  309.000000   \n",
              "mean     0.524272   62.673139    1.563107        1.569579    1.498382   \n",
              "std      0.500221    8.210301    0.496806        0.495938    0.500808   \n",
              "min      0.000000   21.000000    1.000000        1.000000    1.000000   \n",
              "25%      0.000000   57.000000    1.000000        1.000000    1.000000   \n",
              "50%      1.000000   62.000000    2.000000        2.000000    1.000000   \n",
              "75%      1.000000   69.000000    2.000000        2.000000    2.000000   \n",
              "max      1.000000   87.000000    2.000000        2.000000    2.000000   \n",
              "\n",
              "       PEER_PRESSURE  CHRONIC DISEASE    FATIGUE     ALLERGY     WHEEZING  \\\n",
              "count     309.000000       309.000000  309.000000  309.000000  309.000000   \n",
              "mean        1.501618         1.504854    1.673139    1.556634    1.556634   \n",
              "std         0.500808         0.500787    0.469827    0.497588    0.497588   \n",
              "min         1.000000         1.000000    1.000000    1.000000    1.000000   \n",
              "25%         1.000000         1.000000    1.000000    1.000000    1.000000   \n",
              "50%         2.000000         2.000000    2.000000    2.000000    2.000000   \n",
              "75%         2.000000         2.000000    2.000000    2.000000    2.000000   \n",
              "max         2.000000         2.000000    2.000000    2.000000    2.000000   \n",
              "\n",
              "       ALCOHOL CONSUMING    COUGHING  SHORTNESS OF BREATH  \\\n",
              "count         309.000000  309.000000           309.000000   \n",
              "mean            1.556634    1.579288             1.640777   \n",
              "std             0.497588    0.494474             0.480551   \n",
              "min             1.000000    1.000000             1.000000   \n",
              "25%             1.000000    1.000000             1.000000   \n",
              "50%             2.000000    2.000000             2.000000   \n",
              "75%             2.000000    2.000000             2.000000   \n",
              "max             2.000000    2.000000             2.000000   \n",
              "\n",
              "       SWALLOWING DIFFICULTY  CHEST PAIN  LUNG_CANCER  \n",
              "count             309.000000  309.000000   309.000000  \n",
              "mean                1.469256    1.556634     0.873786  \n",
              "std                 0.499863    0.497588     0.332629  \n",
              "min                 1.000000    1.000000     0.000000  \n",
              "25%                 1.000000    1.000000     1.000000  \n",
              "50%                 1.000000    2.000000     1.000000  \n",
              "75%                 2.000000    2.000000     1.000000  \n",
              "max                 2.000000    2.000000     1.000000  "
            ],
            "text/html": [
              "\n",
              "  <div id=\"df-4048b0eb-9b95-4dfa-bdec-50ec186f7725\" class=\"colab-df-container\">\n",
              "    <div>\n",
              "<style scoped>\n",
              "    .dataframe tbody tr th:only-of-type {\n",
              "        vertical-align: middle;\n",
              "    }\n",
              "\n",
              "    .dataframe tbody tr th {\n",
              "        vertical-align: top;\n",
              "    }\n",
              "\n",
              "    .dataframe thead th {\n",
              "        text-align: right;\n",
              "    }\n",
              "</style>\n",
              "<table border=\"1\" class=\"dataframe\">\n",
              "  <thead>\n",
              "    <tr style=\"text-align: right;\">\n",
              "      <th></th>\n",
              "      <th>GENDER</th>\n",
              "      <th>AGE</th>\n",
              "      <th>SMOKING</th>\n",
              "      <th>YELLOW_FINGERS</th>\n",
              "      <th>ANXIETY</th>\n",
              "      <th>PEER_PRESSURE</th>\n",
              "      <th>CHRONIC DISEASE</th>\n",
              "      <th>FATIGUE</th>\n",
              "      <th>ALLERGY</th>\n",
              "      <th>WHEEZING</th>\n",
              "      <th>ALCOHOL CONSUMING</th>\n",
              "      <th>COUGHING</th>\n",
              "      <th>SHORTNESS OF BREATH</th>\n",
              "      <th>SWALLOWING DIFFICULTY</th>\n",
              "      <th>CHEST PAIN</th>\n",
              "      <th>LUNG_CANCER</th>\n",
              "    </tr>\n",
              "  </thead>\n",
              "  <tbody>\n",
              "    <tr>\n",
              "      <th>count</th>\n",
              "      <td>309.000000</td>\n",
              "      <td>309.000000</td>\n",
              "      <td>309.000000</td>\n",
              "      <td>309.000000</td>\n",
              "      <td>309.000000</td>\n",
              "      <td>309.000000</td>\n",
              "      <td>309.000000</td>\n",
              "      <td>309.000000</td>\n",
              "      <td>309.000000</td>\n",
              "      <td>309.000000</td>\n",
              "      <td>309.000000</td>\n",
              "      <td>309.000000</td>\n",
              "      <td>309.000000</td>\n",
              "      <td>309.000000</td>\n",
              "      <td>309.000000</td>\n",
              "      <td>309.000000</td>\n",
              "    </tr>\n",
              "    <tr>\n",
              "      <th>mean</th>\n",
              "      <td>0.524272</td>\n",
              "      <td>62.673139</td>\n",
              "      <td>1.563107</td>\n",
              "      <td>1.569579</td>\n",
              "      <td>1.498382</td>\n",
              "      <td>1.501618</td>\n",
              "      <td>1.504854</td>\n",
              "      <td>1.673139</td>\n",
              "      <td>1.556634</td>\n",
              "      <td>1.556634</td>\n",
              "      <td>1.556634</td>\n",
              "      <td>1.579288</td>\n",
              "      <td>1.640777</td>\n",
              "      <td>1.469256</td>\n",
              "      <td>1.556634</td>\n",
              "      <td>0.873786</td>\n",
              "    </tr>\n",
              "    <tr>\n",
              "      <th>std</th>\n",
              "      <td>0.500221</td>\n",
              "      <td>8.210301</td>\n",
              "      <td>0.496806</td>\n",
              "      <td>0.495938</td>\n",
              "      <td>0.500808</td>\n",
              "      <td>0.500808</td>\n",
              "      <td>0.500787</td>\n",
              "      <td>0.469827</td>\n",
              "      <td>0.497588</td>\n",
              "      <td>0.497588</td>\n",
              "      <td>0.497588</td>\n",
              "      <td>0.494474</td>\n",
              "      <td>0.480551</td>\n",
              "      <td>0.499863</td>\n",
              "      <td>0.497588</td>\n",
              "      <td>0.332629</td>\n",
              "    </tr>\n",
              "    <tr>\n",
              "      <th>min</th>\n",
              "      <td>0.000000</td>\n",
              "      <td>21.000000</td>\n",
              "      <td>1.000000</td>\n",
              "      <td>1.000000</td>\n",
              "      <td>1.000000</td>\n",
              "      <td>1.000000</td>\n",
              "      <td>1.000000</td>\n",
              "      <td>1.000000</td>\n",
              "      <td>1.000000</td>\n",
              "      <td>1.000000</td>\n",
              "      <td>1.000000</td>\n",
              "      <td>1.000000</td>\n",
              "      <td>1.000000</td>\n",
              "      <td>1.000000</td>\n",
              "      <td>1.000000</td>\n",
              "      <td>0.000000</td>\n",
              "    </tr>\n",
              "    <tr>\n",
              "      <th>25%</th>\n",
              "      <td>0.000000</td>\n",
              "      <td>57.000000</td>\n",
              "      <td>1.000000</td>\n",
              "      <td>1.000000</td>\n",
              "      <td>1.000000</td>\n",
              "      <td>1.000000</td>\n",
              "      <td>1.000000</td>\n",
              "      <td>1.000000</td>\n",
              "      <td>1.000000</td>\n",
              "      <td>1.000000</td>\n",
              "      <td>1.000000</td>\n",
              "      <td>1.000000</td>\n",
              "      <td>1.000000</td>\n",
              "      <td>1.000000</td>\n",
              "      <td>1.000000</td>\n",
              "      <td>1.000000</td>\n",
              "    </tr>\n",
              "    <tr>\n",
              "      <th>50%</th>\n",
              "      <td>1.000000</td>\n",
              "      <td>62.000000</td>\n",
              "      <td>2.000000</td>\n",
              "      <td>2.000000</td>\n",
              "      <td>1.000000</td>\n",
              "      <td>2.000000</td>\n",
              "      <td>2.000000</td>\n",
              "      <td>2.000000</td>\n",
              "      <td>2.000000</td>\n",
              "      <td>2.000000</td>\n",
              "      <td>2.000000</td>\n",
              "      <td>2.000000</td>\n",
              "      <td>2.000000</td>\n",
              "      <td>1.000000</td>\n",
              "      <td>2.000000</td>\n",
              "      <td>1.000000</td>\n",
              "    </tr>\n",
              "    <tr>\n",
              "      <th>75%</th>\n",
              "      <td>1.000000</td>\n",
              "      <td>69.000000</td>\n",
              "      <td>2.000000</td>\n",
              "      <td>2.000000</td>\n",
              "      <td>2.000000</td>\n",
              "      <td>2.000000</td>\n",
              "      <td>2.000000</td>\n",
              "      <td>2.000000</td>\n",
              "      <td>2.000000</td>\n",
              "      <td>2.000000</td>\n",
              "      <td>2.000000</td>\n",
              "      <td>2.000000</td>\n",
              "      <td>2.000000</td>\n",
              "      <td>2.000000</td>\n",
              "      <td>2.000000</td>\n",
              "      <td>1.000000</td>\n",
              "    </tr>\n",
              "    <tr>\n",
              "      <th>max</th>\n",
              "      <td>1.000000</td>\n",
              "      <td>87.000000</td>\n",
              "      <td>2.000000</td>\n",
              "      <td>2.000000</td>\n",
              "      <td>2.000000</td>\n",
              "      <td>2.000000</td>\n",
              "      <td>2.000000</td>\n",
              "      <td>2.000000</td>\n",
              "      <td>2.000000</td>\n",
              "      <td>2.000000</td>\n",
              "      <td>2.000000</td>\n",
              "      <td>2.000000</td>\n",
              "      <td>2.000000</td>\n",
              "      <td>2.000000</td>\n",
              "      <td>2.000000</td>\n",
              "      <td>1.000000</td>\n",
              "    </tr>\n",
              "  </tbody>\n",
              "</table>\n",
              "</div>\n",
              "    <div class=\"colab-df-buttons\">\n",
              "\n",
              "  <div class=\"colab-df-container\">\n",
              "    <button class=\"colab-df-convert\" onclick=\"convertToInteractive('df-4048b0eb-9b95-4dfa-bdec-50ec186f7725')\"\n",
              "            title=\"Convert this dataframe to an interactive table.\"\n",
              "            style=\"display:none;\">\n",
              "\n",
              "  <svg xmlns=\"http://www.w3.org/2000/svg\" height=\"24px\" viewBox=\"0 -960 960 960\">\n",
              "    <path d=\"M120-120v-720h720v720H120Zm60-500h600v-160H180v160Zm220 220h160v-160H400v160Zm0 220h160v-160H400v160ZM180-400h160v-160H180v160Zm440 0h160v-160H620v160ZM180-180h160v-160H180v160Zm440 0h160v-160H620v160Z\"/>\n",
              "  </svg>\n",
              "    </button>\n",
              "\n",
              "  <style>\n",
              "    .colab-df-container {\n",
              "      display:flex;\n",
              "      gap: 12px;\n",
              "    }\n",
              "\n",
              "    .colab-df-convert {\n",
              "      background-color: #E8F0FE;\n",
              "      border: none;\n",
              "      border-radius: 50%;\n",
              "      cursor: pointer;\n",
              "      display: none;\n",
              "      fill: #1967D2;\n",
              "      height: 32px;\n",
              "      padding: 0 0 0 0;\n",
              "      width: 32px;\n",
              "    }\n",
              "\n",
              "    .colab-df-convert:hover {\n",
              "      background-color: #E2EBFA;\n",
              "      box-shadow: 0px 1px 2px rgba(60, 64, 67, 0.3), 0px 1px 3px 1px rgba(60, 64, 67, 0.15);\n",
              "      fill: #174EA6;\n",
              "    }\n",
              "\n",
              "    .colab-df-buttons div {\n",
              "      margin-bottom: 4px;\n",
              "    }\n",
              "\n",
              "    [theme=dark] .colab-df-convert {\n",
              "      background-color: #3B4455;\n",
              "      fill: #D2E3FC;\n",
              "    }\n",
              "\n",
              "    [theme=dark] .colab-df-convert:hover {\n",
              "      background-color: #434B5C;\n",
              "      box-shadow: 0px 1px 3px 1px rgba(0, 0, 0, 0.15);\n",
              "      filter: drop-shadow(0px 1px 2px rgba(0, 0, 0, 0.3));\n",
              "      fill: #FFFFFF;\n",
              "    }\n",
              "  </style>\n",
              "\n",
              "    <script>\n",
              "      const buttonEl =\n",
              "        document.querySelector('#df-4048b0eb-9b95-4dfa-bdec-50ec186f7725 button.colab-df-convert');\n",
              "      buttonEl.style.display =\n",
              "        google.colab.kernel.accessAllowed ? 'block' : 'none';\n",
              "\n",
              "      async function convertToInteractive(key) {\n",
              "        const element = document.querySelector('#df-4048b0eb-9b95-4dfa-bdec-50ec186f7725');\n",
              "        const dataTable =\n",
              "          await google.colab.kernel.invokeFunction('convertToInteractive',\n",
              "                                                    [key], {});\n",
              "        if (!dataTable) return;\n",
              "\n",
              "        const docLinkHtml = 'Like what you see? Visit the ' +\n",
              "          '<a target=\"_blank\" href=https://colab.research.google.com/notebooks/data_table.ipynb>data table notebook</a>'\n",
              "          + ' to learn more about interactive tables.';\n",
              "        element.innerHTML = '';\n",
              "        dataTable['output_type'] = 'display_data';\n",
              "        await google.colab.output.renderOutput(dataTable, element);\n",
              "        const docLink = document.createElement('div');\n",
              "        docLink.innerHTML = docLinkHtml;\n",
              "        element.appendChild(docLink);\n",
              "      }\n",
              "    </script>\n",
              "  </div>\n",
              "\n",
              "\n",
              "<div id=\"df-2d051d27-f731-45f2-8a65-08ebbc150d66\">\n",
              "  <button class=\"colab-df-quickchart\" onclick=\"quickchart('df-2d051d27-f731-45f2-8a65-08ebbc150d66')\"\n",
              "            title=\"Suggest charts\"\n",
              "            style=\"display:none;\">\n",
              "\n",
              "<svg xmlns=\"http://www.w3.org/2000/svg\" height=\"24px\"viewBox=\"0 0 24 24\"\n",
              "     width=\"24px\">\n",
              "    <g>\n",
              "        <path d=\"M19 3H5c-1.1 0-2 .9-2 2v14c0 1.1.9 2 2 2h14c1.1 0 2-.9 2-2V5c0-1.1-.9-2-2-2zM9 17H7v-7h2v7zm4 0h-2V7h2v10zm4 0h-2v-4h2v4z\"/>\n",
              "    </g>\n",
              "</svg>\n",
              "  </button>\n",
              "\n",
              "<style>\n",
              "  .colab-df-quickchart {\n",
              "      --bg-color: #E8F0FE;\n",
              "      --fill-color: #1967D2;\n",
              "      --hover-bg-color: #E2EBFA;\n",
              "      --hover-fill-color: #174EA6;\n",
              "      --disabled-fill-color: #AAA;\n",
              "      --disabled-bg-color: #DDD;\n",
              "  }\n",
              "\n",
              "  [theme=dark] .colab-df-quickchart {\n",
              "      --bg-color: #3B4455;\n",
              "      --fill-color: #D2E3FC;\n",
              "      --hover-bg-color: #434B5C;\n",
              "      --hover-fill-color: #FFFFFF;\n",
              "      --disabled-bg-color: #3B4455;\n",
              "      --disabled-fill-color: #666;\n",
              "  }\n",
              "\n",
              "  .colab-df-quickchart {\n",
              "    background-color: var(--bg-color);\n",
              "    border: none;\n",
              "    border-radius: 50%;\n",
              "    cursor: pointer;\n",
              "    display: none;\n",
              "    fill: var(--fill-color);\n",
              "    height: 32px;\n",
              "    padding: 0;\n",
              "    width: 32px;\n",
              "  }\n",
              "\n",
              "  .colab-df-quickchart:hover {\n",
              "    background-color: var(--hover-bg-color);\n",
              "    box-shadow: 0 1px 2px rgba(60, 64, 67, 0.3), 0 1px 3px 1px rgba(60, 64, 67, 0.15);\n",
              "    fill: var(--button-hover-fill-color);\n",
              "  }\n",
              "\n",
              "  .colab-df-quickchart-complete:disabled,\n",
              "  .colab-df-quickchart-complete:disabled:hover {\n",
              "    background-color: var(--disabled-bg-color);\n",
              "    fill: var(--disabled-fill-color);\n",
              "    box-shadow: none;\n",
              "  }\n",
              "\n",
              "  .colab-df-spinner {\n",
              "    border: 2px solid var(--fill-color);\n",
              "    border-color: transparent;\n",
              "    border-bottom-color: var(--fill-color);\n",
              "    animation:\n",
              "      spin 1s steps(1) infinite;\n",
              "  }\n",
              "\n",
              "  @keyframes spin {\n",
              "    0% {\n",
              "      border-color: transparent;\n",
              "      border-bottom-color: var(--fill-color);\n",
              "      border-left-color: var(--fill-color);\n",
              "    }\n",
              "    20% {\n",
              "      border-color: transparent;\n",
              "      border-left-color: var(--fill-color);\n",
              "      border-top-color: var(--fill-color);\n",
              "    }\n",
              "    30% {\n",
              "      border-color: transparent;\n",
              "      border-left-color: var(--fill-color);\n",
              "      border-top-color: var(--fill-color);\n",
              "      border-right-color: var(--fill-color);\n",
              "    }\n",
              "    40% {\n",
              "      border-color: transparent;\n",
              "      border-right-color: var(--fill-color);\n",
              "      border-top-color: var(--fill-color);\n",
              "    }\n",
              "    60% {\n",
              "      border-color: transparent;\n",
              "      border-right-color: var(--fill-color);\n",
              "    }\n",
              "    80% {\n",
              "      border-color: transparent;\n",
              "      border-right-color: var(--fill-color);\n",
              "      border-bottom-color: var(--fill-color);\n",
              "    }\n",
              "    90% {\n",
              "      border-color: transparent;\n",
              "      border-bottom-color: var(--fill-color);\n",
              "    }\n",
              "  }\n",
              "</style>\n",
              "\n",
              "  <script>\n",
              "    async function quickchart(key) {\n",
              "      const quickchartButtonEl =\n",
              "        document.querySelector('#' + key + ' button');\n",
              "      quickchartButtonEl.disabled = true;  // To prevent multiple clicks.\n",
              "      quickchartButtonEl.classList.add('colab-df-spinner');\n",
              "      try {\n",
              "        const charts = await google.colab.kernel.invokeFunction(\n",
              "            'suggestCharts', [key], {});\n",
              "      } catch (error) {\n",
              "        console.error('Error during call to suggestCharts:', error);\n",
              "      }\n",
              "      quickchartButtonEl.classList.remove('colab-df-spinner');\n",
              "      quickchartButtonEl.classList.add('colab-df-quickchart-complete');\n",
              "    }\n",
              "    (() => {\n",
              "      let quickchartButtonEl =\n",
              "        document.querySelector('#df-2d051d27-f731-45f2-8a65-08ebbc150d66 button');\n",
              "      quickchartButtonEl.style.display =\n",
              "        google.colab.kernel.accessAllowed ? 'block' : 'none';\n",
              "    })();\n",
              "  </script>\n",
              "</div>\n",
              "    </div>\n",
              "  </div>\n"
            ]
          },
          "metadata": {},
          "execution_count": 22
        }
      ]
    },
    {
      "cell_type": "markdown",
      "source": [
        "#EDA"
      ],
      "metadata": {
        "id": "WGcCjh1eupM9"
      }
    },
    {
      "cell_type": "code",
      "source": [
        "f = plt.figure(figsize=(12,4))\n",
        "f.add_subplot(1,2,1)\n",
        "df['AGE'].plot(kind='kde')\n",
        "f.add_subplot(1,2,2)\n",
        "plt.boxplot(df['AGE'])\n",
        "plt.show()"
      ],
      "metadata": {
        "colab": {
          "base_uri": "https://localhost:8080/",
          "height": 372
        },
        "id": "JbZfgg7-uosT",
        "outputId": "b7c104f1-76cb-4140-f90d-3a8d25b6bd2f"
      },
      "execution_count": null,
      "outputs": [
        {
          "output_type": "display_data",
          "data": {
            "text/plain": [
              "<Figure size 1200x400 with 2 Axes>"
            ],
            "image/png": "[encoded data removed]"
          },
          "metadata": {}
        }
      ]
    },
    {
      "cell_type": "code",
      "source": [
        "f = plt.figure(figsize=(12,4))\n",
        "f.add_subplot(1,2,1)\n",
        "df['LUNG_CANCER'].plot(kind='kde')\n",
        "f.add_subplot(1,2,2)\n",
        "plt.boxplot(df['LUNG_CANCER'])\n",
        "plt.show()"
      ],
      "metadata": {
        "colab": {
          "base_uri": "https://localhost:8080/",
          "height": 368
        },
        "id": "Oj4JePMPuGpi",
        "outputId": "78b50ba7-be87-41b1-cc5b-eed4328b6801"
      },
      "execution_count": null,
      "outputs": [
        {
          "output_type": "display_data",
          "data": {
            "text/plain": [
              "<Figure size 1200x400 with 2 Axes>"
            ],
            "image/png": "[encoded data removed]"
          },
          "metadata": {}
        }
      ]
    },
    {
      "cell_type": "code",
      "source": [
        "plt.scatter(df['AGE'], df['AGE'])\n",
        "plt.xlabel('LUNG_CANCER')\n",
        "plt.ylabel('GENDER')\n",
        "plt.title('Scatter plot AGE vs LUNG_CANCER')\n",
        "plt.show()"
      ],
      "metadata": {
        "colab": {
          "base_uri": "https://localhost:8080/",
          "height": 472
        },
        "id": "zWEbfSqzve_b",
        "outputId": "a2389c5c-0325-4686-fe10-4dde2b89fe2c"
      },
      "execution_count": null,
      "outputs": [
        {
          "output_type": "display_data",
          "data": {
            "text/plain": [
              "<Figure size 640x480 with 1 Axes>"
            ],
            "image/png": "[encoded data removed]"
          },
          "metadata": {}
        }
      ]
    },
    {
      "cell_type": "code",
      "source": [
        "# Menghitung korelasi antara SMOKING dan AGE\n",
        "correlation = df['LUNG_CANCER'].corr(df['AGE'])\n",
        "\n",
        "# Output hasil korelasi\n",
        "print(f\"Korelasi antara LUNG_CANCER dan AGE: {correlation}\")"
      ],
      "metadata": {
        "colab": {
          "base_uri": "https://localhost:8080/"
        },
        "id": "5ny_paPBvvW5",
        "outputId": "210441bd-ecd1-4616-936a-4924a425c38e"
      },
      "execution_count": null,
      "outputs": [
        {
          "output_type": "stream",
          "name": "stdout",
          "text": [
            "Korelasi antara LUNG_CANCER dan AGE: 0.08946457606623369\n"
          ]
        }
      ]
    },
    {
      "cell_type": "code",
      "source": [
        "# Menghitung korelasi antara SMOKING dan AGE\n",
        "correlation = df['LUNG_CANCER'].corr(df['GENDER'])\n",
        "\n",
        "# Output hasil korelasi\n",
        "print(f\"Korelasi antara LUNG_CANCER dan GENDER: {correlation}\")"
      ],
      "metadata": {
        "colab": {
          "base_uri": "https://localhost:8080/"
        },
        "id": "QQRnF2r8DepD",
        "outputId": "79cacd14-d784-491f-e3ca-9e296a7cf653"
      },
      "execution_count": null,
      "outputs": [
        {
          "output_type": "stream",
          "name": "stdout",
          "text": [
            "Korelasi antara LUNG_CANCER dan GENDER: 0.06725417467830659\n"
          ]
        }
      ]
    },
    {
      "cell_type": "markdown",
      "source": [
        "##Split data\n"
      ],
      "metadata": {
        "id": "H5r6rWjAxt5x"
      }
    },
    {
      "cell_type": "code",
      "source": [
        "X = df.iloc[:, :-1].values\n",
        "print(X)"
      ],
      "metadata": {
        "colab": {
          "base_uri": "https://localhost:8080/"
        },
        "id": "QpCEy6i3v9WZ",
        "outputId": "b8225cf9-d82d-475c-9119-c2972b0a3f94"
      },
      "execution_count": null,
      "outputs": [
        {
          "output_type": "stream",
          "name": "stdout",
          "text": [
            "[[ 1 69  1 ...  2  2  2]\n",
            " [ 1 74  2 ...  2  2  2]\n",
            " [ 0 59  1 ...  2  1  2]\n",
            " ...\n",
            " [ 1 58  2 ...  1  1  2]\n",
            " [ 1 67  2 ...  2  1  2]\n",
            " [ 1 62  1 ...  1  2  1]]\n"
          ]
        }
      ]
    },
    {
      "cell_type": "markdown",
      "source": [
        "#Modeling"
      ],
      "metadata": {
        "id": "oOjM4RP4x2f2"
      }
    },
    {
      "cell_type": "code",
      "source": [
        "import pandas as pd\n",
        "from sklearn.model_selection import train_test_split\n",
        "from sklearn.preprocessing import StandardScaler\n",
        "from sklearn.linear_model import Ridge  # Import Ridge from linear_model\n",
        "from sklearn.metrics import mean_squared_error"
      ],
      "metadata": {
        "id": "yWoWZGTf3FVR"
      },
      "execution_count": null,
      "outputs": []
    },
    {
      "cell_type": "code",
      "source": [
        "# Memisahkan fitur (X) dan target (y)\n",
        "X = df.drop('LUNG_CANCER', axis=1)\n",
        "y = df['LUNG_CANCER']"
      ],
      "metadata": {
        "id": "WQikpwyPxzNh"
      },
      "execution_count": null,
      "outputs": []
    },
    {
      "cell_type": "code",
      "source": [
        "# Memisahkan data menjadi set pelatihan dan pengujian\n",
        "X_train, X_test, y_train, y_test = train_test_split(X, y, test_size=0.2, random_state=42)"
      ],
      "metadata": {
        "id": "Hvj3sWy614S6"
      },
      "execution_count": null,
      "outputs": []
    },
    {
      "cell_type": "code",
      "source": [
        "# Standardisasi fitur menggunakan StandardScaler\n",
        "scaler = StandardScaler()\n",
        "X_train_scaled = scaler.fit_transform(X_train)\n",
        "X_test_scaled = scaler.transform(X_test)"
      ],
      "metadata": {
        "id": "5U5XLnbe19H0"
      },
      "execution_count": null,
      "outputs": []
    },
    {
      "cell_type": "code",
      "source": [
        "# Membuat objek model Ridge Regression\n",
        "ridge_reg = Ridge(alpha=1.0)"
      ],
      "metadata": {
        "id": "wHMBRIXC2Ag2"
      },
      "execution_count": null,
      "outputs": []
    },
    {
      "cell_type": "code",
      "source": [
        "# Melatih model menggunakan set pelatihan yang telah discaling\n",
        "ridge_reg.fit(X_train_scaled, y_train)"
      ],
      "metadata": {
        "colab": {
          "base_uri": "https://localhost:8080/",
          "height": 75
        },
        "id": "KZ27kXL42Ecd",
        "outputId": "2e87c332-9b74-4e77-b026-3a1b851aa935"
      },
      "execution_count": null,
      "outputs": [
        {
          "output_type": "execute_result",
          "data": {
            "text/plain": [
              "Ridge()"
            ],
            "text/html": [
              "<style>#sk-container-id-1 {color: black;background-color: white;}#sk-container-id-1 pre{padding: 0;}#sk-container-id-1 div.sk-toggleable {background-color: white;}#sk-container-id-1 label.sk-toggleable__label {cursor: pointer;display: block;width: 100%;margin-bottom: 0;padding: 0.3em;box-sizing: border-box;text-align: center;}#sk-container-id-1 label.sk-toggleable__label-arrow:before {content: \"▸\";float: left;margin-right: 0.25em;color: #696969;}#sk-container-id-1 label.sk-toggleable__label-arrow:hover:before {color: black;}#sk-container-id-1 div.sk-estimator:hover label.sk-toggleable__label-arrow:before {color: black;}#sk-container-id-1 div.sk-toggleable__content {max-height: 0;max-width: 0;overflow: hidden;text-align: left;background-color: #f0f8ff;}#sk-container-id-1 div.sk-toggleable__content pre {margin: 0.2em;color: black;border-radius: 0.25em;background-color: #f0f8ff;}#sk-container-id-1 input.sk-toggleable__control:checked~div.sk-toggleable__content {max-height: 200px;max-width: 100%;overflow: auto;}#sk-container-id-1 input.sk-toggleable__control:checked~label.sk-toggleable__label-arrow:before {content: \"▾\";}#sk-container-id-1 div.sk-estimator input.sk-toggleable__control:checked~label.sk-toggleable__label {background-color: #d4ebff;}#sk-container-id-1 div.sk-label input.sk-toggleable__control:checked~label.sk-toggleable__label {background-color: #d4ebff;}#sk-container-id-1 input.sk-hidden--visually {border: 0;clip: rect(1px 1px 1px 1px);clip: rect(1px, 1px, 1px, 1px);height: 1px;margin: -1px;overflow: hidden;padding: 0;position: absolute;width: 1px;}#sk-container-id-1 div.sk-estimator {font-family: monospace;background-color: #f0f8ff;border: 1px dotted black;border-radius: 0.25em;box-sizing: border-box;margin-bottom: 0.5em;}#sk-container-id-1 div.sk-estimator:hover {background-color: #d4ebff;}#sk-container-id-1 div.sk-parallel-item::after {content: \"\";width: 100%;border-bottom: 1px solid gray;flex-grow: 1;}#sk-container-id-1 div.sk-label:hover label.sk-toggleable__label {background-color: #d4ebff;}#sk-container-id-1 div.sk-serial::before {content: \"\";position: absolute;border-left: 1px solid gray;box-sizing: border-box;top: 0;bottom: 0;left: 50%;z-index: 0;}#sk-container-id-1 div.sk-serial {display: flex;flex-direction: column;align-items: center;background-color: white;padding-right: 0.2em;padding-left: 0.2em;position: relative;}#sk-container-id-1 div.sk-item {position: relative;z-index: 1;}#sk-container-id-1 div.sk-parallel {display: flex;align-items: stretch;justify-content: center;background-color: white;position: relative;}#sk-container-id-1 div.sk-item::before, #sk-container-id-1 div.sk-parallel-item::before {content: \"\";position: absolute;border-left: 1px solid gray;box-sizing: border-box;top: 0;bottom: 0;left: 50%;z-index: -1;}#sk-container-id-1 div.sk-parallel-item {display: flex;flex-direction: column;z-index: 1;position: relative;background-color: white;}#sk-container-id-1 div.sk-parallel-item:first-child::after {align-self: flex-end;width: 50%;}#sk-container-id-1 div.sk-parallel-item:last-child::after {align-self: flex-start;width: 50%;}#sk-container-id-1 div.sk-parallel-item:only-child::after {width: 0;}#sk-container-id-1 div.sk-dashed-wrapped {border: 1px dashed gray;margin: 0 0.4em 0.5em 0.4em;box-sizing: border-box;padding-bottom: 0.4em;background-color: white;}#sk-container-id-1 div.sk-label label {font-family: monospace;font-weight: bold;display: inline-block;line-height: 1.2em;}#sk-container-id-1 div.sk-label-container {text-align: center;}#sk-container-id-1 div.sk-container {/* jupyter's `normalize.less` sets `[hidden] { display: none; }` but bootstrap.min.css set `[hidden] { display: none !important; }` so we also need the `!important` here to be able to override the default hidden behavior on the sphinx rendered scikit-learn.org. See: https://github.com/scikit-learn/scikit-learn/issues/21755 */display: inline-block !important;position: relative;}#sk-container-id-1 div.sk-text-repr-fallback {display: none;}</style><div id=\"sk-container-id-1\" class=\"sk-top-container\"><div class=\"sk-text-repr-fallback\"><pre>Ridge()</pre><b>In a Jupyter environment, please rerun this cell to show the HTML representation or trust the notebook. <br />On GitHub, the HTML representation is unable to render, please try loading this page with nbviewer.org.</b></div><div class=\"sk-container\" hidden><div class=\"sk-item\"><div class=\"sk-estimator sk-toggleable\"><input class=\"sk-toggleable__control sk-hidden--visually\" id=\"sk-estimator-id-1\" type=\"checkbox\" checked><label for=\"sk-estimator-id-1\" class=\"sk-toggleable__label sk-toggleable__label-arrow\">Ridge</label><div class=\"sk-toggleable__content\"><pre>Ridge()</pre></div></div></div></div></div>"
            ]
          },
          "metadata": {},
          "execution_count": 34
        }
      ]
    },
    {
      "cell_type": "code",
      "source": [
        "# Melakukan prediksi pada set pengujian yang telah discaling\n",
        "y_pred = ridge_reg.predict(X_test_scaled)"
      ],
      "metadata": {
        "id": "iKb2-zgt3Mvu"
      },
      "execution_count": null,
      "outputs": []
    },
    {
      "cell_type": "code",
      "source": [
        "# Menghitung Mean Squared Error (MSE) sebagai metrik evaluasi\n",
        "mse = mean_squared_error(y_test, y_pred)\n",
        "print(\"Mean Squared Error:\", mse)"
      ],
      "metadata": {
        "colab": {
          "base_uri": "https://localhost:8080/"
        },
        "id": "t5-eOq1h3PpJ",
        "outputId": "bac0df17-5215-4991-eb8f-15a407818a4c"
      },
      "execution_count": null,
      "outputs": [
        {
          "output_type": "stream",
          "name": "stdout",
          "text": [
            "Mean Squared Error: 0.05225271382591448\n"
          ]
        }
      ]
    },
    {
      "cell_type": "markdown",
      "source": [],
      "metadata": {
        "id": "Hn6qaiZbHYxO"
      }
    },
    {
      "cell_type": "code",
      "source": [],
      "metadata": {
        "id": "Wicm5EQy3Sl2"
      },
      "execution_count": null,
      "outputs": []
    },
    {
      "cell_type": "markdown",
      "source": [],
      "metadata": {
        "id": "Ohoh4D6iHZmU"
      }
    },
    {
      "cell_type": "code",
      "source": [
        "# 1. Analisis Statistik Deskriptif\n",
        "# Menampilkan ringkasan statistik untuk variabel numerik\n",
        "numeric_summary = df.describe()"
      ],
      "metadata": {
        "id": "3exMx3upHaPi"
      },
      "execution_count": null,
      "outputs": []
    },
    {
      "cell_type": "code",
      "source": [
        "# Menampilkan informasi umum tentang dataset\n",
        "general_info = df.info()"
      ],
      "metadata": {
        "colab": {
          "base_uri": "https://localhost:8080/"
        },
        "id": "TApAl6UWHbNJ",
        "outputId": "5d5fefbf-79ec-496a-9501-e76c3467e590"
      },
      "execution_count": null,
      "outputs": [
        {
          "output_type": "stream",
          "name": "stdout",
          "text": [
            "<class 'pandas.core.frame.DataFrame'>\n",
            "RangeIndex: 309 entries, 0 to 308\n",
            "Data columns (total 16 columns):\n",
            " #   Column                 Non-Null Count  Dtype\n",
            "---  ------                 --------------  -----\n",
            " 0   GENDER                 309 non-null    int8 \n",
            " 1   AGE                    309 non-null    int64\n",
            " 2   SMOKING                309 non-null    int64\n",
            " 3   YELLOW_FINGERS         309 non-null    int64\n",
            " 4   ANXIETY                309 non-null    int64\n",
            " 5   PEER_PRESSURE          309 non-null    int64\n",
            " 6   CHRONIC DISEASE        309 non-null    int64\n",
            " 7   FATIGUE                309 non-null    int64\n",
            " 8   ALLERGY                309 non-null    int64\n",
            " 9   WHEEZING               309 non-null    int64\n",
            " 10  ALCOHOL CONSUMING      309 non-null    int64\n",
            " 11  COUGHING               309 non-null    int64\n",
            " 12  SHORTNESS OF BREATH    309 non-null    int64\n",
            " 13  SWALLOWING DIFFICULTY  309 non-null    int64\n",
            " 14  CHEST PAIN             309 non-null    int64\n",
            " 15  LUNG_CANCER            309 non-null    int8 \n",
            "dtypes: int64(14), int8(2)\n",
            "memory usage: 34.5 KB\n"
          ]
        }
      ]
    },
    {
      "cell_type": "code",
      "source": [
        "# Menampilkan distribusi kelas variabel target\n",
        "class_distribution = df['LUNG_CANCER'].value_counts()"
      ],
      "metadata": {
        "id": "rCFuxwaOH2z9"
      },
      "execution_count": null,
      "outputs": []
    },
    {
      "cell_type": "code",
      "source": [
        "# 2. Visualisasi Data\n",
        "# Visualisasi distribusi umur pada penderita kanker dan non-kanker\n",
        "plt.figure(figsize=(10, 6))\n",
        "sns.histplot(data=df, x='AGE', hue='LUNG_CANCER', bins=30, kde=True)\n",
        "plt.title('Distribusi Umur pada Penderita Kanker dan Non-Kanker')\n",
        "plt.xlabel('Umur')\n",
        "plt.ylabel('Frekuensi')\n",
        "plt.show()"
      ],
      "metadata": {
        "colab": {
          "base_uri": "https://localhost:8080/",
          "height": 564
        },
        "id": "eKq2ErtOH-OW",
        "outputId": "443029d9-1fb0-4964-bfe5-bdae0a4b02ee"
      },
      "execution_count": null,
      "outputs": [
        {
          "output_type": "display_data",
          "data": {
            "text/plain": [
              "<Figure size 1000x600 with 1 Axes>"
            ],
            "image/png": "[encoded data removed]"
          },
          "metadata": {}
        }
      ]
    },
    {
      "cell_type": "code",
      "source": [
        "# 3. Korelasi antar variabel\n",
        "# Korelasi antara variabel numerik\n",
        "correlation_matrix = df.corr()"
      ],
      "metadata": {
        "id": "XP44UBvEIFJi"
      },
      "execution_count": null,
      "outputs": []
    },
    {
      "cell_type": "code",
      "source": [
        "# Korelasi antara variabel kategorikal\n",
        "cross_tab = pd.crosstab(df['GENDER'], df['LUNG_CANCER'])"
      ],
      "metadata": {
        "id": "RxFKw6W9INc5"
      },
      "execution_count": null,
      "outputs": []
    },
    {
      "cell_type": "code",
      "source": [
        "# 4. Analisis Pola\n",
        "# Pola hubungan antara merokok dan risiko kanker paru-paru\n",
        "smoking_cancer_pivot = df.pivot_table(index='SMOKING', columns='LUNG_CANCER', aggfunc='size', fill_value=0)"
      ],
      "metadata": {
        "id": "exqCUV7tIT6W"
      },
      "execution_count": null,
      "outputs": []
    },
    {
      "cell_type": "code",
      "source": [
        "# Menampilkan hasil analisis\n",
        "print(\"1. Analisis Statistik Deskriptif:\")\n",
        "print(numeric_summary)\n",
        "print(general_info)\n",
        "print(class_distribution)"
      ],
      "metadata": {
        "colab": {
          "base_uri": "https://localhost:8080/"
        },
        "id": "SbAVl5fjIboH",
        "outputId": "cb655938-51bd-418c-e466-d8f572e1ce48"
      },
      "execution_count": null,
      "outputs": [
        {
          "output_type": "stream",
          "name": "stdout",
          "text": [
            "1. Analisis Statistik Deskriptif:\n",
            "           GENDER         AGE     SMOKING  YELLOW_FINGERS     ANXIETY  \\\n",
            "count  309.000000  309.000000  309.000000      309.000000  309.000000   \n",
            "mean     0.524272   62.673139    1.563107        1.569579    1.498382   \n",
            "std      0.500221    8.210301    0.496806        0.495938    0.500808   \n",
            "min      0.000000   21.000000    1.000000        1.000000    1.000000   \n",
            "25%      0.000000   57.000000    1.000000        1.000000    1.000000   \n",
            "50%      1.000000   62.000000    2.000000        2.000000    1.000000   \n",
            "75%      1.000000   69.000000    2.000000        2.000000    2.000000   \n",
            "max      1.000000   87.000000    2.000000        2.000000    2.000000   \n",
            "\n",
            "       PEER_PRESSURE  CHRONIC DISEASE    FATIGUE     ALLERGY     WHEEZING  \\\n",
            "count     309.000000       309.000000  309.000000  309.000000  309.000000   \n",
            "mean        1.501618         1.504854    1.673139    1.556634    1.556634   \n",
            "std         0.500808         0.500787    0.469827    0.497588    0.497588   \n",
            "min         1.000000         1.000000    1.000000    1.000000    1.000000   \n",
            "25%         1.000000         1.000000    1.000000    1.000000    1.000000   \n",
            "50%         2.000000         2.000000    2.000000    2.000000    2.000000   \n",
            "75%         2.000000         2.000000    2.000000    2.000000    2.000000   \n",
            "max         2.000000         2.000000    2.000000    2.000000    2.000000   \n",
            "\n",
            "       ALCOHOL CONSUMING    COUGHING  SHORTNESS OF BREATH  \\\n",
            "count         309.000000  309.000000           309.000000   \n",
            "mean            1.556634    1.579288             1.640777   \n",
            "std             0.497588    0.494474             0.480551   \n",
            "min             1.000000    1.000000             1.000000   \n",
            "25%             1.000000    1.000000             1.000000   \n",
            "50%             2.000000    2.000000             2.000000   \n",
            "75%             2.000000    2.000000             2.000000   \n",
            "max             2.000000    2.000000             2.000000   \n",
            "\n",
            "       SWALLOWING DIFFICULTY  CHEST PAIN  LUNG_CANCER  \n",
            "count             309.000000  309.000000   309.000000  \n",
            "mean                1.469256    1.556634     0.873786  \n",
            "std                 0.499863    0.497588     0.332629  \n",
            "min                 1.000000    1.000000     0.000000  \n",
            "25%                 1.000000    1.000000     1.000000  \n",
            "50%                 1.000000    2.000000     1.000000  \n",
            "75%                 2.000000    2.000000     1.000000  \n",
            "max                 2.000000    2.000000     1.000000  \n",
            "None\n",
            "1    270\n",
            "0     39\n",
            "Name: LUNG_CANCER, dtype: int64\n"
          ]
        }
      ]
    },
    {
      "cell_type": "code",
      "source": [
        "print(\"\\n2. Visualisasi Data:\")\n",
        "# Visualisasi telah ditampilkan di atas\n",
        "\n",
        "print(\"\\n3. Korelasi antar variabel:\")\n",
        "print(\"Matiks Korelasi:\")\n",
        "print(correlation_matrix)\n",
        "print(\"\\nTabel Kontingensi (Cross-Tab) untuk GENDER dan LUNG_CANCER:\")\n",
        "print(cross_tab)"
      ],
      "metadata": {
        "colab": {
          "base_uri": "https://localhost:8080/"
        },
        "id": "qs_Zo7RpIfI8",
        "outputId": "b34505bc-caa6-4d5e-8906-90fe53598e99"
      },
      "execution_count": null,
      "outputs": [
        {
          "output_type": "stream",
          "name": "stdout",
          "text": [
            "\n",
            "2. Visualisasi Data:\n",
            "\n",
            "3. Korelasi antar variabel:\n",
            "Matiks Korelasi:\n",
            "                         GENDER       AGE   SMOKING  YELLOW_FINGERS   ANXIETY  \\\n",
            "GENDER                 1.000000  0.021306  0.036277       -0.212959 -0.152127   \n",
            "AGE                    0.021306  1.000000 -0.084475        0.005205  0.053170   \n",
            "SMOKING                0.036277 -0.084475  1.000000       -0.014585  0.160267   \n",
            "YELLOW_FINGERS        -0.212959  0.005205 -0.014585        1.000000  0.565829   \n",
            "ANXIETY               -0.152127  0.053170  0.160267        0.565829  1.000000   \n",
            "PEER_PRESSURE         -0.275564  0.018685 -0.042822        0.323083  0.216841   \n",
            "CHRONIC DISEASE       -0.204606 -0.012642 -0.141522        0.041122 -0.009678   \n",
            "FATIGUE               -0.083560  0.012614 -0.029575       -0.118058 -0.188538   \n",
            "ALLERGY                0.154251  0.027990  0.001913       -0.144300 -0.165750   \n",
            "WHEEZING               0.141207  0.055011 -0.129426       -0.078515 -0.191807   \n",
            "ALCOHOL CONSUMING      0.454268  0.058985 -0.050623       -0.289025 -0.165750   \n",
            "COUGHING               0.133303  0.169950 -0.129471       -0.012640 -0.225644   \n",
            "SHORTNESS OF BREATH   -0.064911 -0.017513  0.061264       -0.105944 -0.144077   \n",
            "SWALLOWING DIFFICULTY -0.078161 -0.001270  0.030718        0.345904  0.489403   \n",
            "CHEST PAIN             0.362958 -0.018104  0.120117       -0.104829 -0.113634   \n",
            "LUNG_CANCER            0.067254  0.089465  0.058179        0.181339  0.144947   \n",
            "\n",
            "                       PEER_PRESSURE  CHRONIC DISEASE  FATIGUE   ALLERGY   \\\n",
            "GENDER                     -0.275564        -0.204606 -0.083560  0.154251   \n",
            "AGE                         0.018685        -0.012642  0.012614  0.027990   \n",
            "SMOKING                    -0.042822        -0.141522 -0.029575  0.001913   \n",
            "YELLOW_FINGERS              0.323083         0.041122 -0.118058 -0.144300   \n",
            "ANXIETY                     0.216841        -0.009678 -0.188538 -0.165750   \n",
            "PEER_PRESSURE               1.000000         0.048515  0.078148 -0.081800   \n",
            "CHRONIC DISEASE             0.048515         1.000000 -0.110529  0.106386   \n",
            "FATIGUE                     0.078148        -0.110529  1.000000  0.003056   \n",
            "ALLERGY                    -0.081800         0.106386  0.003056  1.000000   \n",
            "WHEEZING                   -0.068771        -0.049967  0.141937  0.173867   \n",
            "ALCOHOL CONSUMING          -0.159973         0.002150 -0.191377  0.344339   \n",
            "COUGHING                   -0.089019        -0.175287  0.146856  0.189524   \n",
            "SHORTNESS OF BREATH        -0.220175        -0.026459  0.441745 -0.030056   \n",
            "SWALLOWING DIFFICULTY       0.366590         0.075176 -0.132790 -0.061508   \n",
            "CHEST PAIN                 -0.094828        -0.036938 -0.010832  0.239433   \n",
            "LUNG_CANCER                 0.186388         0.110891  0.150673  0.327766   \n",
            "\n",
            "                       WHEEZING  ALCOHOL CONSUMING  COUGHING  \\\n",
            "GENDER                 0.141207           0.454268  0.133303   \n",
            "AGE                    0.055011           0.058985  0.169950   \n",
            "SMOKING               -0.129426          -0.050623 -0.129471   \n",
            "YELLOW_FINGERS        -0.078515          -0.289025 -0.012640   \n",
            "ANXIETY               -0.191807          -0.165750 -0.225644   \n",
            "PEER_PRESSURE         -0.068771          -0.159973 -0.089019   \n",
            "CHRONIC DISEASE       -0.049967           0.002150 -0.175287   \n",
            "FATIGUE                0.141937          -0.191377  0.146856   \n",
            "ALLERGY                0.173867           0.344339  0.189524   \n",
            "WHEEZING               1.000000           0.265659  0.374265   \n",
            "ALCOHOL CONSUMING      0.265659           1.000000  0.202720   \n",
            "COUGHING               0.374265           0.202720  1.000000   \n",
            "SHORTNESS OF BREATH    0.037834          -0.179416  0.277385   \n",
            "SWALLOWING DIFFICULTY  0.069027          -0.009294 -0.157586   \n",
            "CHEST PAIN             0.147640           0.331226  0.083958   \n",
            "LUNG_CANCER            0.249300           0.288533  0.248570   \n",
            "\n",
            "                       SHORTNESS OF BREATH  SWALLOWING DIFFICULTY  CHEST PAIN  \\\n",
            "GENDER                           -0.064911              -0.078161    0.362958   \n",
            "AGE                              -0.017513              -0.001270   -0.018104   \n",
            "SMOKING                           0.061264               0.030718    0.120117   \n",
            "YELLOW_FINGERS                   -0.105944               0.345904   -0.104829   \n",
            "ANXIETY                          -0.144077               0.489403   -0.113634   \n",
            "PEER_PRESSURE                    -0.220175               0.366590   -0.094828   \n",
            "CHRONIC DISEASE                  -0.026459               0.075176   -0.036938   \n",
            "FATIGUE                           0.441745              -0.132790   -0.010832   \n",
            "ALLERGY                          -0.030056              -0.061508    0.239433   \n",
            "WHEEZING                          0.037834               0.069027    0.147640   \n",
            "ALCOHOL CONSUMING                -0.179416              -0.009294    0.331226   \n",
            "COUGHING                          0.277385              -0.157586    0.083958   \n",
            "SHORTNESS OF BREATH               1.000000              -0.161015    0.024256   \n",
            "SWALLOWING DIFFICULTY            -0.161015               1.000000    0.069027   \n",
            "CHEST PAIN                        0.024256               0.069027    1.000000   \n",
            "LUNG_CANCER                       0.060738               0.259730    0.190451   \n",
            "\n",
            "                       LUNG_CANCER  \n",
            "GENDER                    0.067254  \n",
            "AGE                       0.089465  \n",
            "SMOKING                   0.058179  \n",
            "YELLOW_FINGERS            0.181339  \n",
            "ANXIETY                   0.144947  \n",
            "PEER_PRESSURE             0.186388  \n",
            "CHRONIC DISEASE           0.110891  \n",
            "FATIGUE                   0.150673  \n",
            "ALLERGY                   0.327766  \n",
            "WHEEZING                  0.249300  \n",
            "ALCOHOL CONSUMING         0.288533  \n",
            "COUGHING                  0.248570  \n",
            "SHORTNESS OF BREATH       0.060738  \n",
            "SWALLOWING DIFFICULTY     0.259730  \n",
            "CHEST PAIN                0.190451  \n",
            "LUNG_CANCER               1.000000  \n",
            "\n",
            "Tabel Kontingensi (Cross-Tab) untuk GENDER dan LUNG_CANCER:\n",
            "LUNG_CANCER   0    1\n",
            "GENDER              \n",
            "0            22  125\n",
            "1            17  145\n"
          ]
        }
      ]
    },
    {
      "cell_type": "code",
      "source": [
        "print(\"\\n4. Analisis Pola:\")\n",
        "print(\"Pivot Table untuk Hubungan antara SMOKING dan LUNG_CANCER:\")\n",
        "print(smoking_cancer_pivot)"
      ],
      "metadata": {
        "colab": {
          "base_uri": "https://localhost:8080/"
        },
        "id": "WfiBJ4XCJjmm",
        "outputId": "6a7d9282-f659-4944-db27-e49c910ed914"
      },
      "execution_count": null,
      "outputs": [
        {
          "output_type": "stream",
          "name": "stdout",
          "text": [
            "\n",
            "4. Analisis Pola:\n",
            "Pivot Table untuk Hubungan antara SMOKING dan LUNG_CANCER:\n",
            "LUNG_CANCER   0    1\n",
            "SMOKING             \n",
            "1            20  115\n",
            "2            19  155\n"
          ]
        }
      ]
    },
    {
      "cell_type": "markdown",
      "source": [
        "#Algoritma CART"
      ],
      "metadata": {
        "id": "IDTRTl7GxdXz"
      }
    },
    {
      "cell_type": "code",
      "source": [
        "import pandas as pd\n",
        "from sklearn.model_selection import train_test_split\n",
        "from sklearn.tree import DecisionTreeClassifier, export_text\n",
        "from sklearn.metrics import accuracy_score, classification_report"
      ],
      "metadata": {
        "id": "1V6RoLCaJwpT"
      },
      "execution_count": null,
      "outputs": []
    },
    {
      "cell_type": "code",
      "source": [
        "# Membuat model Decision Tree (CART)\n",
        "dt_model = DecisionTreeClassifier(random_state=42)\n",
        "dt_model.fit(X_train, y_train)"
      ],
      "metadata": {
        "colab": {
          "base_uri": "https://localhost:8080/",
          "height": 75
        },
        "id": "DofMkt0-x3gE",
        "outputId": "8938931f-a692-4280-9a59-05fa2e43197e"
      },
      "execution_count": null,
      "outputs": [
        {
          "output_type": "execute_result",
          "data": {
            "text/plain": [
              "DecisionTreeClassifier(random_state=42)"
            ],
            "text/html": [
              "<style>#sk-container-id-2 {color: black;background-color: white;}#sk-container-id-2 pre{padding: 0;}#sk-container-id-2 div.sk-toggleable {background-color: white;}#sk-container-id-2 label.sk-toggleable__label {cursor: pointer;display: block;width: 100%;margin-bottom: 0;padding: 0.3em;box-sizing: border-box;text-align: center;}#sk-container-id-2 label.sk-toggleable__label-arrow:before {content: \"▸\";float: left;margin-right: 0.25em;color: #696969;}#sk-container-id-2 label.sk-toggleable__label-arrow:hover:before {color: black;}#sk-container-id-2 div.sk-estimator:hover label.sk-toggleable__label-arrow:before {color: black;}#sk-container-id-2 div.sk-toggleable__content {max-height: 0;max-width: 0;overflow: hidden;text-align: left;background-color: #f0f8ff;}#sk-container-id-2 div.sk-toggleable__content pre {margin: 0.2em;color: black;border-radius: 0.25em;background-color: #f0f8ff;}#sk-container-id-2 input.sk-toggleable__control:checked~div.sk-toggleable__content {max-height: 200px;max-width: 100%;overflow: auto;}#sk-container-id-2 input.sk-toggleable__control:checked~label.sk-toggleable__label-arrow:before {content: \"▾\";}#sk-container-id-2 div.sk-estimator input.sk-toggleable__control:checked~label.sk-toggleable__label {background-color: #d4ebff;}#sk-container-id-2 div.sk-label input.sk-toggleable__control:checked~label.sk-toggleable__label {background-color: #d4ebff;}#sk-container-id-2 input.sk-hidden--visually {border: 0;clip: rect(1px 1px 1px 1px);clip: rect(1px, 1px, 1px, 1px);height: 1px;margin: -1px;overflow: hidden;padding: 0;position: absolute;width: 1px;}#sk-container-id-2 div.sk-estimator {font-family: monospace;background-color: #f0f8ff;border: 1px dotted black;border-radius: 0.25em;box-sizing: border-box;margin-bottom: 0.5em;}#sk-container-id-2 div.sk-estimator:hover {background-color: #d4ebff;}#sk-container-id-2 div.sk-parallel-item::after {content: \"\";width: 100%;border-bottom: 1px solid gray;flex-grow: 1;}#sk-container-id-2 div.sk-label:hover label.sk-toggleable__label {background-color: #d4ebff;}#sk-container-id-2 div.sk-serial::before {content: \"\";position: absolute;border-left: 1px solid gray;box-sizing: border-box;top: 0;bottom: 0;left: 50%;z-index: 0;}#sk-container-id-2 div.sk-serial {display: flex;flex-direction: column;align-items: center;background-color: white;padding-right: 0.2em;padding-left: 0.2em;position: relative;}#sk-container-id-2 div.sk-item {position: relative;z-index: 1;}#sk-container-id-2 div.sk-parallel {display: flex;align-items: stretch;justify-content: center;background-color: white;position: relative;}#sk-container-id-2 div.sk-item::before, #sk-container-id-2 div.sk-parallel-item::before {content: \"\";position: absolute;border-left: 1px solid gray;box-sizing: border-box;top: 0;bottom: 0;left: 50%;z-index: -1;}#sk-container-id-2 div.sk-parallel-item {display: flex;flex-direction: column;z-index: 1;position: relative;background-color: white;}#sk-container-id-2 div.sk-parallel-item:first-child::after {align-self: flex-end;width: 50%;}#sk-container-id-2 div.sk-parallel-item:last-child::after {align-self: flex-start;width: 50%;}#sk-container-id-2 div.sk-parallel-item:only-child::after {width: 0;}#sk-container-id-2 div.sk-dashed-wrapped {border: 1px dashed gray;margin: 0 0.4em 0.5em 0.4em;box-sizing: border-box;padding-bottom: 0.4em;background-color: white;}#sk-container-id-2 div.sk-label label {font-family: monospace;font-weight: bold;display: inline-block;line-height: 1.2em;}#sk-container-id-2 div.sk-label-container {text-align: center;}#sk-container-id-2 div.sk-container {/* jupyter's `normalize.less` sets `[hidden] { display: none; }` but bootstrap.min.css set `[hidden] { display: none !important; }` so we also need the `!important` here to be able to override the default hidden behavior on the sphinx rendered scikit-learn.org. See: https://github.com/scikit-learn/scikit-learn/issues/21755 */display: inline-block !important;position: relative;}#sk-container-id-2 div.sk-text-repr-fallback {display: none;}</style><div id=\"sk-container-id-2\" class=\"sk-top-container\"><div class=\"sk-text-repr-fallback\"><pre>DecisionTreeClassifier(random_state=42)</pre><b>In a Jupyter environment, please rerun this cell to show the HTML representation or trust the notebook. <br />On GitHub, the HTML representation is unable to render, please try loading this page with nbviewer.org.</b></div><div class=\"sk-container\" hidden><div class=\"sk-item\"><div class=\"sk-estimator sk-toggleable\"><input class=\"sk-toggleable__control sk-hidden--visually\" id=\"sk-estimator-id-2\" type=\"checkbox\" checked><label for=\"sk-estimator-id-2\" class=\"sk-toggleable__label sk-toggleable__label-arrow\">DecisionTreeClassifier</label><div class=\"sk-toggleable__content\"><pre>DecisionTreeClassifier(random_state=42)</pre></div></div></div></div></div>"
            ]
          },
          "metadata": {},
          "execution_count": 48
        }
      ]
    },
    {
      "cell_type": "code",
      "source": [
        "# Membuat prediksi pada set pengujian\n",
        "y_pred = dt_model.predict(X_test)"
      ],
      "metadata": {
        "id": "eWwbxfO1x-Sc"
      },
      "execution_count": null,
      "outputs": []
    },
    {
      "cell_type": "code",
      "source": [
        "# Evaluasi model\n",
        "accuracy = accuracy_score(y_test, y_pred)\n",
        "print(f'Accuracy: {accuracy:.2f}\\n')"
      ],
      "metadata": {
        "colab": {
          "base_uri": "https://localhost:8080/"
        },
        "id": "4y6UPOXhyA81",
        "outputId": "f75b4389-e096-4606-8c55-c330a68fb579"
      },
      "execution_count": null,
      "outputs": [
        {
          "output_type": "stream",
          "name": "stdout",
          "text": [
            "Accuracy: 0.97\n",
            "\n"
          ]
        }
      ]
    },
    {
      "cell_type": "code",
      "source": [
        "# Menampilkan classification report\n",
        "print('Classification Report:')\n",
        "print(classification_report(y_test, y_pred))"
      ],
      "metadata": {
        "colab": {
          "base_uri": "https://localhost:8080/"
        },
        "id": "nNGYRnJeyDE3",
        "outputId": "0c126483-9001-4beb-d507-a99a3e93ab18"
      },
      "execution_count": null,
      "outputs": [
        {
          "output_type": "stream",
          "name": "stdout",
          "text": [
            "Classification Report:\n",
            "              precision    recall  f1-score   support\n",
            "\n",
            "           0       0.50      0.50      0.50         2\n",
            "           1       0.98      0.98      0.98        60\n",
            "\n",
            "    accuracy                           0.97        62\n",
            "   macro avg       0.74      0.74      0.74        62\n",
            "weighted avg       0.97      0.97      0.97        62\n",
            "\n"
          ]
        }
      ]
    },
    {
      "cell_type": "markdown",
      "source": [
        "#Hierarchical Clustering"
      ],
      "metadata": {
        "id": "NLrY2RTA2JFp"
      }
    },
    {
      "cell_type": "code",
      "source": [
        "import matplotlib.pyplot as plt\n",
        "from sklearn.cluster import AgglomerativeClustering\n",
        "from sklearn.preprocessing import LabelEncoder, StandardScaler\n",
        "from scipy.cluster.hierarchy import dendrogram, linkage"
      ],
      "metadata": {
        "id": "TqlfwsJbyGll"
      },
      "execution_count": null,
      "outputs": []
    },
    {
      "cell_type": "code",
      "source": [
        "# Normalisasi data\n",
        "scaler = StandardScaler()\n",
        "X_scaled = scaler.fit_transform(X)"
      ],
      "metadata": {
        "id": "Z13Kbtaf2l_E"
      },
      "execution_count": null,
      "outputs": []
    },
    {
      "cell_type": "code",
      "source": [
        "# Menggunakan metode linkage untuk menghitung jarak antar data\n",
        "linkage_matrix = linkage(X_scaled, method='ward')"
      ],
      "metadata": {
        "id": "UTpzHl2m2Yt-"
      },
      "execution_count": null,
      "outputs": []
    },
    {
      "cell_type": "code",
      "source": [
        "# Membuat dendrogram\n",
        "plt.figure(figsize=(12, 8))\n",
        "dendrogram(linkage_matrix, truncate_mode='level', p=3, color_threshold=None, above_threshold_color='grey')\n",
        "plt.title('Dendrogram Hierarchical Clustering')\n",
        "plt.xlabel('Data Points')\n",
        "plt.ylabel('Euclidean Distance')\n",
        "plt.show()"
      ],
      "metadata": {
        "colab": {
          "base_uri": "https://localhost:8080/",
          "height": 722
        },
        "id": "c-0wIeZ82dDx",
        "outputId": "9c829d83-d2ae-4a82-8cce-f25a711ae25e"
      },
      "execution_count": null,
      "outputs": [
        {
          "output_type": "display_data",
          "data": {
            "text/plain": [
              "<Figure size 1200x800 with 1 Axes>"
            ],
            "image/png": "[encoded data removed]"
          },
          "metadata": {}
        }
      ]
    },
    {
      "cell_type": "code",
      "source": [
        "# Menggunakan algoritma Agglomerative Clustering\n",
        "num_clusters = 4\n",
        "agg_cluster = AgglomerativeClustering(n_clusters=num_clusters, affinity='euclidean', linkage='ward')\n",
        "y_pred = agg_cluster.fit_predict(X_scaled)"
      ],
      "metadata": {
        "colab": {
          "base_uri": "https://localhost:8080/"
        },
        "id": "0io4RVL02r9F",
        "outputId": "38b4902f-c9f0-4267-98d9-f60f71b66b31"
      },
      "execution_count": null,
      "outputs": [
        {
          "output_type": "stream",
          "name": "stderr",
          "text": [
            "/usr/local/lib/python3.10/dist-packages/sklearn/cluster/_agglomerative.py:983: FutureWarning: Attribute `affinity` was deprecated in version 1.2 and will be removed in 1.4. Use `metric` instead\n",
            "  warnings.warn(\n"
          ]
        }
      ]
    },
    {
      "cell_type": "code",
      "source": [
        "# Menampilkan hasil pengelompokan\n",
        "result_df = pd.DataFrame({'Cluster': y_pred, 'LUNG_CANCER': y})\n",
        "print(result_df)"
      ],
      "metadata": {
        "colab": {
          "base_uri": "https://localhost:8080/"
        },
        "id": "BH9DFoOT2yHE",
        "outputId": "9799eb0b-740f-4aa6-985f-73783d3ec8fc"
      },
      "execution_count": null,
      "outputs": [
        {
          "output_type": "stream",
          "name": "stdout",
          "text": [
            "     Cluster  LUNG_CANCER\n",
            "0          0            1\n",
            "1          0            1\n",
            "2          0            0\n",
            "3          1            0\n",
            "4          0            0\n",
            "..       ...          ...\n",
            "304        0            1\n",
            "305        0            1\n",
            "306        0            1\n",
            "307        0            1\n",
            "308        0            1\n",
            "\n",
            "[309 rows x 2 columns]\n"
          ]
        }
      ]
    },
    {
      "cell_type": "code",
      "source": [
        "# Menyaring data yang bukan noise\n",
        "filtered_data = df[y_pred != -1]"
      ],
      "metadata": {
        "id": "H8CkwIIH-PBA"
      },
      "execution_count": null,
      "outputs": []
    },
    {
      "cell_type": "code",
      "source": [
        "# Menampilkan hasil pengelompokan\n",
        "result_df = pd.DataFrame({'Cluster': y_pred, 'LUNG_CANCER': y})\n",
        "print(result_df)"
      ],
      "metadata": {
        "colab": {
          "base_uri": "https://localhost:8080/"
        },
        "id": "p8tOSSdr-iW0",
        "outputId": "8df0dc06-9454-4cc6-d79f-29ba8e4fb1c2"
      },
      "execution_count": null,
      "outputs": [
        {
          "output_type": "stream",
          "name": "stdout",
          "text": [
            "     Cluster  LUNG_CANCER\n",
            "0          0            1\n",
            "1          0            1\n",
            "2          0            0\n",
            "3          1            0\n",
            "4          0            0\n",
            "..       ...          ...\n",
            "304        0            1\n",
            "305        0            1\n",
            "306        0            1\n",
            "307        0            1\n",
            "308        0            1\n",
            "\n",
            "[309 rows x 2 columns]\n"
          ]
        }
      ]
    },
    {
      "cell_type": "code",
      "source": [
        "df_map = pd.DataFrame(df)\n",
        "\n",
        "df_map.loc[df_map['GENDER'] == 2].head()"
      ],
      "metadata": {
        "colab": {
          "base_uri": "https://localhost:8080/",
          "height": 67
        },
        "id": "BqbRseK6ayNb",
        "outputId": "530844d7-b63f-4724-ff63-195870b4509a"
      },
      "execution_count": null,
      "outputs": [
        {
          "output_type": "execute_result",
          "data": {
            "text/plain": [
              "Empty DataFrame\n",
              "Columns: [GENDER, AGE, SMOKING, YELLOW_FINGERS, ANXIETY, PEER_PRESSURE, CHRONIC DISEASE, FATIGUE , ALLERGY , WHEEZING, ALCOHOL CONSUMING, COUGHING, SHORTNESS OF BREATH, SWALLOWING DIFFICULTY, CHEST PAIN, LUNG_CANCER]\n",
              "Index: []"
            ],
            "text/html": [
              "\n",
              "  <div id=\"df-8b2b4c3f-45fd-4cb3-9e04-6196b27ed45f\" class=\"colab-df-container\">\n",
              "    <div>\n",
              "<style scoped>\n",
              "    .dataframe tbody tr th:only-of-type {\n",
              "        vertical-align: middle;\n",
              "    }\n",
              "\n",
              "    .dataframe tbody tr th {\n",
              "        vertical-align: top;\n",
              "    }\n",
              "\n",
              "    .dataframe thead th {\n",
              "        text-align: right;\n",
              "    }\n",
              "</style>\n",
              "<table border=\"1\" class=\"dataframe\">\n",
              "  <thead>\n",
              "    <tr style=\"text-align: right;\">\n",
              "      <th></th>\n",
              "      <th>GENDER</th>\n",
              "      <th>AGE</th>\n",
              "      <th>SMOKING</th>\n",
              "      <th>YELLOW_FINGERS</th>\n",
              "      <th>ANXIETY</th>\n",
              "      <th>PEER_PRESSURE</th>\n",
              "      <th>CHRONIC DISEASE</th>\n",
              "      <th>FATIGUE</th>\n",
              "      <th>ALLERGY</th>\n",
              "      <th>WHEEZING</th>\n",
              "      <th>ALCOHOL CONSUMING</th>\n",
              "      <th>COUGHING</th>\n",
              "      <th>SHORTNESS OF BREATH</th>\n",
              "      <th>SWALLOWING DIFFICULTY</th>\n",
              "      <th>CHEST PAIN</th>\n",
              "      <th>LUNG_CANCER</th>\n",
              "    </tr>\n",
              "  </thead>\n",
              "  <tbody>\n",
              "  </tbody>\n",
              "</table>\n",
              "</div>\n",
              "    <div class=\"colab-df-buttons\">\n",
              "\n",
              "  <div class=\"colab-df-container\">\n",
              "    <button class=\"colab-df-convert\" onclick=\"convertToInteractive('df-8b2b4c3f-45fd-4cb3-9e04-6196b27ed45f')\"\n",
              "            title=\"Convert this dataframe to an interactive table.\"\n",
              "            style=\"display:none;\">\n",
              "\n",
              "  <svg xmlns=\"http://www.w3.org/2000/svg\" height=\"24px\" viewBox=\"0 -960 960 960\">\n",
              "    <path d=\"M120-120v-720h720v720H120Zm60-500h600v-160H180v160Zm220 220h160v-160H400v160Zm0 220h160v-160H400v160ZM180-400h160v-160H180v160Zm440 0h160v-160H620v160ZM180-180h160v-160H180v160Zm440 0h160v-160H620v160Z\"/>\n",
              "  </svg>\n",
              "    </button>\n",
              "\n",
              "  <style>\n",
              "    .colab-df-container {\n",
              "      display:flex;\n",
              "      gap: 12px;\n",
              "    }\n",
              "\n",
              "    .colab-df-convert {\n",
              "      background-color: #E8F0FE;\n",
              "      border: none;\n",
              "      border-radius: 50%;\n",
              "      cursor: pointer;\n",
              "      display: none;\n",
              "      fill: #1967D2;\n",
              "      height: 32px;\n",
              "      padding: 0 0 0 0;\n",
              "      width: 32px;\n",
              "    }\n",
              "\n",
              "    .colab-df-convert:hover {\n",
              "      background-color: #E2EBFA;\n",
              "      box-shadow: 0px 1px 2px rgba(60, 64, 67, 0.3), 0px 1px 3px 1px rgba(60, 64, 67, 0.15);\n",
              "      fill: #174EA6;\n",
              "    }\n",
              "\n",
              "    .colab-df-buttons div {\n",
              "      margin-bottom: 4px;\n",
              "    }\n",
              "\n",
              "    [theme=dark] .colab-df-convert {\n",
              "      background-color: #3B4455;\n",
              "      fill: #D2E3FC;\n",
              "    }\n",
              "\n",
              "    [theme=dark] .colab-df-convert:hover {\n",
              "      background-color: #434B5C;\n",
              "      box-shadow: 0px 1px 3px 1px rgba(0, 0, 0, 0.15);\n",
              "      filter: drop-shadow(0px 1px 2px rgba(0, 0, 0, 0.3));\n",
              "      fill: #FFFFFF;\n",
              "    }\n",
              "  </style>\n",
              "\n",
              "    <script>\n",
              "      const buttonEl =\n",
              "        document.querySelector('#df-8b2b4c3f-45fd-4cb3-9e04-6196b27ed45f button.colab-df-convert');\n",
              "      buttonEl.style.display =\n",
              "        google.colab.kernel.accessAllowed ? 'block' : 'none';\n",
              "\n",
              "      async function convertToInteractive(key) {\n",
              "        const element = document.querySelector('#df-8b2b4c3f-45fd-4cb3-9e04-6196b27ed45f');\n",
              "        const dataTable =\n",
              "          await google.colab.kernel.invokeFunction('convertToInteractive',\n",
              "                                                    [key], {});\n",
              "        if (!dataTable) return;\n",
              "\n",
              "        const docLinkHtml = 'Like what you see? Visit the ' +\n",
              "          '<a target=\"_blank\" href=https://colab.research.google.com/notebooks/data_table.ipynb>data table notebook</a>'\n",
              "          + ' to learn more about interactive tables.';\n",
              "        element.innerHTML = '';\n",
              "        dataTable['output_type'] = 'display_data';\n",
              "        await google.colab.output.renderOutput(dataTable, element);\n",
              "        const docLink = document.createElement('div');\n",
              "        docLink.innerHTML = docLinkHtml;\n",
              "        element.appendChild(docLink);\n",
              "      }\n",
              "    </script>\n",
              "  </div>\n",
              "\n",
              "    </div>\n",
              "  </div>\n"
            ]
          },
          "metadata": {},
          "execution_count": 60
        }
      ]
    },
    {
      "cell_type": "code",
      "source": [
        "import pandas as pd\n",
        "\n",
        "# Misalkan df adalah DataFrame Anda\n",
        "df_map = pd.DataFrame(df)\n",
        "\n",
        "# Menampilkan semua  isi kolom menggunakan df_map.loc\n",
        "print(df_map.loc[:, :].head())"
      ],
      "metadata": {
        "colab": {
          "base_uri": "https://localhost:8080/"
        },
        "id": "kguG9Ck2FOXm",
        "outputId": "013bcd3c-5b1e-41f9-a638-dd81967e659c"
      },
      "execution_count": null,
      "outputs": [
        {
          "output_type": "stream",
          "name": "stdout",
          "text": [
            "   GENDER  AGE  SMOKING  YELLOW_FINGERS  ANXIETY  PEER_PRESSURE  \\\n",
            "0       1   69        1               2        2              1   \n",
            "1       1   74        2               1        1              1   \n",
            "2       0   59        1               1        1              2   \n",
            "3       1   63        2               2        2              1   \n",
            "4       0   63        1               2        1              1   \n",
            "\n",
            "   CHRONIC DISEASE  FATIGUE   ALLERGY   WHEEZING  ALCOHOL CONSUMING  COUGHING  \\\n",
            "0                1         2         1         2                  2         2   \n",
            "1                2         2         2         1                  1         1   \n",
            "2                1         2         1         2                  1         2   \n",
            "3                1         1         1         1                  2         1   \n",
            "4                1         1         1         2                  1         2   \n",
            "\n",
            "   SHORTNESS OF BREATH  SWALLOWING DIFFICULTY  CHEST PAIN  LUNG_CANCER  \n",
            "0                    2                      2           2            1  \n",
            "1                    2                      2           2            1  \n",
            "2                    2                      1           2            0  \n",
            "3                    1                      2           2            0  \n",
            "4                    2                      1           1            0  \n"
          ]
        }
      ]
    },
    {
      "cell_type": "markdown",
      "source": [
        "#Clustering Evaluation"
      ],
      "metadata": {
        "id": "xzY8OylEPyRl"
      }
    },
    {
      "cell_type": "code",
      "source": [
        "from sklearn.preprocessing import StandardScaler\n",
        "from sklearn.metrics import silhouette_score, davies_bouldin_score\n",
        "from sklearn.metrics import pairwise_distances\n",
        "import matplotlib.pyplot as plt"
      ],
      "metadata": {
        "id": "VXVkpYhx-rly"
      },
      "execution_count": null,
      "outputs": []
    },
    {
      "cell_type": "code",
      "source": [
        "# Evaluasi dengan Silhouette Score\n",
        "silhouette_hierarchical = silhouette_score(X_scaled, y_pred)"
      ],
      "metadata": {
        "id": "5_P9KTnOQi2_"
      },
      "execution_count": null,
      "outputs": []
    },
    {
      "cell_type": "code",
      "source": [
        "# Evaluasi dengan Davies-Bouldin Index\n",
        "davies_bouldin_hierarchical = davies_bouldin_score(X_scaled, y_pred)"
      ],
      "metadata": {
        "id": "tDTyH5edQmSW"
      },
      "execution_count": null,
      "outputs": []
    },
    {
      "cell_type": "code",
      "source": [
        "print(\"Silhouette Score (Hierarchical Clustering):\", silhouette_hierarchical)"
      ],
      "metadata": {
        "colab": {
          "base_uri": "https://localhost:8080/"
        },
        "id": "22e7gaH5Ro2W",
        "outputId": "f0d782a4-235d-425b-fd25-88ab272116ad"
      },
      "execution_count": null,
      "outputs": [
        {
          "output_type": "stream",
          "name": "stdout",
          "text": [
            "Silhouette Score (Hierarchical Clustering): 0.1255417839935215\n"
          ]
        }
      ]
    },
    {
      "cell_type": "code",
      "source": [
        "print(\"Davies-Bouldin Index (Hierarchical Clustering):\", davies_bouldin_hierarchical)"
      ],
      "metadata": {
        "colab": {
          "base_uri": "https://localhost:8080/"
        },
        "id": "zHfir7-C2XhB",
        "outputId": "fd38b2aa-8e49-497c-f990-bd103c406bcb"
      },
      "execution_count": null,
      "outputs": [
        {
          "output_type": "stream",
          "name": "stdout",
          "text": [
            "Davies-Bouldin Index (Hierarchical Clustering): 1.9788570213024317\n"
          ]
        }
      ]
    },
    {
      "cell_type": "code",
      "source": [
        "# Evaluasi dengan Calinski-Harabasz Index\n",
        "from sklearn.metrics import calinski_harabasz_score\n",
        "calinski_hierarchical = calinski_harabasz_score(X_scaled, y_pred)\n",
        "\n",
        "print(\"Calinski-Harabasz Index (Hierarchical Clustering):\", calinski_hierarchical)"
      ],
      "metadata": {
        "colab": {
          "base_uri": "https://localhost:8080/"
        },
        "id": "eEJsqrzTRuC1",
        "outputId": "fcc5e1e1-7a1b-46fa-93c0-a6ae30769248"
      },
      "execution_count": null,
      "outputs": [
        {
          "output_type": "stream",
          "name": "stdout",
          "text": [
            "Calinski-Harabasz Index (Hierarchical Clustering): 33.28082774288517\n"
          ]
        }
      ]
    },
    {
      "cell_type": "code",
      "source": [
        "# Ground Truth (contoh, dapat diganti dengan label sesuai dengan dataset Anda)\n",
        "ground_truth_labels = df['LUNG_CANCER']"
      ],
      "metadata": {
        "id": "ByzOQJIQTUWw"
      },
      "execution_count": null,
      "outputs": []
    },
    {
      "cell_type": "code",
      "source": [
        "# Evaluasi dengan Rand Score\n",
        "from sklearn.metrics import adjusted_rand_score\n",
        "rand_score_hierarchical = adjusted_rand_score(ground_truth_labels, y_pred)\n",
        "\n",
        "print(\"Adjusted Rand Score (Hierarchical Clustering):\", rand_score_hierarchical)"
      ],
      "metadata": {
        "colab": {
          "base_uri": "https://localhost:8080/"
        },
        "id": "TD1eEeH-So_z",
        "outputId": "090eee2b-c79c-4f1b-87f3-2721be7a2327"
      },
      "execution_count": null,
      "outputs": [
        {
          "output_type": "stream",
          "name": "stdout",
          "text": [
            "Adjusted Rand Score (Hierarchical Clustering): 0.07270677772119524\n"
          ]
        }
      ]
    },
    {
      "cell_type": "code",
      "source": [],
      "metadata": {
        "id": "D0KJYKWcTOz3"
      },
      "execution_count": null,
      "outputs": []
    }
  ]
}